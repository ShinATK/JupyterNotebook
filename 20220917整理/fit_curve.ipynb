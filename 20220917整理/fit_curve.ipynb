{
 "cells": [
  {
   "cell_type": "code",
   "execution_count": 5,
   "metadata": {},
   "outputs": [],
   "source": [
    "import matplotlib.pyplot as plt\n",
    "from scipy.optimize import curve_fit\n",
    "import numpy as np\n",
    "import os\n",
    "\n",
    "def my_fit(seeds):\n",
    "    file_name_num = []\n",
    "    for each in os.listdir('电导数据/')[1:]:\n",
    "        file_name_num.append(\"\".join(list(filter(str.isdigit, each))))\n",
    "\n",
    "    def read_G(file_len):\n",
    "        GD = []\n",
    "        GP = []\n",
    "\n",
    "        f_P = open('ryx-GP.txt', 'r')\n",
    "        f_D = open('ryx-GD.txt', 'r')\n",
    "        for each_P in f_P:\n",
    "            GP.append(float(each_P.replace('\\n', '')))\n",
    "        for each_D in f_D:\n",
    "            GD.append(float(each_D.replace('\\n', '')))\n",
    "        \n",
    "        # return np.array(GP), np.array(GD)\n",
    "        return abs(np.array(GP)), abs(np.array(GD))\n",
    "\n",
    "    # while True:\n",
    "    #     G_num = input('输入电导数据个数(退出输入：quit)：')\n",
    "    #     if G_num == 'quit':\n",
    "    #         quit_this = 1\n",
    "    #         print('程序退出')\n",
    "    #         break\n",
    "    #     elif G_num.isdigit() == True:\n",
    "    #         if G_num in file_name_num:\n",
    "    #             break\n",
    "    #         else:\n",
    "    #             print(f'文件夹内不存在{G_num}个数的电导数据文件！')\n",
    "    #             print('请重新输入电导数据个数！')\n",
    "    #             continue\n",
    "    #     else:\n",
    "    #         print('请正确输入电导数据个数（数字）!')\n",
    "    #         continue\n",
    "\n",
    "    G_num = 55\n",
    "\n",
    "    GP_tmp, GD_tmp = read_G(int(G_num))\n",
    "\n",
    "    # GP = (GP_tmp+0.2)/0.3\n",
    "    # GD = (GD_tmp+0.2)/0.3\n",
    "\n",
    "    GP = (GP_tmp)/max(GP_tmp)\n",
    "    GD = GD_tmp/(max(GD_tmp))\n",
    "    # GP = GP_tmp\n",
    "    # GD = GD_tmp\n",
    "\n",
    "    P = np.arange(1, int(G_num), 1)\n",
    "\n",
    "    GPmax = max(GP)\n",
    "    GPmin = min(GP)\n",
    "    GDmax = max(GD)\n",
    "    GDmin = min(GD)\n",
    "    xP = GP[:-1]\n",
    "    yP = GP[1:]\n",
    "    xD = GD[:-1]\n",
    "    yD = GD[1:]\n",
    "\n",
    "    # np.savetxt('GP_ori.txt', GP)\n",
    "    # np.savetxt('GD_ori.txt', GD)\n",
    "\n",
    "    # 电导拟合公式 其中aP，aD代表对应部分的步长，bP与bD为非线性度\n",
    "    # 主要是为了获得非线性度\n",
    "    def delt_GP(xP, aP, bP):\n",
    "        yP = xP + aP * np.exp(-bP * ((xP - GPmin) / (GPmax - GPmin)))\n",
    "        return yP\n",
    "    def delt_GD(xD, aD, bD):\n",
    "        yD = xD - aD * np.exp(-bD * ((GDmax - xD) / (GDmax - GDmin)))\n",
    "        return yD\n",
    "\n",
    "\n",
    "    np.random.seed(seeds)\n",
    "    def curve_fit_GP(P, xP, yP, save_path='GP%d.png'):\n",
    "        # yP 段拟合数据\n",
    "        while True:\n",
    "            err_stdev = 0 # 0.2\n",
    "            yP_noise = err_stdev * np.random.normal(size=yP.size)\n",
    "            yP_data = yP + yP_noise\n",
    "            popt, pcov = curve_fit(delt_GP, xP, yP_data)#训练函数\n",
    "            aP = popt[0]\n",
    "            bP = popt[1]\n",
    "            if bP < 0:\n",
    "                continue\n",
    "            else:\n",
    "                break\n",
    "        yPvals=delt_GP(xP, aP, bP)\n",
    "        plt.plot(P, yP, '*',label='original values')\n",
    "        plt.plot(P, yPvals, 'r',label='curve_fit values')\n",
    "        plt.ylim(0, 1)\n",
    "        plt.xlabel('P axis')\n",
    "        plt.ylabel('GP axis')\n",
    "        plt.legend(loc=4)\n",
    "        plt.title('curve_fit aP = %0.2f, bP = %0.2f' %(aP, bP))\n",
    "        # plt.savefig(save_path%int(G_num), dpi=720)\n",
    "        plt.show()\n",
    "        return yPvals\n",
    "\n",
    "    def curve_fit_GD(P, xD, yD, save_path='GD%d.png'):\n",
    "        # yD 段拟合数据\n",
    "        while True:\n",
    "            err_stdev = 0 # 0.2\n",
    "            yD_noise = err_stdev * np.random.normal(size=xD.size)\n",
    "            yD_data = yD + yD_noise\n",
    "            popt, pcov = curve_fit(delt_GD, xD, yD_data)#训练函数\n",
    "            aD = popt[0]\n",
    "            bD = popt[1]\n",
    "            if bD < 0:\n",
    "                continue\n",
    "            else:\n",
    "                break\n",
    "        yDvals=delt_GD(xD, aD, bD)\n",
    "        plt.plot(P, yD, '*',label='original values')\n",
    "        plt.plot(P, yDvals, 'r',label='curve_fit values')\n",
    "        plt.ylim(0, 1)\n",
    "        plt.xlabel('P axis')\n",
    "        plt.ylabel('GD axis')\n",
    "        plt.legend(loc=3)\n",
    "        plt.title('curve_fit aD = %0.2f, bD = %0.2f' %(aD, bD))\n",
    "        # plt.savefig(save_path%int(G_num), dpi=720)\n",
    "        plt.show()\n",
    "        return yDvals\n",
    "\n",
    "    \"\"\"\n",
    "    函数说明：将电导数据归一化处理\n",
    "    Parameters：\n",
    "        xP, xD - 电导数据\n",
    "        aP, aD - 步长\n",
    "        bP. bD - 非线性度\n",
    "    Result:\n",
    "        yP, yD - 下一个电导数据\n",
    "    \"\"\"\n",
    "    # def norm_GP(xP, aP, bP, GPmax, GPmin):\n",
    "    #     yP = ((xP + aP * np.exp(-bP * ((xP - GPmin) / (GPmax - GPmin))) - GPmin) / (GPmax - GPmin) - 0.5) / 0.5\n",
    "    #     return yP\n",
    "    # def norm_GD(xD, aD, bD, GDmax, GDmin):\n",
    "    #     yD = ((xD - aD * np.exp(-bD * ((GDmax - xD) / (GDmax - GDmin))) - GDmin) / (GDmax - GDmin) - 0.5) / 0.5\n",
    "    #     return yD\n",
    "    # 生成归一化后的电导数据图像\n",
    "    # normGP = norm_GP(xP, 2.61, 0.08)\n",
    "    # plt.plot(P, normGP)\n",
    "    # plt.show()\n",
    "    # normGD = norm_GD(xD, -7.09, 1.86)\n",
    "    # plt.plot(P, normGD)\n",
    "    # plt.show()\n",
    "\n",
    "    yDvals = curve_fit_GD(P, xD, yD)\n",
    "    yPvals = curve_fit_GP(P, xP, yP)\n",
    "\n",
    "    plt.plot(GP, label='GP')\n",
    "    plt.plot(GD, label='GD')\n",
    "    plt.ylim(0, 1.1)\n",
    "    plt.legend()\n",
    "    plt.show()\n",
    "    return yPvals, yDvals"
   ]
  },
  {
   "cell_type": "code",
   "execution_count": 6,
   "metadata": {},
   "outputs": [
    {
     "data": {
      "image/png": "[encoded data removed]",
      "text/plain": [
       "<Figure size 432x288 with 1 Axes>"
      ]
     },
     "metadata": {
      "needs_background": "light"
     },
     "output_type": "display_data"
    },
    {
     "data": {
      "image/png": "[encoded data removed]",
      "text/plain": [
       "<Figure size 432x288 with 1 Axes>"
      ]
     },
     "metadata": {
      "needs_background": "light"
     },
     "output_type": "display_data"
    },
    {
     "data": {
      "image/png": "[encoded data removed]",
      "text/plain": [
       "<Figure size 432x288 with 1 Axes>"
      ]
     },
     "metadata": {
      "needs_background": "light"
     },
     "output_type": "display_data"
    }
   ],
   "source": [
    "yPvals, yDvals = my_fit(0)"
   ]
  },
  {
   "cell_type": "code",
   "execution_count": 17,
   "metadata": {},
   "outputs": [],
   "source": [
    "# np.savetxt('GP curve_fit values.txt', yPvals)\n",
    "# np.savetxt('GD curve_fit values.txt', yDvals)"
   ]
  },
  {
   "cell_type": "code",
   "execution_count": 3,
   "metadata": {},
   "outputs": [
    {
     "name": "stdout",
     "output_type": "stream",
     "text": [
      "yP max:1.0006109803333332, min:0.7545657147637626\n",
      "yD max:0.9723842139243896, min:0.7240888983997233\n"
     ]
    }
   ],
   "source": [
    "print(f\"yP max:{max(yPvals)}, min:{min(yPvals)}\")\n",
    "print(f\"yD max:{max(yDvals)}, min:{min(yDvals)}\")"
   ]
  },
  {
   "cell_type": "code",
   "execution_count": null,
   "metadata": {
    "scrolled": true
   },
   "outputs": [],
   "source": [
    "# import numpy as np\n",
    "# import matplotlib.pyplot as plt\n",
    "\n",
    "# w_ini = np.loadtxt('w_inital.txt')\n",
    "# w_6 = np.loadtxt('w6_wx.txt')\n",
    "\n",
    "\n",
    "# plt.imshow(w_6, cmap='Blues')\n",
    "# plt.axis('off')\n",
    "# plt.savefig('w_6.png', bbox_inches='tight', pad_inches=0, format='png', dpi=720)"
   ]
  },
  {
   "cell_type": "code",
   "execution_count": null,
   "metadata": {},
   "outputs": [],
   "source": []
  }
 ],
 "metadata": {
  "kernelspec": {
   "display_name": "Python 3 (ipykernel)",
   "language": "python",
   "name": "python3"
  },
  "language_info": {
   "codemirror_mode": {
    "name": "ipython",
    "version": 3
   },
   "file_extension": ".py",
   "mimetype": "text/x-python",
   "name": "python",
   "nbconvert_exporter": "python",
   "pygments_lexer": "ipython3",
   "version": "3.8.5"
  },
  "vscode": {
   "interpreter": {
    "hash": "77f56f57217d58f2637a78f43068bb82a198c4b9b7dc36d7b5b03538627b73d0"
   }
  }
 },
 "nbformat": 4,
 "nbformat_minor": 2
}
