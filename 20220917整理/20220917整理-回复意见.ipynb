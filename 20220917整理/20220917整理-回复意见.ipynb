{
 "cells": [
  {
   "cell_type": "markdown",
   "metadata": {},
   "source": [
    "#### 激活函数\n",
    "- 旧模型  \n",
    "    输入层 -> 隐藏层 -> 输出层  \n",
    "    输入/隐藏层 激活函数: $$ tanh(x) = \\frac{e^{x}-e^{-x}}{e^{x}+e^{-x}} $$\n",
    "    输出函数: $$ softmax(x) =  \\frac{e^{x_i}}{\\sum{e^{x_j}}}$$"
   ]
  },
  {
   "cell_type": "markdown",
   "metadata": {},
   "source": [
    "#### 反向传播\n",
    "- 旧模型  \n",
    "    $ w $:          模型权重  \n",
    "    $ b $:          模型偏执  \n",
    "    $ y_{pred} $:   预测结果  \n",
    "    $ y_{lab} $:    实际结果  \n",
    "    $ i $:          样本角标   \n",
    "    $ n $:          样本总数(60,000)  \n",
    "    $ Loss $:       损失函数  \n",
    "    $$ Loss = \\sum_{i=0}^{n}{(y_{lab}^{i}-y_{pred}^{i})^{2}}$$  \n",
    "    损失函数意义：计算模型对每个样本的预测结果与实际结果之差的平方，再对样本整体进行求和。反映了模型对整个样本集的预测偏差程度。\n",
    "\n",
    "    反向传播目的：计算合适的w和b，使得损失函数尽可能维持在极小值附近。  \n",
    "    记\n",
    "    $$ \\mathrm{d} w = \\frac{\\mathrm{d} Loss}{\\mathrm{d} w}  $$\n",
    "    $$ \\mathrm{d} b = \\frac{\\mathrm{d} Loss}{\\mathrm{d} b}  $$\n",
    "    在神经网络模型中，权重的更新方式为如下：\n",
    "    为方便解释，这里假设w为一维。  \n",
    "    如果dw>0，证明此时w位于Loss函数的极小值点右侧，需要将w向左侧移动，即减小，权重更新方式为 w = w - learning_rate * dw；  \n",
    "    如果dw<0，证明此时w位于Loss函数的极小值点左侧，需要将w向右侧移动，即增加，权重更新方式为 w = w + learning_rate * dw。  \n",
    "    参数b更新方式同理。其中 learning_rate 为模型的学习率，作为调整单次更新的步长。  \n",
    "    参考这一更新方式与电导拟合公式，\n",
    "    $$ \\mathrm{d}G_{p}  = \\alpha_{p} e^{\\beta_{p}\\frac{G_{p}-G_{min}}{G_{max}-G_{min}}} $$\n",
    "    $$ \\mathrm{d}G_{d}  = \\alpha_{d} e^{\\beta_{d}\\frac{G_{max}-G_{d}}{G_{max}-G_{min}}} $$\n",
    "    通过模型计算dw正/负，确定电导减小/增加方向，减小时参照$\\mathrm{d}G_{d}$，增加时参照$\\mathrm{d}G_{p}"
   ]
  },
  {
   "cell_type": "markdown",
   "metadata": {},
   "source": [
    "#### 非线性度拟合"
   ]
  },
  {
   "cell_type": "code",
   "execution_count": 140,
   "metadata": {},
   "outputs": [],
   "source": [
    "import matplotlib.pyplot as plt\n",
    "from scipy.optimize import curve_fit\n",
    "import numpy as np\n",
    "import os\n",
    "\n",
    "def my_fit(seeds):\n",
    "    file_name_num = []\n",
    "    for each in os.listdir('电导数据/')[1:]:\n",
    "        file_name_num.append(\"\".join(list(filter(str.isdigit, each))))\n",
    "\n",
    "    def read_G(file_len):\n",
    "        GD = []\n",
    "        GP = []\n",
    "\n",
    "        f_P = open('./电导数据/' + str(file_len) + '权重GP.txt', 'r')\n",
    "        f_D = open('./电导数据/'+ str(file_len) + '权重GD.txt', 'r')\n",
    "        for each_P in f_P:\n",
    "            GP.append(float(each_P.replace('\\n', '')))\n",
    "        for each_D in f_D:\n",
    "            GD.append(float(each_D.replace('\\n', '')))\n",
    "        \n",
    "        # return np.array(GP), np.array(GD)\n",
    "        return abs(np.array(GP)), abs(np.array(GD))\n",
    "\n",
    "    # while True:\n",
    "    #     G_num = input('输入电导数据个数(退出输入：quit)：')\n",
    "    #     if G_num == 'quit':\n",
    "    #         quit_this = 1\n",
    "    #         print('程序退出')\n",
    "    #         break\n",
    "    #     elif G_num.isdigit() == True:\n",
    "    #         if G_num in file_name_num:\n",
    "    #             break\n",
    "    #         else:\n",
    "    #             print(f'文件夹内不存在{G_num}个数的电导数据文件！')\n",
    "    #             print('请重新输入电导数据个数！')\n",
    "    #             continue\n",
    "    #     else:\n",
    "    #         print('请正确输入电导数据个数（数字）!')\n",
    "    #         continue\n",
    "\n",
    "    G_num = 50\n",
    "\n",
    "    GP_tmp, GD_tmp = read_G(int(G_num))\n",
    "\n",
    "    # GP = (GP_tmp+0.2)/0.3\n",
    "    # GD = (GD_tmp+0.2)/0.3\n",
    "\n",
    "    GP = GP_tmp/max(GP_tmp)\n",
    "    GD = GD_tmp/max(GD_tmp)\n",
    "\n",
    "    P = np.arange(1, int(G_num), 1)\n",
    "\n",
    "    GPmax = max(GP)\n",
    "    GPmin = min(GP)\n",
    "    GDmax = max(GD)\n",
    "    GDmin = min(GD)\n",
    "    xP = GP[:-1]\n",
    "    yP = GP[1:]\n",
    "    xD = GD[:-1]\n",
    "    yD = GD[1:]\n",
    "\n",
    "    # 电导拟合公式 其中aP，aD代表对应部分的步长，bP与bD为非线性度\n",
    "    # 主要是为了获得非线性度\n",
    "    def delt_GP(xP, bP, aP=1e-2):\n",
    "        yP = xP + aP * np.exp(-bP * ((xP - GPmin) / (GPmax - GPmin)))\n",
    "        return yP\n",
    "    def delt_GD(xD, bD, aD=1e-2):\n",
    "        yD = xD - aD * np.exp(-bD * ((GDmax - xD) / (GDmax - GDmin)))\n",
    "        return yD\n",
    "\n",
    "\n",
    "    np.random.seed(seeds)\n",
    "    def curve_fit_GP(P, xP, yP, save_path='./Fit_curve/GP%d.png'):\n",
    "        # yP 段拟合数据\n",
    "        while True:\n",
    "            err_stdev = 0 # 0.2\n",
    "            yP_noise = err_stdev * np.random.normal(size=yP.size)\n",
    "            yP_data = yP + yP_noise\n",
    "            popt, pcov = curve_fit(delt_GP, xP, yP_data)#训练函数\n",
    "            bP = popt[0]\n",
    "            # bP = popt[1]\n",
    "            if bP < 0:\n",
    "                continue\n",
    "            else:\n",
    "                break\n",
    "        yPvals=delt_GP(xP, bP)\n",
    "        plt.plot(P, yP, '*',label='original values')\n",
    "        plt.plot(P, yPvals, 'r',label='curve_fit values')\n",
    "        plt.xlabel('P axis')\n",
    "        plt.ylabel('GP axis')\n",
    "        plt.legend(loc=4)\n",
    "        plt.title('curve_fit aP = %0.2f, bP = %0.2f' %(1e-2, bP))\n",
    "        # plt.savefig(save_path%int(G_num), dpi=720)\n",
    "        plt.show()\n",
    "        return yPvals\n",
    "\n",
    "    def curve_fit_GD(P, xD, yD, save_path='./Fit_curve/GD%d.png'):\n",
    "        # yD 段拟合数据\n",
    "        while True:\n",
    "            err_stdev = 0 # 0.2\n",
    "            yD_noise = err_stdev * np.random.normal(size=xD.size)\n",
    "            yD_data = yD + yD_noise\n",
    "            popt, pcov = curve_fit(delt_GD, xD, yD_data)#训练函数\n",
    "            # aD = popt[0]\n",
    "            bD = popt[0]\n",
    "            if bD < 0:\n",
    "                continue\n",
    "            else:\n",
    "                break\n",
    "        yDvals=delt_GD(xD, bD)\n",
    "        plt.plot(P, yD, '*',label='original values')\n",
    "        plt.plot(P, yDvals, 'r',label='curve_fit values')\n",
    "        plt.xlabel('P axis')\n",
    "        plt.ylabel('GD axis')\n",
    "        plt.legend(loc=3)\n",
    "        plt.title('curve_fit aD = %0.2f, bD = %0.2f' %(1e-2, bD))\n",
    "        # plt.savefig(save_path%int(G_num), dpi=720)\n",
    "        plt.show()\n",
    "        return yDvals\n",
    "\n",
    "    \"\"\"\n",
    "    函数说明：将电导数据归一化处理\n",
    "    Parameters：\n",
    "        xP, xD - 电导数据\n",
    "        aP, aD - 步长\n",
    "        bP. bD - 非线性度\n",
    "    Result:\n",
    "        yP, yD - 下一个电导数据\n",
    "    \"\"\"\n",
    "    # def norm_GP(xP, aP, bP, GPmax, GPmin):\n",
    "    #     yP = ((xP + aP * np.exp(-bP * ((xP - GPmin) / (GPmax - GPmin))) - GPmin) / (GPmax - GPmin) - 0.5) / 0.5\n",
    "    #     return yP\n",
    "    # def norm_GD(xD, aD, bD, GDmax, GDmin):\n",
    "    #     yD = ((xD - aD * np.exp(-bD * ((GDmax - xD) / (GDmax - GDmin))) - GDmin) / (GDmax - GDmin) - 0.5) / 0.5\n",
    "    #     return yD\n",
    "    # 生成归一化后的电导数据图像\n",
    "    # normGP = norm_GP(xP, 2.61, 0.08)\n",
    "    # plt.plot(P, normGP)\n",
    "    # plt.show()\n",
    "    # normGD = norm_GD(xD, -7.09, 1.86)\n",
    "    # plt.plot(P, normGD)\n",
    "    # plt.show()\n",
    "\n",
    "    yDvals = curve_fit_GD(P, xD, yD)\n",
    "    yPvals = curve_fit_GP(P, xP, yP)\n",
    "\n",
    "    # plt.plot(GP, label='GP')\n",
    "    # plt.plot(GD, label='GD')\n",
    "    # plt.legend()\n",
    "    # plt.show()\n",
    "    return yPvals, yDvals"
   ]
  },
  {
   "cell_type": "code",
   "execution_count": 141,
   "metadata": {},
   "outputs": [
    {
     "data": {
      "image/png": "[encoded data removed]",
      "text/plain": [
       "<Figure size 432x288 with 1 Axes>"
      ]
     },
     "metadata": {
      "needs_background": "light"
     },
     "output_type": "display_data"
    },
    {
     "data": {
      "image/png": "[encoded data removed]",
      "text/plain": [
       "<Figure size 432x288 with 1 Axes>"
      ]
     },
     "metadata": {
      "needs_background": "light"
     },
     "output_type": "display_data"
    }
   ],
   "source": [
    "yPvals, yDvals = my_fit(0)"
   ]
  },
  {
   "cell_type": "code",
   "execution_count": 142,
   "metadata": {},
   "outputs": [],
   "source": [
    "np.savetxt('GP curve_fit values.txt', yPvals)\n",
    "np.savetxt('GD curve_fit values.txt', yDvals)"
   ]
  },
  {
   "cell_type": "code",
   "execution_count": 144,
   "metadata": {},
   "outputs": [
    {
     "ename": "OSError",
     "evalue": "50权重GP.txt not found.",
     "output_type": "error",
     "traceback": [
      "\u001b[1;31m---------------------------------------------------------------------------\u001b[0m",
      "\u001b[1;31mOSError\u001b[0m                                   Traceback (most recent call last)",
      "\u001b[1;32m<ipython-input-144-b6b1582498a4>\u001b[0m in \u001b[0;36m<module>\u001b[1;34m\u001b[0m\n\u001b[0;32m      1\u001b[0m \u001b[0mGP_fit\u001b[0m \u001b[1;33m=\u001b[0m \u001b[0mnp\u001b[0m\u001b[1;33m.\u001b[0m\u001b[0mloadtxt\u001b[0m\u001b[1;33m(\u001b[0m\u001b[1;34m'GP curve_fit values.txt'\u001b[0m\u001b[1;33m)\u001b[0m\u001b[1;33m\u001b[0m\u001b[1;33m\u001b[0m\u001b[0m\n\u001b[0;32m      2\u001b[0m \u001b[0mGD_fit\u001b[0m \u001b[1;33m=\u001b[0m \u001b[0mnp\u001b[0m\u001b[1;33m.\u001b[0m\u001b[0mloadtxt\u001b[0m\u001b[1;33m(\u001b[0m\u001b[1;34m'GD curve_fit values.txt'\u001b[0m\u001b[1;33m)\u001b[0m\u001b[1;33m\u001b[0m\u001b[1;33m\u001b[0m\u001b[0m\n\u001b[1;32m----> 3\u001b[1;33m \u001b[0mGP_ori\u001b[0m \u001b[1;33m=\u001b[0m \u001b[0mnp\u001b[0m\u001b[1;33m.\u001b[0m\u001b[0mloadtxt\u001b[0m\u001b[1;33m(\u001b[0m\u001b[1;34m'50权重GP.txt'\u001b[0m\u001b[1;33m)\u001b[0m\u001b[1;33m\u001b[0m\u001b[1;33m\u001b[0m\u001b[0m\n\u001b[0m\u001b[0;32m      4\u001b[0m \u001b[0mGD_ori\u001b[0m \u001b[1;33m=\u001b[0m \u001b[0mnp\u001b[0m\u001b[1;33m.\u001b[0m\u001b[0mloadtxt\u001b[0m\u001b[1;33m(\u001b[0m\u001b[1;34m'50权重GD.txt'\u001b[0m\u001b[1;33m)\u001b[0m\u001b[1;33m\u001b[0m\u001b[1;33m\u001b[0m\u001b[0m\n\u001b[0;32m      5\u001b[0m \u001b[1;33m\u001b[0m\u001b[0m\n",
      "\u001b[1;32md:\\Software\\Anaconda\\lib\\site-packages\\numpy\\lib\\npyio.py\u001b[0m in \u001b[0;36mloadtxt\u001b[1;34m(fname, dtype, comments, delimiter, converters, skiprows, usecols, unpack, ndmin, encoding, max_rows)\u001b[0m\n\u001b[0;32m    959\u001b[0m             \u001b[0mfname\u001b[0m \u001b[1;33m=\u001b[0m \u001b[0mos_fspath\u001b[0m\u001b[1;33m(\u001b[0m\u001b[0mfname\u001b[0m\u001b[1;33m)\u001b[0m\u001b[1;33m\u001b[0m\u001b[1;33m\u001b[0m\u001b[0m\n\u001b[0;32m    960\u001b[0m         \u001b[1;32mif\u001b[0m \u001b[0m_is_string_like\u001b[0m\u001b[1;33m(\u001b[0m\u001b[0mfname\u001b[0m\u001b[1;33m)\u001b[0m\u001b[1;33m:\u001b[0m\u001b[1;33m\u001b[0m\u001b[1;33m\u001b[0m\u001b[0m\n\u001b[1;32m--> 961\u001b[1;33m             \u001b[0mfh\u001b[0m \u001b[1;33m=\u001b[0m \u001b[0mnp\u001b[0m\u001b[1;33m.\u001b[0m\u001b[0mlib\u001b[0m\u001b[1;33m.\u001b[0m\u001b[0m_datasource\u001b[0m\u001b[1;33m.\u001b[0m\u001b[0mopen\u001b[0m\u001b[1;33m(\u001b[0m\u001b[0mfname\u001b[0m\u001b[1;33m,\u001b[0m \u001b[1;34m'rt'\u001b[0m\u001b[1;33m,\u001b[0m \u001b[0mencoding\u001b[0m\u001b[1;33m=\u001b[0m\u001b[0mencoding\u001b[0m\u001b[1;33m)\u001b[0m\u001b[1;33m\u001b[0m\u001b[1;33m\u001b[0m\u001b[0m\n\u001b[0m\u001b[0;32m    962\u001b[0m             \u001b[0mfencoding\u001b[0m \u001b[1;33m=\u001b[0m \u001b[0mgetattr\u001b[0m\u001b[1;33m(\u001b[0m\u001b[0mfh\u001b[0m\u001b[1;33m,\u001b[0m \u001b[1;34m'encoding'\u001b[0m\u001b[1;33m,\u001b[0m \u001b[1;34m'latin1'\u001b[0m\u001b[1;33m)\u001b[0m\u001b[1;33m\u001b[0m\u001b[1;33m\u001b[0m\u001b[0m\n\u001b[0;32m    963\u001b[0m             \u001b[0mfh\u001b[0m \u001b[1;33m=\u001b[0m \u001b[0miter\u001b[0m\u001b[1;33m(\u001b[0m\u001b[0mfh\u001b[0m\u001b[1;33m)\u001b[0m\u001b[1;33m\u001b[0m\u001b[1;33m\u001b[0m\u001b[0m\n",
      "\u001b[1;32md:\\Software\\Anaconda\\lib\\site-packages\\numpy\\lib\\_datasource.py\u001b[0m in \u001b[0;36mopen\u001b[1;34m(path, mode, destpath, encoding, newline)\u001b[0m\n\u001b[0;32m    193\u001b[0m \u001b[1;33m\u001b[0m\u001b[0m\n\u001b[0;32m    194\u001b[0m     \u001b[0mds\u001b[0m \u001b[1;33m=\u001b[0m \u001b[0mDataSource\u001b[0m\u001b[1;33m(\u001b[0m\u001b[0mdestpath\u001b[0m\u001b[1;33m)\u001b[0m\u001b[1;33m\u001b[0m\u001b[1;33m\u001b[0m\u001b[0m\n\u001b[1;32m--> 195\u001b[1;33m     \u001b[1;32mreturn\u001b[0m \u001b[0mds\u001b[0m\u001b[1;33m.\u001b[0m\u001b[0mopen\u001b[0m\u001b[1;33m(\u001b[0m\u001b[0mpath\u001b[0m\u001b[1;33m,\u001b[0m \u001b[0mmode\u001b[0m\u001b[1;33m,\u001b[0m \u001b[0mencoding\u001b[0m\u001b[1;33m=\u001b[0m\u001b[0mencoding\u001b[0m\u001b[1;33m,\u001b[0m \u001b[0mnewline\u001b[0m\u001b[1;33m=\u001b[0m\u001b[0mnewline\u001b[0m\u001b[1;33m)\u001b[0m\u001b[1;33m\u001b[0m\u001b[1;33m\u001b[0m\u001b[0m\n\u001b[0m\u001b[0;32m    196\u001b[0m \u001b[1;33m\u001b[0m\u001b[0m\n\u001b[0;32m    197\u001b[0m \u001b[1;33m\u001b[0m\u001b[0m\n",
      "\u001b[1;32md:\\Software\\Anaconda\\lib\\site-packages\\numpy\\lib\\_datasource.py\u001b[0m in \u001b[0;36mopen\u001b[1;34m(self, path, mode, encoding, newline)\u001b[0m\n\u001b[0;32m    533\u001b[0m                                       encoding=encoding, newline=newline)\n\u001b[0;32m    534\u001b[0m         \u001b[1;32melse\u001b[0m\u001b[1;33m:\u001b[0m\u001b[1;33m\u001b[0m\u001b[1;33m\u001b[0m\u001b[0m\n\u001b[1;32m--> 535\u001b[1;33m             \u001b[1;32mraise\u001b[0m \u001b[0mIOError\u001b[0m\u001b[1;33m(\u001b[0m\u001b[1;34m\"%s not found.\"\u001b[0m \u001b[1;33m%\u001b[0m \u001b[0mpath\u001b[0m\u001b[1;33m)\u001b[0m\u001b[1;33m\u001b[0m\u001b[1;33m\u001b[0m\u001b[0m\n\u001b[0m\u001b[0;32m    536\u001b[0m \u001b[1;33m\u001b[0m\u001b[0m\n\u001b[0;32m    537\u001b[0m \u001b[1;33m\u001b[0m\u001b[0m\n",
      "\u001b[1;31mOSError\u001b[0m: 50权重GP.txt not found."
     ]
    }
   ],
   "source": [
    "GP_fit = np.loadtxt('GP curve_fit values.txt')\n",
    "GD_fit = np.loadtxt('GD curve_fit values.txt')\n",
    "GP_ori = np.loadtxt('50权重GP.txt')\n",
    "GD_ori = np.loadtxt('50权重GD.txt')\n",
    "\n",
    "plt.plot(GP_ori, label='GP_ori curve')\n",
    "plt.plot(GD_ori, label='GD_ori curve')\n",
    "plt.scatter(GP_fit, label='GP_fit curve')\n",
    "plt.scatter(GD_fit, label='GD_fit curve')\n",
    "plt.legend()\n",
    "plt.show()"
   ]
  },
  {
   "cell_type": "code",
   "execution_count": null,
   "metadata": {},
   "outputs": [],
   "source": []
  }
 ],
 "metadata": {
  "kernelspec": {
   "display_name": "Python 3.8.5 ('base')",
   "language": "python",
   "name": "python3"
  },
  "language_info": {
   "codemirror_mode": {
    "name": "ipython",
    "version": 3
   },
   "file_extension": ".py",
   "mimetype": "text/x-python",
   "name": "python",
   "nbconvert_exporter": "python",
   "pygments_lexer": "ipython3",
   "version": "3.8.5"
  },
  "orig_nbformat": 4,
  "vscode": {
   "interpreter": {
    "hash": "77f56f57217d58f2637a78f43068bb82a198c4b9b7dc36d7b5b03538627b73d0"
   }
  }
 },
 "nbformat": 4,
 "nbformat_minor": 2
}
