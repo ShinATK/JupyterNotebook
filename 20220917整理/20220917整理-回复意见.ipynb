{
 "cells": [
  {
   "cell_type": "markdown",
   "metadata": {},
   "source": [
    "#### 激活函数\n",
    "- 旧模型  \n",
    "    输入层 -> 隐藏层 -> 输出层  \n",
    "    输入/隐藏层 激活函数: $$ tanh(x) = \\frac{e^{x}-e^{-x}}{e^{x}+e^{-x}} $$\n",
    "    输出函数: $$ softmax(x) =  \\frac{e^{x_i}}{\\sum{e^{x_j}}}$$"
   ]
  },
  {
   "cell_type": "markdown",
   "metadata": {},
   "source": [
    "#### 反向传播\n",
    "- 旧模型  \n",
    "    $ w $:          模型权重  \n",
    "    $ b $:          模型偏执  \n",
    "    $ y_{pred} $:   预测结果  \n",
    "    $ y_{lab} $:    实际结果  \n",
    "    $ i $:          样本角标   \n",
    "    $ n $:          样本总数(60,000)  \n",
    "    $ Loss $:       损失函数  \n",
    "    $$ Loss = \\sum_{i=0}^{n}{(y_{lab}^{i}-y_{pred}^{i})^{2}}$$  \n",
    "    损失函数意义：计算模型对每个样本的预测结果与实际结果之差的平方，再对样本整体进行求和。反映了模型对整个样本集的预测偏差程度。\n",
    "    \n",
    "    反向传播目的：计算合适的w和b，使得损失函数尽可能维持在极小值附近。  \n",
    "    记\n",
    "    $$ \\mathrm{d} w = \\frac{\\mathrm{d} Loss}{\\mathrm{d} w}  $$\n",
    "    $$ \\mathrm{d} b = \\frac{\\mathrm{d} Loss}{\\mathrm{d} b}  $$\n",
    "    在神经网络模型中，权重的更新方式为如下：\n",
    "    为方便解释，这里假设w为一维。  \n",
    "    如果dw>0，证明此时w位于Loss函数的极小值点右侧，需要将w向左侧移动，即减小，权重更新方式为 w = w - learning_rate * dw；  \n",
    "    如果dw<0，证明此时w位于Loss函数的极小值点左侧，需要将w向右侧移动，即增加，权重更新方式为 w = w + learning_rate * dw。  \n",
    "    参数b更新方式同理。其中 learning_rate 为模型的学习率，作为调整单次更新的步长。  \n",
    "    参考这一更新方式与电导拟合公式，  \n",
    "    通过模型计算dw正/负，确定电导减小/增加方向，减小时参照 dGd，增加时参照 dGp  \n",
    "    $$ \\mathrm{d}G_{p}  = \\alpha_{p} e^{\\beta_{p}\\frac{G_{p}-G_{min}}{G_{max}-G_{min}}}  $$\n",
    "    $$ \\mathrm{d}G_{d}  = \\alpha_{d} e^{\\beta_{d}\\frac{G_{max}-G_{d}}{G_{max}-G_{min}}}  $$"
   ]
  },
  {
   "cell_type": "markdown",
   "metadata": {},
   "source": [
    "#### 非线性度拟合"
   ]
  },
  {
   "cell_type": "markdown",
   "metadata": {},
   "source": [
    "GP段拟合参数：  \n",
    "$\\alpha = 0.01$ $\\beta = 0.24$\n",
    "![](GP50.png)"
   ]
  },
  {
   "cell_type": "markdown",
   "metadata": {},
   "source": [
    "GD段拟合参数：  \n",
    "$\\alpha = 0.01$ $\\beta = 0.20$\n",
    "![](GD50.png)"
   ]
  },
  {
   "cell_type": "code",
   "execution_count": 3,
   "metadata": {},
   "outputs": [],
   "source": [
    "import numpy as np\n",
    "import matplotlib.pyplot as plt\n",
    "accu6_ideal = np.loadtxt('./acc&w/accu6_ideal.txt')\n",
    "accu6_0 = np.loadtxt('./acc&w/accu6_0.txt')\n",
    "accu6_wx = np.loadtxt('./acc&w/accu6_wx.txt')"
   ]
  },
  {
   "cell_type": "code",
   "execution_count": 5,
   "metadata": {},
   "outputs": [
    {
     "data": {
      "image/png": "[encoded data removed]",
      "text/plain": [
       "<Figure size 432x288 with 1 Axes>"
      ]
     },
     "metadata": {
      "needs_background": "light"
     },
     "output_type": "display_data"
    }
   ],
   "source": [
    "plt.plot(accu6_ideal, label=\"accu6_ideal\")\n",
    "plt.plot(accu6_0, label=\"accu6_0\")\n",
    "plt.plot(accu6_wx, label=\"accu6_wx\")\n",
    "plt.ylim(85, 100)\n",
    "plt.legend()\n",
    "plt.show()"
   ]
  },
  {
   "cell_type": "code",
   "execution_count": null,
   "metadata": {},
   "outputs": [],
   "source": []
  }
 ],
 "metadata": {
  "kernelspec": {
   "display_name": "Python 3.8.5 ('base')",
   "language": "python",
   "name": "python3"
  },
  "language_info": {
   "codemirror_mode": {
    "name": "ipython",
    "version": 3
   },
   "file_extension": ".py",
   "mimetype": "text/x-python",
   "name": "python",
   "nbconvert_exporter": "python",
   "pygments_lexer": "ipython3",
   "version": "3.9.12"
  },
  "orig_nbformat": 4,
  "vscode": {
   "interpreter": {
    "hash": "77f56f57217d58f2637a78f43068bb82a198c4b9b7dc36d7b5b03538627b73d0"
   }
  }
 },
 "nbformat": 4,
 "nbformat_minor": 2
}
