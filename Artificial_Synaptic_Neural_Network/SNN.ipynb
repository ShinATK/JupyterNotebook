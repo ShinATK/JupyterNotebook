{
 "cells": [
  {
   "cell_type": "code",
   "execution_count": 1,
   "id": "1c067473",
   "metadata": {},
   "outputs": [],
   "source": [
    "import numpy as np\n",
    "from pathlib import Path\n",
    "import struct\n",
    "import matplotlib.pyplot as plt\n",
    "import copy\n",
    "from tqdm import tqdm\n",
    "import time"
   ]
  },
  {
   "cell_type": "code",
   "execution_count": 2,
   "id": "360c032a",
   "metadata": {},
   "outputs": [],
   "source": [
    "dataset_path = Path(\"./MNIST\")\n",
    "train_img_path = dataset_path/'train-images-idx3-ubyte'\n",
    "train_lab_path = dataset_path/'train-labels-idx1-ubyte'\n",
    "test_img_path = dataset_path/'t10k-images-idx3-ubyte'\n",
    "test_lab_path = dataset_path/'t10k-labels-idx1-ubyte'"
   ]
  },
  {
   "cell_type": "code",
   "execution_count": 3,
   "id": "be122b12",
   "metadata": {},
   "outputs": [],
   "source": [
    "with open(train_img_path, \"rb\") as f:\n",
    "    struct.unpack(\">4i\", f.read(16))\n",
    "    tmp_img = np.fromfile(f, dtype=np.uint8).reshape(-1, 28*28)/255\n",
    "    train_img = tmp_img[:]\n",
    "with open(test_img_path, \"rb\") as f:\n",
    "    struct.unpack(\">4i\", f.read(16))\n",
    "    test_img = np.fromfile(f, dtype=np.uint8).reshape(-1, 28*28)/255\n",
    "with open(train_lab_path, \"rb\") as f:\n",
    "    struct.unpack(\">2i\", f.read(8))\n",
    "    tmp_lab = np.fromfile(f, dtype=np.uint8).reshape(-1, 1)\n",
    "    train_lab = tmp_lab[:]\n",
    "with open(test_lab_path, \"rb\") as f:\n",
    "    struct.unpack(\">2i\", f.read(8))\n",
    "    test_lab = np.fromfile(f, dtype=np.uint8).reshape(-1, 1)\n",
    "# len(train_img)"
   ]
  },
  {
   "cell_type": "code",
   "execution_count": 4,
   "id": "c2ec4ede",
   "metadata": {},
   "outputs": [],
   "source": [
    "# FUNCTION: show_image(index)\n",
    "def show_image(img, index):\n",
    "    plt.imshow(img[index].reshape(28, 28), cmap='gray')\n",
    "    plt.pause(1)\n",
    "    # print(\"label: {}\".format(label[index]))\n",
    "    return 0\n",
    "# show_image(train_img, train_lab, 30)\n",
    "# len(train_lab[np.where(train_lab == 9)])"
   ]
  },
  {
   "cell_type": "code",
   "execution_count": 5,
   "id": "69988d89",
   "metadata": {},
   "outputs": [
    {
     "name": "stdout",
     "output_type": "stream",
     "text": [
      "(60000, 784)\n",
      "(10000, 784)\n",
      "(60000, 1)\n"
     ]
    },
    {
     "data": {
      "text/plain": [
       "array([[5],\n",
       "       [0],\n",
       "       [4],\n",
       "       ...,\n",
       "       [5],\n",
       "       [6],\n",
       "       [8]], dtype=uint8)"
      ]
     },
     "execution_count": 5,
     "metadata": {},
     "output_type": "execute_result"
    }
   ],
   "source": [
    "train_num = train_img.shape[0]\n",
    "test_num = test_img.shape[0]\n",
    "print(train_img.shape)\n",
    "print(test_img.shape)\n",
    "print(train_lab.shape)\n",
    "train_lab"
   ]
  },
  {
   "cell_type": "code",
   "execution_count": 6,
   "id": "4d3dd487",
   "metadata": {
    "scrolled": false
   },
   "outputs": [
    {
     "name": "stdout",
     "output_type": "stream",
     "text": [
<<<<<<< HEAD
      "(array([0, 0, 0, ..., 0, 0, 0]), array([    1,    21,    34, ..., 59952, 59972, 59987]))\n",
=======
      "(array([0, 0, 0, ..., 0, 0, 0], dtype=int64), array([    1,    21,    34, ..., 59952, 59972, 59987], dtype=int64))\n",
>>>>>>> parent of e328609 (Update 2022-9-27)
      "train set shape: (784, 60000)\n",
      "train lab shape: (1, 60000)\n",
      "test set shape: (784, 10000)\n",
      "test lab shape: (1, 10000)\n"
     ]
    },
    {
     "data": {
      "text/plain": [
<<<<<<< HEAD
       "<matplotlib.image.AxesImage at 0x7fa4a06e1a00>"
=======
       "<matplotlib.image.AxesImage at 0x20e18027d60>"
>>>>>>> parent of e328609 (Update 2022-9-27)
      ]
     },
     "execution_count": 6,
     "metadata": {},
     "output_type": "execute_result"
    },
    {
     "data": {
<<<<<<< HEAD
      "image/png": "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",
=======
      "image/png": "iVBORw0KGgoAAAANSUhEUgAAAPsAAAD4CAYAAAAq5pAIAAAABHNCSVQICAgIfAhkiAAAAAlwSFlzAAALEgAACxIB0t1+/AAAADh0RVh0U29mdHdhcmUAbWF0cGxvdGxpYiB2ZXJzaW9uMy4yLjAsIGh0dHA6Ly9tYXRwbG90bGliLm9yZy8GearUAAAOv0lEQVR4nO3df6zV9X3H8deLuysqioFaKKV2VIVa5laot1hnW2xNDbpkaFLbksUy50KTVofVbTVuSU2XLK6xde2K7WilYn9gmqiVNM5KGZmztdQLUkHRYikowmCCm7/xXu57f9yvy1Xv93MO53zPD+7n+Uhuzrnf9/mc7zsHXvd7zvmc7/k4IgRg7BvX6QYAtAdhBzJB2IFMEHYgE4QdyMTvtXNnR3l8HK0J7dwlkJVX9KJejYMerdZU2G0vkPQ1ST2SvhMR16duf7Qm6Eyf28wuASSsj7WltYafxtvukbRM0vmSZktaZHt2o/cHoLWaec0+T9ITEbE9Il6VdJukhdW0BaBqzYR9uqSnRvy+q9j2OraX2O633T+gg03sDkAzmgn7aG8CvOmztxGxPCL6IqKvV+Ob2B2AZjQT9l2SThrx+zsk7W6uHQCt0kzYH5Q00/a7bB8l6VOSVlfTFoCqNTz1FhGDti+X9FMNT72tiIhHKusMQKWammePiLsl3V1RLwBaiI/LApkg7EAmCDuQCcIOZIKwA5kg7EAmCDuQCcIOZIKwA5kg7EAmCDuQCcIOZIKwA5kg7EAmCDuQCcIOZIKwA5kg7EAmCDuQCcIOZIKwA5lo65LNGHsGP3pGsr7ns+VLfv36rJXJse99YHGy/vZlRyXrPes2Juu54cgOZIKwA5kg7EAmCDuQCcIOZIKwA5kg7EAmmGdH0tD8ucn611d8I1k/tbf8v9hQjX0/dNZ3k/XH+w4l638z4wM19pCXpsJue4ek5yUdkjQYEX1VNAWgelUc2T8SEc9UcD8AWojX7EAmmg17SLrX9gbbS0a7ge0ltvtt9w+o/HPSAFqr2afxZ0fEbttTJK2x/VhE3DfyBhGxXNJySZroydHk/gA0qKkje0TsLi73SbpT0rwqmgJQvYbDbnuC7eNfuy7pPElbqmoMQLWaeRo/VdKdtl+7nx9GxD2VdIW2GTgvPVv6tzd9L1mf1Zs+p3woMZu+fWAgOfZ/h8Yn63PTZR08//2ltWPWbU6OHXrllfSdH4EaDntEbJf03gp7AdBCTL0BmSDsQCYIO5AJwg5kgrADmeAU1zGgZ+LE0tqLHz4tOfbzN/4wWf/IMS/U2Hvjx4tbnv3jZH3tTWcl6z+/7uvJ+prvfKu0Nvv7lyfHnvyFB5L1IxFHdiAThB3IBGEHMkHYgUwQdiAThB3IBGEHMsE8+xiw69bppbUH37+sjZ0cni9NeTBZv+e49Dz8pTvOS9ZXzvhZaW3i7P3JsWMRR3YgE4QdyARhBzJB2IFMEHYgE4QdyARhBzLBPPsRYPCjZyTrq+aUL5s8Tumveq7l0p3nJuv9P3tPsr75svLe1r18dHLslP6Xk/Unnk2fq9/7j+tKa+OcHDomcWQHMkHYgUwQdiAThB3IBGEHMkHYgUwQdiATjoi27WyiJ8eZTs/b5mho/txk/Z9X3pSsn9rb+Mcl/vSxi5L1no+/mKwf+JN3J+v7Ty+f0J617Knk2MGndiXrtfzk6Q2ltT2H0nP4f7H4r5L1nnUbG+qp1dbHWj0XB0Z90Gse2W2vsL3P9pYR2ybbXmN7W3E5qcqGAVSvnqfxt0ha8IZt10haGxEzJa0tfgfQxWqGPSLuk3TgDZsXSlpZXF8p6cKK+wJQsUbfoJsaEXskqbicUnZD20ts99vuH9DBBncHoFktfzc+IpZHRF9E9PVqfKt3B6BEo2Hfa3uaJBWX+6prCUArNBr21ZIWF9cXS7qrmnYAtErNCVrbqySdI+lE27skfVHS9ZJ+ZPsySU9KuriVTR7pfMYfJOvPXJWe853Vmz4nfUPirZB/f2F2cuz+205K1t/ybHqd8hO+/8t0PVEbTI5srak96ZeU+698KVmfUn6qfNeqGfaIWFRS4tMxwBGEj8sCmSDsQCYIO5AJwg5kgrADmeCrpCsw7thjk/XBLz+XrP/ytDuS9d8NvpqsX3Xt1aW1Sf/5ZHLslAnpz0MdSlbHrnnTdibrO9rTRqU4sgOZIOxAJgg7kAnCDmSCsAOZIOxAJgg7kAnm2Svw8vz0Kaw/PS39VdC1/OXSzyfrx/+4/DTTTp5Giu7CkR3IBGEHMkHYgUwQdiAThB3IBGEHMkHYgUwwz16BP/qHTcn6uBp/Uy/dmf6i3mN+/KvD7glSr3tKawM1VirvcfuWMm8XjuxAJgg7kAnCDmSCsAOZIOxAJgg7kAnCDmSCefY6/c8lZ5XW/n7qDcmxQ6qx5PK96WWV36lfJOsY3UCUf+v9kIaSY+/Zmv43mamNDfXUSTWP7LZX2N5ne8uIbdfZftr2puLngta2CaBZ9TyNv0XSglG23xgRc4qfu6ttC0DVaoY9Iu6TdKANvQBooWbeoLvc9sPF0/xJZTeyvcR2v+3+AR1sYncAmtFo2L8p6RRJcyTtkfSVshtGxPKI6IuIvl6Nb3B3AJrVUNgjYm9EHIqIIUnfljSv2rYAVK2hsNueNuLXiyRtKbstgO5Qc57d9ipJ50g60fYuSV+UdI7tOZJCw0tVf6aFPXaFwWPKayeMS8+jP/BK+uXLybfuTu87WR27aq17/9gNp9e4hw2llT/bfn5y5GlLf5esH4nr1tcMe0QsGmXzzS3oBUAL8XFZIBOEHcgEYQcyQdiBTBB2IBOc4toG+w8dl6wPbt/Rnka6TK2ptcev/8Nk/bGF30jW/+2lE0pru5edmhx7/LPly2AfqTiyA5kg7EAmCDuQCcIOZIKwA5kg7EAmCDuQCebZ2+Cvf35xsj4rcSrmkW5o/tzS2r6rXk6O3dqXnkc/d/Mnk/UJC7aX1o7X2JtHr4UjO5AJwg5kgrADmSDsQCYIO5AJwg5kgrADmWCevV4uL42r8Tfzax9clawv06xGOuoKO79UvpS1JN3+6a+W1mb1pr+C+32/Wpysv/2iR5N1vB5HdiAThB3IBGEHMkHYgUwQdiAThB3IBGEHMsE8e72ivDSkoeTQ+cfsT9avvOWMZP2U76bvv/e/ni+t7Z3/1uTYyZ/claxf8c61yfr5x6bPxV/94tTS2qc3L0iOPfFfJyTrODw1j+y2T7K9zvZW24/YXlpsn2x7je1txeWk1rcLoFH1PI0flHR1RLxH0gckfc72bEnXSFobETMlrS1+B9ClaoY9IvZExMbi+vOStkqaLmmhpJXFzVZKurBVTQJo3mG9QWd7hqS5ktZLmhoRe6ThPwiSppSMWWK733b/gA421y2AhtUddtvHSbpd0pUR8Vy94yJieUT0RURfr8Y30iOACtQVdtu9Gg76DyLijmLzXtvTivo0Sfta0yKAKtScerNtSTdL2hoRI89XXC1psaTri8u7WtLhGHC00w/z1o99K1m//0NHJ+vbDr6ttHbpCTuSY5u1dPeHkvV7fjGntDZzaX5f59xJ9cyzny3pEkmbbW8qtl2r4ZD/yPZlkp6UlP5ydAAdVTPsEXG/yr+64dxq2wHQKnxcFsgEYQcyQdiBTBB2IBOEHciEIxLnblZsoifHmT4y38DvmXVKaW3Wqp3Jsf/0tgea2netr6qudYptykMH0/e96D+WJOuzLh27y00fidbHWj0XB0adPePIDmSCsAOZIOxAJgg7kAnCDmSCsAOZIOxAJvgq6Tod+s1vS2vbLp6RHDv7iiuS9Uc/8S+NtFSX0+7+bLL+7pteStZnPcQ8+ljBkR3IBGEHMkHYgUwQdiAThB3IBGEHMkHYgUxwPjswhnA+OwDCDuSCsAOZIOxAJgg7kAnCDmSCsAOZqBl22yfZXmd7q+1HbC8ttl9n+2nbm4qfC1rfLoBG1fPlFYOSro6IjbaPl7TB9pqidmNE3NC69gBUpZ712fdI2lNcf972VknTW90YgGod1mt22zMkzZW0vth0ue2Hba+wPalkzBLb/bb7B3SwqWYBNK7usNs+TtLtkq6MiOckfVPSKZLmaPjI/5XRxkXE8ojoi4i+Xo2voGUAjagr7LZ7NRz0H0TEHZIUEXsj4lBEDEn6tqR5rWsTQLPqeTfekm6WtDUivjpi+7QRN7tI0pbq2wNQlXrejT9b0iWSNtveVGy7VtIi23MkhaQdkj7Tkg4BVKKed+PvlzTa+bF3V98OgFbhE3RAJgg7kAnCDmSCsAOZIOxAJgg7kAnCDmSCsAOZIOxAJgg7kAnCDmSCsAOZIOxAJgg7kIm2Ltls+78l7Ryx6URJz7StgcPTrb11a18SvTWqyt5+PyLeOlqhrWF/087t/ojo61gDCd3aW7f2JdFbo9rVG0/jgUwQdiATnQ778g7vP6Vbe+vWviR6a1Rbeuvoa3YA7dPpIzuANiHsQCY6EnbbC2w/bvsJ29d0oocytnfY3lwsQ93f4V5W2N5ne8uIbZNtr7G9rbgcdY29DvXWFct4J5YZ7+hj1+nlz9v+mt12j6TfSPqYpF2SHpS0KCIebWsjJWzvkNQXER3/AIbtD0t6QdKtEXF6se3Lkg5ExPXFH8pJEfGFLuntOkkvdHoZ72K1omkjlxmXdKGkP1cHH7tEX59QGx63ThzZ50l6IiK2R8Srkm6TtLADfXS9iLhP0oE3bF4oaWVxfaWG/7O0XUlvXSEi9kTExuL685JeW2a8o49doq+26ETYp0t6asTvu9Rd672HpHttb7C9pNPNjGJqROyRhv/zSJrS4X7eqOYy3u30hmXGu+axa2T582Z1IuyjLSXVTfN/Z0fE+ySdL+lzxdNV1KeuZbzbZZRlxrtCo8ufN6sTYd8l6aQRv79D0u4O9DGqiNhdXO6TdKe6bynqva+toFtc7utwP/+vm5bxHm2ZcXXBY9fJ5c87EfYHJc20/S7bR0n6lKTVHejjTWxPKN44ke0Jks5T9y1FvVrS4uL6Ykl3dbCX1+mWZbzLlhlXhx+7ji9/HhFt/5F0gYbfkf+tpL/rRA8lfZ0s6dfFzyOd7k3SKg0/rRvQ8DOiyyS9RdJaSduKy8ld1Nv3JG2W9LCGgzWtQ719UMMvDR+WtKn4uaDTj12ir7Y8bnxcFsgEn6ADMkHYgUwQdiAThB3IBGEHMkHYgUwQdiAT/wfcBlFxJhYKlQAAAABJRU5ErkJggg==",
>>>>>>> parent of e328609 (Update 2022-9-27)
      "text/plain": [
       "<Figure size 432x288 with 1 Axes>"
      ]
     },
     "metadata": {
      "needs_background": "light"
     },
     "output_type": "display_data"
    }
   ],
   "source": [
    "# 将给定num的label改为1\n",
    "def train_setY(num):\n",
    "    label = train_lab.copy()\n",
    "    label[np.where(label != num)] = 10\n",
    "    label[np.where(label == num)] = 1\n",
    "    label[np.where(label == 10)] = 0\n",
    "    return label\n",
    "def test_setY(num):\n",
    "    label = test_lab.copy()\n",
    "    label[np.where(label != num)] = 10\n",
    "    label[np.where(label == num)] = 1\n",
    "    label[np.where(label == 10)] = 0\n",
    "    return label\n",
    "\n",
    "reg_num = 0\n",
    "train_X = train_img.copy().T\n",
    "train_Y = train_setY(reg_num).T\n",
    "index_regnum = np.where(train_Y==1)\n",
    "print(index_regnum)\n",
    "test_X = test_img.copy().T\n",
    "test_Y = test_setY(reg_num).T\n",
    "print(f\"train set shape: {train_X.shape}\")\n",
    "print(f\"train lab shape: {train_Y.shape}\")\n",
    "print(f\"test set shape: {test_X.shape}\")\n",
    "print(f\"test lab shape: {test_Y.shape}\")\n",
    "\n",
    "# show_image(train_X.T, 1)\n",
    "hw0 = train_X.T\n",
    "i = index_regnum[1][0]\n",
    "np.save(f'handwritten{reg_num}.npy', hw0[i])\n",
    "plt.imshow(hw0[i].reshape((28,28)))\n",
    "\n",
    "# # print(train_Y[30])\n",
    "# print(train_Y.shape)\n",
    "# # print(np.where(train_Y==1))\n",
    "# tmp = train_lab.copy().T[:, :limit_train]\n",
    "# len(tmp[np.where(tmp == reg_num)])"
   ]
  },
  {
   "cell_type": "code",
<<<<<<< HEAD
   "execution_count": 35,
=======
   "execution_count": 7,
>>>>>>> parent of e328609 (Update 2022-9-27)
   "id": "1dfeee5b",
   "metadata": {},
   "outputs": [
    {
     "data": {
<<<<<<< HEAD
      "image/png": "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",
=======
      "image/png": "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",
>>>>>>> parent of e328609 (Update 2022-9-27)
      "text/plain": [
       "<Figure size 432x288 with 1 Axes>"
      ]
     },
     "metadata": {
      "needs_background": "light"
     },
     "output_type": "display_data"
    },
    {
     "data": {
      "text/plain": [
       "51"
      ]
     },
<<<<<<< HEAD
     "execution_count": 35,
=======
     "execution_count": 7,
>>>>>>> parent of e328609 (Update 2022-9-27)
     "metadata": {},
     "output_type": "execute_result"
    }
   ],
   "source": [
    "# wmax和wmin需要根据使用的电导数据来设定\n",
    "# parameters = {\n",
    "#     'a+': 0.03, 'b+': 2.64,\n",
    "#     'a-': 0.03, 'b-': 2.54,\n",
    "#     'w+max': 1, 'w+min': 0,\n",
    "#     'w-max': 1, 'w-min': 0,\n",
    "# }\n",
    "\n",
    "parameters = {\n",
<<<<<<< HEAD
    "    'a+': 0.03, 'b+': 2.54,\n",
    "    'a-': 0.03, 'b-': 2.64,\n",
=======
    "    'a+': 0.02, 'b+': 6,\n",
    "    'a-': 0.02, 'b-': 6,\n",
>>>>>>> parent of e328609 (Update 2022-9-27)
    "    'wmax': 1, 'wmin': 0\n",
    "}\n",
    "\n",
    "weight_plus_list = [parameters['wmin']]\n",
    "weight_minus_list = [parameters['wmax']]\n",
    "\n",
    "def weight_plus(w):\n",
    "    delta_w = parameters['a+'] * np.exp(-parameters['b+']*(w-parameters['wmin'])\n",
    "                                             /(parameters['wmax']-parameters['wmin']))\n",
    "    return delta_w\n",
    "def weight_minus(w):\n",
    "    delta_w = parameters['a-'] * np.exp(-parameters['b-']*(parameters['wmax']-w)\n",
    "                                             /(parameters['wmax']-parameters['wmin']))\n",
    "    return delta_w\n",
    "def equation():\n",
    "    # 电导生成个数，后续优化\n",
    "    count_num = 0\n",
    "    while True:\n",
    "        weight_plus_list.append(weight_plus_list[-1]+weight_plus(weight_plus_list[-1]))\n",
    "        weight_minus_list.append(weight_minus_list[-1]-weight_minus(weight_minus_list[-1]))\n",
    "        count_num += 1\n",
    "        if weight_plus_list[-1] >= 1:\n",
    "            break\n",
    "        elif count_num == 50:\n",
    "            break\n",
    "        else:\n",
    "            continue\n",
    "    \n",
    "    # return weight_plus_list, weight_minus_list\n",
    "\n",
    "    # wpl = [0.3*(each - weight_plus_list[0]) / (weight_plus_list[-1]-weight_plus_list[0])-0.2 for each in weight_plus_list]\n",
    "    # wml = [0.3*(each - weight_minus_list[-1]) / (weight_minus_list[0]-weight_minus_list[-1])-0.2 for each in weight_minus_list]\n",
    "    \n",
    "    # wpl = [2*(each - weight_plus_list[0]) / (weight_plus_list[-1]-weight_plus_list[0]) -1 for each in weight_plus_list]\n",
    "    # wml = [2*(each - weight_minus_list[-1]) / (weight_minus_list[0]-weight_minus_list[-1]) -1 for each in weight_minus_list]\n",
    "    \n",
    "    wpl = [(each - weight_plus_list[0]) / (weight_plus_list[-1]-weight_plus_list[0]) for each in weight_plus_list]\n",
    "    wml = [(each - weight_minus_list[-1]) / (weight_minus_list[0]-weight_minus_list[-1]) for each in weight_minus_list]\n",
    "    \n",
<<<<<<< HEAD
    "    # wpl = [(each) / max(weight_plus_list) for each in weight_plus_list]\n",
    "    # wml = [(each) / max(weight_minus_list) for each in weight_minus_list]\n",
    "\n",
=======
>>>>>>> parent of e328609 (Update 2022-9-27)
    "    return np.array(wpl), np.array(wml)\n",
    "GP, GD = equation()\n",
    "# print(GP)\n",
    "# print(GD)\n",
    "\n",
    "# GP_tmp = np.loadtxt(\"ryx-GP.txt\")\n",
    "# GD_tmp = np.loadtxt(\"ryx-GD.txt\")\n",
    "\n",
    "# GP = [0.3*(each-min(GP_tmp))/(max(GP_tmp)-min(GP_tmp))-0.2 for each in GP_tmp]\n",
    "# GD = [0.3*(each-min(GD_tmp))/(max(GD_tmp)-min(GD_tmp))-0.2 for each in GD_tmp]\n",
    "\n",
    "# GP = [(each-min(GP_tmp))/(max(GP_tmp)-min(GP_tmp)) for each in GP_tmp]\n",
    "# GD = [(each-min(GD_tmp))/(max(GD_tmp)-min(GD_tmp)) for each in GD_tmp]\n",
    "\n",
    "plt.plot(GP)\n",
    "plt.plot(GD)\n",
    "plt.show()\n",
    "# np.savetxt(f\"GP {parameters['b+']}.txt\", GP)\n",
    "# np.savetxt(f\"GD {parameters['b-']}.txt\", GD)\n",
    "len(GP)"
   ]
  },
  {
   "cell_type": "code",
<<<<<<< HEAD
   "execution_count": 36,
=======
   "execution_count": 8,
>>>>>>> parent of e328609 (Update 2022-9-27)
   "id": "862cc07c",
   "metadata": {},
   "outputs": [],
   "source": [
    "def findGP_num(data, find_array=GP):\n",
    "    diff = abs(data - find_array)\n",
    "    index = np.where(diff == np.min(diff))[0][0]\n",
    "    # print(index)\n",
    "    return find_array[index]\n",
    "\n",
    "def findGD_num(data, find_array=GD):\n",
    "    diff = abs(data - find_array)\n",
    "    index = np.where(diff == np.min(diff))[0][0]\n",
    "    return find_array[index]\n",
    "\n",
    "\n",
    "# 可以利用G1-G2来实现-1~1的取值范围\n",
    "def each_change(matrix_old, gradw, learning_rate):\n",
    "    matrix_new = matrix_old.copy()\n",
    "    for i in range(matrix_old.shape[0]):\n",
    "        if gradw[i] < 0:\n",
    "            matrix_new[i] = matrix_old[i] + learning_rate*weight_plus(matrix_old[i])\n",
    "            # matrix_new[i] = findGP_num(matrix_old[i])\n",
    "        elif gradw[i] > 0:\n",
    "            # matrix_new[i] = findGD_num(matrix_old[i])\n",
    "            matrix_new[i] = matrix_old[i] - learning_rate*weight_minus(matrix_old[i])\n",
    "        else:\n",
    "            continue\n",
    "    return matrix_new\n",
    "# tmp = np.zeros((10, 1))\n",
    "# each_change(tmp, [0]*len(tmp))"
   ]
  },
  {
   "cell_type": "code",
<<<<<<< HEAD
   "execution_count": 37,
=======
   "execution_count": 9,
>>>>>>> parent of e328609 (Update 2022-9-27)
   "id": "1c42b9c1",
   "metadata": {},
   "outputs": [],
   "source": [
    "# 激活函数\n",
    "def sigmoid(z):\n",
    "    s = 1.0 / (1.0 + np.exp(-1.0*z))\n",
    "    return s\n",
    "\n",
    "# 参数初始化\n",
    "def initialize_with_zeros(dim):\n",
    "    ### 权重w = G['+'] - G['-']\n",
    "    np.random.seed(6)\n",
    "    G = {'+':np.random.random((dim, 1)), '-':np.random.random((dim, 1))}  \n",
    "    b = 0\n",
    "    \n",
    "    assert(G['+'].shape == (dim, 1))\n",
    "    # assert(G['-'].shape == (dim, 1))\n",
    "    assert(isinstance(b, float) or isinstance(b, int))\n",
    "    \n",
    "    return G, b\n",
    "\n",
    "# 向前传播\n",
    "def propagate(G, b, X, Y):\n",
    "    m = X.shape[1]\n",
    "    dG = {'+':0, '-':0}\n",
    "\n",
    "    A = sigmoid(np.dot((G['+']-G['-']).T, X) + b)\n",
    "    cost = -(1.0/m) * np.sum(Y * np.log(A) + (1-Y) * np.log(1-A))\n",
    "    \n",
    "    dG['+'] = (1.0/m) * np.dot(X, (A-Y).T)\n",
    "    dG['-'] = -(1.0/m) * np.dot(X, (A-Y).T)\n",
    "\n",
    "    db = (1.0/m) * np.sum(A-Y)\n",
    "\n",
    "    Y_prediction = np.zeros((1, m))\n",
    "    for i in range(A.shape[1]):\n",
    "        if A[0, i] > 0.5:\n",
    "            Y_prediction[0, i] = 1\n",
    "        else:\n",
    "            Y_prediction[0, i] = 0\n",
    "    accu = 100 - np.mean(np.abs(Y_prediction-Y)) * 100\n",
    "    \n",
    "    assert(dG['+'].shape == G['+'].shape)\n",
    "    assert(dG['-'].shape == G['-'].shape)\n",
    "    assert(db.dtype == float)\n",
    "    cost = np.squeeze(cost)\n",
    "    assert(cost.shape == ())\n",
    "    grads = {\n",
    "        \"dG\": dG,\n",
    "        \"db\": db\n",
    "    }\n",
    "    \n",
    "    return grads, cost, accu\n",
    "\n",
    "# 参数优化\n",
    "def optimize(G, b, X, Y, num_iterations, learning_rate, print_cost=False):\n",
    "    costs = []\n",
    "    accus = []\n",
    "    for i in range(num_iterations):\n",
    "        grads, cost, accu = propagate(G, b, X, Y)\n",
    "        dG = grads[\"dG\"]\n",
    "        db = grads[\"db\"]\n",
    "\n",
    "        b = b - learning_rate * db\n",
    "        \n",
    "        #######\n",
    "        G['+'] = each_change(G['+'], dG['+'], learning_rate)\n",
    "        G['-'] = each_change(G['-'], dG['-'], learning_rate)\n",
    "        # 这里或许可以写成原数据归一化后的wmax和wmin\n",
    "        # 可以利用G1-G2来实现-1~1的取值范围\n",
    "        G['+'][np.where(G['+']>1)] = 1\n",
    "        G['+'][np.where(G['+']<0)] = 0\n",
    "        G['-'][np.where(G['-']>1)] = 1\n",
    "        G['-'][np.where(G['-']<0)] = 0\n",
    "        #######\n",
    "\n",
<<<<<<< HEAD
    "        # if i%10 == 0:\n",
    "        costs.append(cost)\n",
    "        accus.append(accu)\n",
=======
    "        if i%10 == 0:\n",
    "            costs.append(cost)\n",
    "            accus.append(accu)\n",
>>>>>>> parent of e328609 (Update 2022-9-27)
    "            \n",
    "#             print(f\"w max:{np.max(w)}, w min:{np.min(w)}\")\n",
    "#             print(f\"dw max:{np.max(dw)}, dw min:{np.min(dw)}\")\n",
    "#         if i == num_iterations/2 or i == num_iterations-1:\n",
    "#             w_tmp = w.copy()\n",
    "#             plt.imshow(w_tmp.reshape((28,28)))\n",
    "#             plt.pause(1)\n",
    "        if print_cost and i%(num_iterations//10) == 0:\n",
    "            print(\"    Cost after iterations %i: %f\" %(i, cost), end=' ')\n",
    "            print(f\"accu: {accus[-1]}%\")\n",
    "        \n",
    "    params = {\n",
    "        \"G\": G,\n",
    "        \"b\": b\n",
    "    }\n",
    "    grads = {\n",
    "        \"dG\": dG,\n",
    "        \"db\": db\n",
    "    }\n",
    "\n",
    "    # return params, grads, costs\n",
    "    return params, grads, accus\n",
    "\n",
    "# 模型预测\n",
    "def predict(G, b, X):\n",
    "    m = X.shape[1]\n",
    "    Y_prediction = np.zeros((1, m))\n",
    "    G['+'] = G['+'].reshape(X.shape[0], 1)\n",
    "    G['-'] = G['-'].reshape(X.shape[0], 1)\n",
    "    \n",
    "    A = sigmoid(np.dot((G['+']-G['-']).T, X) + b)\n",
    "    \n",
    "    for i in range(A.shape[1]):\n",
    "        if A[0, i] > 0.5:\n",
    "            Y_prediction[0, i] = 1\n",
    "        else:\n",
    "            Y_prediction[0, i] = 0\n",
    "    assert(Y_prediction.shape == (1, m))\n",
    "    \n",
    "    return Y_prediction\n",
    "\n",
    "def model(X_train, Y_train, X_test, Y_test, num_iterations, learning_rate, print_cost=False):\n",
    "    G, b = initialize_with_zeros(X_train.shape[0])\n",
    "    # parameters, grads, costs= optimize(w, b, X_train, Y_train, num_iterations, learning_rate, print_cost)\n",
    "    parameters, grads, accus= optimize(G, b, X_train, Y_train, num_iterations, learning_rate, print_cost)\n",
    "    G = parameters[\"G\"]\n",
    "    b = parameters[\"b\"]\n",
    "    \n",
    "    Y_prediction_test = predict(G, b, X_test)\n",
    "    Y_prediction_train = predict(G, b, X_train)\n",
    "    \n",
    "    print(\"train accuracy: {}%\".format(100-np.mean(np.abs(Y_prediction_train-Y_train))*100))\n",
    "    print(\"test accuracy: {}%\".format(100-np.mean(np.abs(Y_prediction_test-Y_test))*100))\n",
    "    \n",
    "    d = {\n",
    "        \"accus\": accus,\n",
    "        \"Y_prediction_test\": Y_prediction_test,\n",
    "        \"Y_prediction_train\": Y_prediction_train,\n",
    "        \"G\": G,\n",
    "        \"b\": b,\n",
    "        \"learning_rate\": learning_rate,\n",
    "        \"num_iterations\": num_iterations\n",
    "    }\n",
    "    \n",
    "    return d"
   ]
  },
  {
   "cell_type": "code",
<<<<<<< HEAD
   "execution_count": 38,
=======
   "execution_count": 11,
>>>>>>> parent of e328609 (Update 2022-9-27)
   "id": "49e221ce",
   "metadata": {
    "scrolled": false
   },
   "outputs": [
    {
     "name": "stdout",
     "output_type": "stream",
     "text": [
      "Number 0 Recognition with \n",
<<<<<<< HEAD
      "    a+=0.03, b+=2.54, a-=0.03, b-=2.64: \n",
      "    Cost after iterations 0: 2.823549 accu: 19.326666666666668%\n",
      "    Cost after iterations 10: 0.170083 accu: 93.82666666666667%\n",
      "    Cost after iterations 20: 0.100216 accu: 96.91%\n",
      "    Cost after iterations 30: 0.083225 accu: 97.74333333333334%\n",
      "    Cost after iterations 40: 0.078304 accu: 98.0%\n",
      "    Cost after iterations 50: 0.078473 accu: 98.09333333333333%\n",
      "    Cost after iterations 60: 0.079345 accu: 98.13166666666666%\n",
      "    Cost after iterations 70: 0.079654 accu: 98.11333333333333%\n",
      "    Cost after iterations 80: 0.080435 accu: 98.06333333333333%\n",
      "    Cost after iterations 90: 0.080615 accu: 97.97333333333333%\n",
      "train accuracy: 97.845%\n",
      "test accuracy: 97.98%\n"
=======
      "    a+=0.02, b+=6, a-=0.02, b-=6: \n",
      "    Cost after iterations 0: 2.823549 accu: 19.326666666666668%\n",
      "    Cost after iterations 100: 0.049078 accu: 98.715%\n",
      "    Cost after iterations 200: 0.032806 accu: 99.14%\n",
      "    Cost after iterations 300: 0.029436 accu: 99.21666666666667%\n",
      "    Cost after iterations 400: 0.027787 accu: 99.23666666666666%\n",
      "    Cost after iterations 500: 0.027115 accu: 99.27%\n",
      "    Cost after iterations 600: 0.026532 accu: 99.265%\n",
      "    Cost after iterations 700: 0.026055 accu: 99.28166666666667%\n",
      "    Cost after iterations 800: 0.025751 accu: 99.27666666666667%\n",
      "    Cost after iterations 900: 0.025594 accu: 99.27166666666666%\n",
      "train accuracy: 99.27833333333334%\n",
      "test accuracy: 99.2%\n"
>>>>>>> parent of e328609 (Update 2022-9-27)
     ]
    }
   ],
   "source": [
    "# start = time.time()\n",
    "print(f\"Number {reg_num} Recognition with \")\n",
    "print(f\"    a+={parameters['a+']}, b+={parameters['b+']}, a-={parameters['a-']}, b-={parameters['b-']}: \")\n",
    "d = model(train_X, train_Y, test_X, test_Y, num_iterations=100, learning_rate=1, print_cost=True)\n",
    "# stop = time.time()\n",
    "# print(f\"{stop-start}s\")"
   ]
  },
  {
   "cell_type": "code",
<<<<<<< HEAD
   "execution_count": 39,
=======
   "execution_count": 12,
>>>>>>> parent of e328609 (Update 2022-9-27)
   "id": "b9f13f39",
   "metadata": {},
   "outputs": [
    {
     "data": {
<<<<<<< HEAD
      "image/png": "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",
=======
      "image/png": "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",
>>>>>>> parent of e328609 (Update 2022-9-27)
      "text/plain": [
       "<Figure size 432x288 with 1 Axes>"
      ]
     },
     "metadata": {
      "needs_background": "light"
     },
     "output_type": "display_data"
    }
   ],
   "source": [
    "G = d[\"G\"].copy()\n",
    "w = G['+']-G['-']\n",
    "\n",
    "# w[np.where(w<-1)] = -1\n",
    "\n",
    "plt.imshow(w.reshape((28,28)))\n",
    "plt.pause(0.1)\n",
    "# np.savetxt(f\"w{reg_num}.txt\", w.reshape((28,28)))\n",
    "# print(max(w))\n",
    "# print(min(w))"
   ]
  },
  {
   "cell_type": "code",
   "execution_count": 40,
   "id": "b0ebfd1e",
   "metadata": {},
   "outputs": [
    {
     "data": {
      "image/png": "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",
      "text/plain": [
       "<Figure size 432x288 with 1 Axes>"
      ]
     },
     "metadata": {
      "needs_background": "light"
     },
     "output_type": "display_data"
    },
    {
     "name": "stdout",
     "output_type": "stream",
     "text": [
      "98.14666666666666%\n"
     ]
    }
   ],
   "source": [
    "accus = d[\"accus\"].copy()\n",
    "plt.plot(accus)\n",
    "plt.ylim(70, 100)\n",
    "plt.show()\n",
    "np.savetxt(f\"accu{reg_num}_a={parameters['a+']}_b={parameters['b+']}.txt\", accus)\n",
    "# np.savetxt(f\"accu{reg_num}_ideal.txt\", accus)\n",
    "print(f\"{max(accus)}%\")"
   ]
  },
  {
   "cell_type": "code",
   "execution_count": 21,
   "id": "9e13ceb4",
   "metadata": {},
   "outputs": [
    {
     "data": {
      "image/png": "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",
      "text/plain": [
       "<Figure size 432x288 with 1 Axes>"
      ]
     },
     "metadata": {
      "needs_background": "light"
     },
     "output_type": "display_data"
    }
   ],
   "source": [
    "reg_num = 0\n",
    "# a = 0.01\n",
    "accus0_001_0 = np.loadtxt(f\"accu{reg_num}_a=0.01_b=0.txt\")\n",
    "accus0_001_1 = np.loadtxt(f\"accu{reg_num}_a=0.01_b=1.txt\")\n",
    "accus0_001_2 = np.loadtxt(f\"accu{reg_num}_a=0.01_b=2.txt\")\n",
    "accus0_001_3 = np.loadtxt(f\"accu{reg_num}_a=0.01_b=3.txt\")\n",
    "accus0_001_6 = np.loadtxt(f\"accu{reg_num}_a=0.01_b=6.txt\")\n",
    "accus0_001_9 = np.loadtxt(f\"accu{reg_num}_a=0.01_b=9.txt\")\n",
    "accus0_001_12 = np.loadtxt(f\"accu{reg_num}_a=0.01_b=12.txt\")\n",
    "accus0_001_15 = np.loadtxt(f\"accu{reg_num}_a=0.01_b=15.txt\")\n",
    "\n",
    "# a = 0.02\n",
    "accus0_002_0 = np.loadtxt(f\"accu{reg_num}_a=0.02_b=0.txt\")\n",
    "accus0_002_02 = np.loadtxt(f\"accu{reg_num}_a=0.02_b=0.2.txt\")\n",
    "accus0_002_1 = np.loadtxt(f\"accu{reg_num}_a=0.02_b=1.txt\")\n",
    "accus0_002_3 = np.loadtxt(f\"accu{reg_num}_a=0.02_b=3.txt\")\n",
    "accus0_002_6 = np.loadtxt(f\"accu{reg_num}_a=0.02_b=6.txt\")\n",
    "\n",
    "# a = 0.03\n",
    "accus0_003_3 = np.loadtxt(f\"accu{reg_num}_a=0.03_b=3.txt\")\n",
    "\n",
    "# a = 0.01\n",
    "plt.plot(accus0_001_0,      label='a=0.01 b=0')\n",
    "plt.plot(accus0_001_1,      label='a=0.01 b=1')\n",
    "plt.plot(accus0_001_2,      label='a=0.01 b=2')\n",
    "plt.plot(accus0_001_3,      label='a=0.01 b=3')\n",
    "plt.plot(accus0_001_6,      label='a=0.01 b=6')\n",
    "# plt.plot(accus0_001_9,      label='a=0.01 b=9')\n",
    "# plt.plot(accus0_001_12,     label='a=0.01 b=12')\n",
    "# plt.plot(accus0_001_15,     label='a=0.01 b=15')\n",
    "\n",
    "# a = 0.02\n",
    "# plt.plot(accus0_002_0,      label='a=0.02 b=0')\n",
    "# plt.plot(accus0_002_02,     label='a=0.02 b=0.2')\n",
    "# plt.plot(accus0_002_1,      label='a=0.02 b=1')\n",
    "# plt.plot(accus0_002_3,      label='a=0.02 b=3')\n",
    "# plt.plot(accus0_002_6,      label='a=0.02 b=6')\n",
    "\n",
    "# a = 0.03\n",
    "# plt.plot(accus0_003_3,      label='a=0.03 b=3')\n",
    "\n",
    "plt.ylim(95, 100)\n",
    "plt.legend(loc=4)\n",
    "plt.show()\n",
    "\n",
    "# print('accus0 a=0 b=0:  ',  max(accus0_0))\n",
    "# print('accus0 a=0 b=1:  ',  max(accus0_1))\n",
    "# print('accus0 a=0 b=2:  ',  max(accus0_2))\n",
    "# print('accus0 a=0 b=3:  ',  max(accus0_3))\n",
    "# print('accus0 a=0 b=6:  ',  max(accus0_6))\n",
    "# print('accus0 a=0 b=9:  ',  max(accus0_9))\n",
    "# print('accus0 a=0 b=12: ',  max(accus0_12))\n",
    "# print('accus0 a=0 b=15: ',  max(accus0_15))"
   ]
  },
  {
   "cell_type": "code",
   "execution_count": 11,
   "id": "7f8ee4c5",
   "metadata": {},
   "outputs": [
    {
     "data": {
      "image/png": "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",
      "text/plain": [
       "<Figure size 432x288 with 1 Axes>"
      ]
     },
     "metadata": {
      "needs_background": "light"
     },
     "output_type": "display_data"
    }
   ],
   "source": [
    "ideal = np.loadtxt('accu9_ideal.txt')\n",
    "qxs = np.loadtxt('accu9_qxs.txt')\n",
    "\n",
    "plt.plot(ideal,     label='ideal')\n",
    "plt.plot(qxs,       label='qxs')\n",
    "plt.ylim(70, 95)\n",
    "plt.legend(loc=4)\n",
    "plt.show()"
   ]
  },
  {
   "cell_type": "code",
   "execution_count": null,
   "id": "9c6e4465",
   "metadata": {},
   "outputs": [],
   "source": []
  }
 ],
 "metadata": {
  "kernelspec": {
   "display_name": "Python 3.8.5 ('base')",
   "language": "python",
   "name": "python3"
  },
  "language_info": {
   "codemirror_mode": {
    "name": "ipython",
    "version": 3
   },
   "file_extension": ".py",
   "mimetype": "text/x-python",
   "name": "python",
   "nbconvert_exporter": "python",
   "pygments_lexer": "ipython3",
   "version": "3.8.5"
  },
  "vscode": {
   "interpreter": {
    "hash": "77f56f57217d58f2637a78f43068bb82a198c4b9b7dc36d7b5b03538627b73d0"
   }
  }
 },
 "nbformat": 4,
 "nbformat_minor": 5
}
