{
 "cells": [
  {
   "cell_type": "code",
   "execution_count": 1,
   "metadata": {},
   "outputs": [],
   "source": [
    "import numpy as np\n",
    "from pathlib import Path\n",
    "import struct\n",
    "import matplotlib.pyplot as plt\n",
    "import copy\n",
    "from tqdm import tqdm"
   ]
  },
  {
   "cell_type": "code",
   "execution_count": 2,
   "metadata": {},
   "outputs": [],
   "source": [
    "def tanh(x):\n",
    "    return np.tanh(x)\n",
    "def softmax(x):\n",
    "    exp = np.exp(x - x.max())\n",
    "    return exp/exp.sum()"
   ]
  },
  {
   "cell_type": "code",
   "execution_count": 3,
   "metadata": {},
   "outputs": [],
   "source": [
    "dimensions = [28*28, 10]\n",
    "activation = [tanh, softmax]\n",
    "distribution = [\n",
    "    {\"b\": [0, 0]},\n",
    "    {\"b\": [0, 0], \"w\": [-1, +1]}\n",
    "]"
   ]
  },
  {
   "cell_type": "code",
   "execution_count": 4,
   "metadata": {},
   "outputs": [],
   "source": [
    "def init_parameters_b(layer):\n",
    "    dist = distribution[layer][\"b\"]\n",
    "    return np.random.rand(dimensions[layer]) * (dist[1]-dist[0]) + dist[0]\n",
    "def init_parameters_w(layer):\n",
    "    dist = distribution[layer][\"w\"]\n",
    "    return np.random.rand(dimensions[layer-1], dimensions[layer]) * (dist[1] - dist[0]) + dist[0]\n",
    "def init_parameters():\n",
    "    parameter = []\n",
    "    for i in range(len(distribution)):\n",
    "        layer_parameter = {}\n",
    "        for j in distribution[i].keys():\n",
    "            if j == \"b\":\n",
    "                layer_parameter[\"b\"] = init_parameters_b(i)\n",
    "                continue\n",
    "            if j == \"w\":\n",
    "                layer_parameter[\"w\"] = init_parameters_w(i)\n",
    "                continue\n",
    "        parameter.append(layer_parameter)\n",
    "    return parameter"
   ]
  },
  {
   "cell_type": "code",
   "execution_count": 5,
   "metadata": {},
   "outputs": [],
   "source": [
    "def predict(img, parameters):\n",
    "#     l0_in = img + parameters[0][\"b\"]\n",
    "#     l0_out = activation[0](l0_in)\n",
    "    l0_out = img\n",
    "    l1_in = np.dot(l0_out, parameters[1]['w'] + parameters[1][\"b\"])\n",
    "    l1_out = activation[1](l1_in)\n",
    "    return l1_out"
   ]
  },
  {
   "cell_type": "code",
   "execution_count": 6,
   "metadata": {},
   "outputs": [],
   "source": [
    "dataset_path = Path('./MNIST')\n",
    "train_img_path = dataset_path/'train-images-idx3-ubyte'\n",
    "train_lab_path = dataset_path/'train-labels-idx1-ubyte'\n",
    "test_img_path = dataset_path/'t10k-images-idx3-ubyte'\n",
    "test_lab_path = dataset_path/'t10k-labels-idx1-ubyte'"
   ]
  },
  {
   "cell_type": "code",
   "execution_count": 7,
   "metadata": {},
   "outputs": [],
   "source": [
    "train_num = 60000   # 训练集\n",
    "test_num = 10000    # 测试集\n",
    "\n",
    "# 打开训练集与测试集，并reshape为1*784的一维向量\n",
    "with open(train_img_path, 'rb') as f:\n",
    "    struct.unpack('>4i', f.read(16))\n",
    "    train_img = np.fromfile(f, dtype=np.uint8).reshape(-1, 28*28)/255\n",
    "with open(test_img_path, 'rb') as f:\n",
    "    struct.unpack('>4i', f.read(16))\n",
    "    test_img = np.fromfile(f, dtype=np.uint8).reshape(-1, 28*28)/255\n",
    "with open(train_lab_path, 'rb') as f:\n",
    "    struct.unpack('>2i', f.read(8))\n",
    "    train_lab = np.fromfile(f, dtype=np.uint8)\n",
    "with open(test_lab_path, 'rb') as f:\n",
    "    struct.unpack('>2i', f.read(8))\n",
    "    test_lab = np.fromfile(f, dtype=np.uint8)"
   ]
  },
  {
   "cell_type": "code",
   "execution_count": 8,
   "metadata": {},
   "outputs": [],
   "source": [
    "# 查看MNIST的图片\n",
    "def show_train(index):\n",
    "    plt.imshow(train_img[index].reshape(28, 28), cmap='gray')\n",
    "    print('label: {}'.format(train_lab[index]))\n",
    "    plt.pause(1)\n",
    "def show_test(index):\n",
    "    plt.imshow(test_img[index].reshape(28, 28), cmap='gray')\n",
    "    print('label: {}'.format(test_lab[index]))\n",
    "    plt.pause(1)\n",
    "\n",
    "# 激活函数的梯度\n",
    "def  d_softmax(data):\n",
    "    sm = softmax(data)\n",
    "    return np.diag(sm) - np.outer(sm, sm)\n",
    "def d_tanh(data):\n",
    "    return 1/(np.cosh(data))**2\n",
    "onehot = np.identity(dimensions[-1])\n",
    "\n",
    "# 损失函数\n",
    "def sqr_loss(img, lab, parameters):\n",
    "    y_pred = predict(img, parameters) # 预测值\n",
    "    y = onehot[lab] # 实际值\n",
    "    diff = y - y_pred\n",
    "    return np.dot(diff, diff) # 预测值与实际值的差的平方和\n",
    "differential = {softmax:d_softmax, tanh:d_tanh}"
   ]
  },
  {
   "cell_type": "code",
   "execution_count": 9,
   "metadata": {},
   "outputs": [],
   "source": [
    "# 梯度下降，损失函数对权重与偏执求导，并返回三个参数的梯度\n",
    "def grad_parameters(img, lab, parameters):\n",
    "    # l0_in = img + parameters[0]['b']\n",
    "    # l0_out = activation[0](l0_in)\n",
    "    l0_out = img\n",
    "    l1_in = np.dot(l0_out, parameters[1]['w']+parameters[1]['b'])\n",
    "    l1_out = activation[1](l1_in)\n",
    "\n",
    "    diff = onehot[lab] - l1_out\n",
    "    act1 = np.dot(differential[activation[1]](l1_in), diff)\n",
    "\n",
    "    grad_b1 = -2 * act1\n",
    "    grad_w1 = -2 * np.outer(l0_out, act1)\n",
    "    # grad_b0 = -2 * differential[activation[0]](l0_in) * np.dot(parameters[1]['w'] ,act1)\n",
    "    grad_b0 = 0\n",
    "\n",
    "    return {'w1': grad_w1, 'b1':grad_b1, 'b0':grad_b0}"
   ]
  },
  {
   "cell_type": "code",
   "execution_count": 10,
   "metadata": {},
   "outputs": [],
   "source": [
    "# 训练集与测试集的loss与accuracy\n",
    "def train_loss(parameters):\n",
    "    loss_accu = 0\n",
    "    for img_i in range(train_num):\n",
    "        loss_accu += sqr_loss(train_img[img_i], train_lab[img_i], parameters)\n",
    "    return loss_accu/(train_num/10000)\n",
    "def train_accuracy(parameters):\n",
    "    correct = [predict(train_img[img_i], parameters).argmax()==train_lab[img_i] for img_i in range(train_num)]\n",
    "    return correct.count(True)/len(correct)\n",
    "def test_loss(parameters):\n",
    "    loss_accu = 0\n",
    "    for img_i in range(test_num):\n",
    "        loss_accu += sqr_loss(test_img[img_i], test_lab[img_i], parameters)\n",
    "    return loss_accu/(test_num/10000)\n",
    "def test_accuracy(parameters):\n",
    "    correct = [predict(test_img[img_i], parameters).argmax()==test_lab[img_i] for img_i in range(test_num)]\n",
    "    return correct.count(True)/len(correct)"
   ]
  },
  {
   "cell_type": "code",
   "execution_count": 11,
   "metadata": {},
   "outputs": [],
   "source": [
    "# 每回合batch的训练，这里有点忘了\n",
    "batch_size = 3000\n",
    "def train_batch(current_batch, parameters):\n",
    "    grad_accu = grad_parameters(train_img[current_batch*batch_size+0], train_lab[current_batch*batch_size+0], parameters)\n",
    "    for img_i in range(1, batch_size):\n",
    "        grad_tmp = grad_parameters(train_img[current_batch*batch_size+img_i], train_lab[current_batch*batch_size+img_i], parameters)\n",
    "        for key in grad_accu.keys():\n",
    "            grad_accu[key] += grad_tmp[key]\n",
    "    for key in grad_accu.keys():\n",
    "        grad_accu[key] /= batch_size\n",
    "    return grad_accu"
   ]
  },
  {
   "cell_type": "code",
   "execution_count": 12,
   "metadata": {},
   "outputs": [],
   "source": [
    "# 更新参数\n",
    "def combine_parameters(parameters, grad, learn_rate):\n",
    "    parameter_tmp = copy.deepcopy(parameters)\n",
    "    parameter_tmp[0]['b'] -= learn_rate * grad['b0']    # 更新输入层的偏执\n",
    "    parameter_tmp[1]['b'] -= learn_rate * grad['b1']    # 更新输出层的偏执\n",
    "    parameter_tmp[1]['w'] -= learn_rate * grad['w1']    # 更新权重\n",
    "\n",
    "    return parameter_tmp"
   ]
  },
  {
   "cell_type": "code",
   "execution_count": 13,
   "metadata": {},
   "outputs": [],
   "source": [
    "parameters = init_parameters()\n",
    "current_epoch = 0\n",
    "train_loss_list = []\n",
    "test_loss_list = []\n",
    "train_accu_list = []\n",
    "test_accu_list = []\n",
    "\n",
    "# 开始训练网络\n",
    "learn_rate = 0.3\n",
    "epoch_num = 100"
   ]
  },
  {
   "cell_type": "code",
   "execution_count": null,
   "metadata": {
    "scrolled": false
   },
   "outputs": [],
   "source": [
    "for epoch in range(epoch_num):\n",
    "    current_epoch += 1\n",
    "    print('Now running epoch %d/%d' %(current_epoch, epoch_num))\n",
    "    for i in tqdm(range(int(train_num/batch_size))):\n",
    "        # print('running batch {}/{}'.format(i+1, train_num/batch_size))\n",
    "        grad_tmp = train_batch(i, parameters)\n",
    "        parameters = combine_parameters(parameters, grad_tmp, learn_rate)\n",
    "\n",
    "    # 储存准确率与损失\n",
    "    train_loss_list.append(train_loss(parameters))\n",
    "    train_accu_list.append(train_accuracy(parameters))\n",
    "    test_loss_list.append(test_loss(parameters))\n",
    "    test_accu_list.append(test_accuracy(parameters))\n",
    "\n",
    "    print('train acc:', train_accu_list[-1]*100, '%')\n",
    "    print('test acc:', test_accu_list[-1]*100, '%')"
   ]
  },
  {
   "cell_type": "code",
   "execution_count": 15,
   "metadata": {},
   "outputs": [
    {
     "data": {
      "image/png": "[encoded data removed]",
      "text/plain": [
       "<Figure size 432x288 with 1 Axes>"
      ]
     },
     "metadata": {
      "needs_background": "light"
     },
     "output_type": "display_data"
    },
    {
     "data": {
      "image/png": "[encoded data removed]",
      "text/plain": [
       "<Figure size 432x288 with 1 Axes>"
      ]
     },
     "metadata": {
      "needs_background": "light"
     },
     "output_type": "display_data"
    }
   ],
   "source": [
    "# 画出准确率与损失图像，并保存为文件\n",
    "lower = 0\n",
    "plt.plot(test_loss_list[lower:], color='black', label='test loss', marker='o')\n",
    "plt.plot(train_loss_list[lower:], color='red', label='train loss', marker='>')\n",
    "plt.show()\n",
    "\n",
    "plt.plot(test_accu_list[lower:], color='black', label='test accuracy', marker='o')\n",
    "plt.plot(train_accu_list[lower:], color='red', label='train accuracy', marker='>')\n",
    "plt.show()"
   ]
  },
  {
   "cell_type": "code",
   "execution_count": 16,
   "metadata": {},
   "outputs": [
    {
     "data": {
      "text/plain": [
       "array([[-0.67270237,  0.9810712 , -0.11475327, ..., -0.39853643,\n",
       "        -0.08838707, -0.68771297],\n",
       "       [ 0.84058448,  0.48623412, -0.56714453, ..., -0.67267261,\n",
       "        -0.43517648, -0.33376952],\n",
       "       [-0.61327188, -0.13250339, -0.89887732, ...,  0.39713165,\n",
       "        -0.79179827, -0.54194629],\n",
       "       ...,\n",
       "       [ 0.93048624, -0.42971492,  0.20652627, ..., -0.68981148,\n",
       "        -0.74103511,  0.73012521],\n",
       "       [ 0.33034236, -0.07508209, -0.68800569, ..., -0.58433446,\n",
       "         0.95717053,  0.88344327],\n",
       "       [ 0.86471248,  0.62236509, -0.84690544, ...,  0.99748539,\n",
       "        -0.72694894, -0.22280014]])"
      ]
     },
     "execution_count": 16,
     "metadata": {},
     "output_type": "execute_result"
    }
   ],
   "source": [
    "parameters[1][\"w\"]"
   ]
  },
  {
   "cell_type": "code",
   "execution_count": 20,
   "metadata": {},
   "outputs": [
    {
     "data": {
      "image/png": "[encoded data removed]",
      "text/plain": [
       "<Figure size 432x288 with 1 Axes>"
      ]
     },
     "metadata": {
      "needs_background": "light"
     },
     "output_type": "display_data"
    }
   ],
   "source": [
    "w = parameters[1][\"w\"].copy()\n",
    "plt.imshow(w[:,0].reshape((28,28)))\n",
    "np.save(\"w0_origin.npy\", w[:,0])"
   ]
  },
  {
   "cell_type": "code",
   "execution_count": 21,
   "metadata": {},
   "outputs": [],
   "source": [
    "accu = train_accu_list.copy()\n",
    "np.savetxt(\"origin train accu.txt\", accu)"
   ]
  },
  {
   "cell_type": "code",
   "execution_count": null,
   "metadata": {},
   "outputs": [],
   "source": []
  }
 ],
 "metadata": {
  "kernelspec": {
   "display_name": "Python 3.9.12 ('base')",
   "language": "python",
   "name": "python3"
  },
  "language_info": {
   "codemirror_mode": {
    "name": "ipython",
    "version": 3
   },
   "file_extension": ".py",
   "mimetype": "text/x-python",
   "name": "python",
   "nbconvert_exporter": "python",
   "pygments_lexer": "ipython3",
   "version": "3.9.12"
  },
  "vscode": {
   "interpreter": {
    "hash": "88279d2366fe020547cde40dd65aa0e3aa662a6ec1f3ca12d88834876c85e1a6"
   }
  }
 },
 "nbformat": 4,
 "nbformat_minor": 4
}
