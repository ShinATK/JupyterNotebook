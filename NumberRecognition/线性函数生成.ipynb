{
 "cells": [
  {
   "cell_type": "code",
   "execution_count": 42,
   "id": "0bac1658",
   "metadata": {},
   "outputs": [],
   "source": [
    "import numpy as np\n",
    "import matplotlib.pyplot as plt"
   ]
  },
  {
   "cell_type": "code",
   "execution_count": 46,
   "id": "7dd4f1cc",
   "metadata": {},
   "outputs": [],
   "source": [
    "parameters = {\n",
    "    'a+': 1e-2, 'b+': 3,\n",
    "    'a-': 1e-2, 'b-': 3,\n",
    "    'wmax': 1, 'wmin': 0\n",
    "}\n",
    "weight_plus_list = [parameters['wmin']]\n",
    "weight_minus_list = [parameters['wmax']]\n",
    "\n",
    "def weight_plus(w):\n",
    "    delta_w = parameters['a+'] * np.exp(-parameters['b+']*(w-parameters['wmin'])\n",
    "                                             /(parameters['wmax']-parameters['wmin']))\n",
    "    return w+delta_w\n",
    "def weight_minus(w):\n",
    "    delta_w = parameters['a-'] * np.exp(-parameters['b-']*(parameters['wmax']-w)\n",
    "                                             /(parameters['wmax']-parameters['wmin']))\n",
    "    return w-delta_w"
   ]
  },
  {
   "cell_type": "code",
   "execution_count": 47,
   "id": "8515b592",
   "metadata": {},
   "outputs": [],
   "source": [
    "def draw_graph_plus(weight):\n",
    "    plt.plot(weight, color='red', label='weight_minus_list', marker='>')\n",
    "    return 0\n",
    "def draw_graph_minus(weight):\n",
    "    plt.plot(weight, color='black', label='weight_plus_list', marker='o')\n",
    "    return 0\n",
    "def draw_graph_both(weight_plus, weight_minus):\n",
    "    weight = weight_plus + weight_minus\n",
    "    plt.plot(weight, color='blue', label='weight', marker='o')\n",
    "    return 0"
   ]
  },
  {
   "cell_type": "code",
   "execution_count": 51,
   "id": "9410eeb7",
   "metadata": {},
   "outputs": [],
   "source": [
    "def equation():\n",
    "    count_num = 0\n",
    "    while True:\n",
    "        weight_plus_list.append(weight_plus(weight_plus_list[-1]))\n",
    "        weight_minus_list.append(weight_minus(weight_minus_list[-1]))\n",
    "        count_num += 1\n",
    "        if weight_plus_list[-1] >= 1:\n",
    "            break\n",
    "        elif count_num == 50:\n",
    "            break\n",
    "        else:\n",
    "            continue\n",
    "\n",
    "    wpl = [0.1*(each - weight_plus_list[0]) / (weight_plus_list[-1]-weight_plus_list[0]) for each in weight_plus_list]\n",
    "    wml = [0.1*(each - weight_minus_list[-1]) / (weight_minus_list[0]-weight_minus_list[-1]) for each in weight_minus_list]\n",
    "    \n",
    "    return wpl, wml"
   ]
  },
  {
   "cell_type": "code",
   "execution_count": 52,
   "id": "b327572c",
   "metadata": {},
   "outputs": [
    {
     "data": {
      "text/plain": [
       "0"
      ]
     },
     "execution_count": 52,
     "metadata": {},
     "output_type": "execute_result"
    },
    {
     "data": {
      "image/png": "[encoded data removed]",
      "text/plain": [
       "<Figure size 432x288 with 1 Axes>"
      ]
     },
     "metadata": {
      "needs_background": "light"
     },
     "output_type": "display_data"
    }
   ],
   "source": [
    "wpl, wml = equation()\n",
    "draw_graph_both(wpl, wml)"
   ]
  },
  {
   "cell_type": "code",
   "execution_count": null,
   "id": "d591bb06",
   "metadata": {},
   "outputs": [],
   "source": []
  }
 ],
 "metadata": {
  "kernelspec": {
   "display_name": "Python 3.8.5 ('base')",
   "language": "python",
   "name": "python3"
  },
  "language_info": {
   "codemirror_mode": {
    "name": "ipython",
    "version": 3
   },
   "file_extension": ".py",
   "mimetype": "text/x-python",
   "name": "python",
   "nbconvert_exporter": "python",
   "pygments_lexer": "ipython3",
   "version": "3.9.12"
  },
  "vscode": {
   "interpreter": {
    "hash": "88279d2366fe020547cde40dd65aa0e3aa662a6ec1f3ca12d88834876c85e1a6"
   }
  }
 },
 "nbformat": 4,
 "nbformat_minor": 5
}
