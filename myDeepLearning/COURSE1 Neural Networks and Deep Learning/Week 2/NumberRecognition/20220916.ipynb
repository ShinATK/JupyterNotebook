{
 "cells": [
  {
   "attachments": {},
   "cell_type": "markdown",
   "metadata": {},
   "source": [
    "# 20220916 组会\n",
    "## 神经网络模型\n",
    "![network.png](network.png)\n",
    "1. **权重矩阵特征值显示问题**\n",
    "![原模型数字0特征矩阵.png](原模型数字0特征矩阵.png)\n",
    "2. **单次运行消耗时间的问题**\n",
    "![](old_times.png)\n",
    "3. **准确率不够高的问题**\n",
    "![图片3.png](图片3.png)\n",
    "4. **无法反映电导数据线性度的区别的问题**\n",
    "\n",
    "<img style=\"float: left;\" src=\"图片1.png\" width=\"50%\">\n",
    "<img style=\"float: left;\" src=\"图片2.png\" width=\"50%\">"
   ]
  },
  {
   "cell_type": "code",
   "execution_count": null,
   "metadata": {},
   "outputs": [],
   "source": [
    "import numpy as np\n",
    "import matplotlib.pyplot as plt"
   ]
  },
  {
   "cell_type": "markdown",
   "metadata": {},
   "source": [
    "### **1. 权重矩阵特征值显示问题**"
   ]
  },
  {
   "cell_type": "code",
   "execution_count": null,
   "metadata": {},
   "outputs": [],
   "source": [
    "hw0 = np.load(\"handwritten0.npy\")\n",
    "hw1 = np.load(\"handwritten1.npy\")\n",
    "hw2 = np.load(\"handwritten2.npy\")\n",
    "hw3 = np.load(\"handwritten3.npy\")\n",
    "hw4 = np.load(\"handwritten4.npy\")\n",
    "hw5 = np.load(\"handwritten5.npy\")\n",
    "hw6 = np.load(\"handwritten6.npy\")\n",
    "hw7 = np.load(\"handwritten7.npy\")\n",
    "hw8 = np.load(\"handwritten8.npy\")\n",
    "hw9 = np.load(\"handwritten9.npy\")\n",
    "\n",
    "plt.imshow(hw0.reshape((28,28)))\n",
    "plt.axis('off')\n",
    "plt.pause(0.5)\n",
    "\n",
    "plt.subplot(3,3,1)\n",
    "plt.imshow(hw1.reshape((28,28)))\n",
    "plt.axis('off')\n",
    "plt.subplot(3,3,2)\n",
    "plt.imshow(hw2.reshape((28,28)))\n",
    "plt.axis('off')\n",
    "plt.subplot(3,3,3)\n",
    "plt.imshow(hw3.reshape((28,28)))\n",
    "plt.axis('off')\n",
    "plt.subplot(3,3,4)\n",
    "plt.imshow(hw4.reshape((28,28)))\n",
    "plt.axis('off')\n",
    "plt.subplot(3,3,5)\n",
    "plt.imshow(hw5.reshape((28,28)))\n",
    "plt.axis('off')\n",
    "plt.subplot(3,3,6)\n",
    "plt.imshow(hw6.reshape((28,28)))\n",
    "plt.axis('off')\n",
    "plt.subplot(3,3,7)\n",
    "plt.imshow(hw7.reshape((28,28)))\n",
    "plt.axis('off')\n",
    "plt.subplot(3,3,8)\n",
    "plt.imshow(hw8.reshape((28,28)))\n",
    "plt.axis('off')\n",
    "plt.subplot(3,3,9)\n",
    "plt.imshow(hw9.reshape((28,28)))\n",
    "plt.axis('off')"
   ]
  },
  {
   "cell_type": "code",
   "execution_count": null,
   "metadata": {},
   "outputs": [],
   "source": [
    "# 原模型矩阵\n",
    "w0_origin = np.load(\"w0_origin.npy\")\n",
    "plt.subplot(1,2,1)\n",
    "plt.imshow(w0.reshape((28,28)))\n",
    "plt.axis('off')\n",
    "plt.title(\"origin version\", fontsize=14)\n",
    "# 现模型矩阵\n",
    "w0_new = np.load(\"w0_new.npy\")\n",
    "plt.subplot(1, 2, 2)\n",
    "plt.imshow(w0_new.reshape((28,28)))\n",
    "plt.axis('off')\n",
    "plt.title(\"new version\", fontsize=14)\n",
    "plt.pause(0.5)\n",
    "\n",
    "w1_new = np.load(\"w1_new.npy\")\n",
    "plt.subplot(3, 3, 1)\n",
    "plt.imshow(w1_new.reshape((28,28)))\n",
    "plt.axis('off')\n",
    "plt.title(\"1\", fontsize=14)\n",
    "plt.tight_layout()\n",
    "\n",
    "w2_new = np.load(\"w2_new.npy\")\n",
    "plt.subplot(3, 3, 2)\n",
    "plt.imshow(w2_new.reshape((28,28)))\n",
    "plt.axis('off')\n",
    "plt.title(\"2\", fontsize=14)\n",
    "plt.tight_layout()\n",
    "\n",
    "w3_new = np.load(\"w3_new.npy\")\n",
    "plt.subplot(3, 3, 3)\n",
    "plt.imshow(w3_new.reshape((28,28)))\n",
    "plt.axis('off')\n",
    "plt.title(\"3\", fontsize=14)\n",
    "plt.tight_layout()\n",
    "\n",
    "w4_new = np.load(\"w4_new.npy\")\n",
    "plt.subplot(3, 3, 4)\n",
    "plt.imshow(w4_new.reshape((28,28)))\n",
    "plt.axis('off')\n",
    "plt.title(\"4\", fontsize=14)\n",
    "plt.tight_layout()\n",
    "\n",
    "w5_new = np.load(\"w5_new.npy\")\n",
    "plt.subplot(3, 3, 5)\n",
    "plt.imshow(w5_new.reshape((28,28)))\n",
    "plt.axis('off')\n",
    "plt.title(\"5\", fontsize=14)\n",
    "plt.tight_layout()\n",
    "\n",
    "w6_new = np.load(\"w6_new.npy\")\n",
    "plt.subplot(3, 3, 6)\n",
    "plt.imshow(w6_new.reshape((28,28)))\n",
    "plt.axis('off')\n",
    "plt.title(\"6\", fontsize=14)\n",
    "plt.tight_layout()\n",
    "\n",
    "w7_new = np.load(\"w7_new.npy\")\n",
    "plt.subplot(3, 3, 7)\n",
    "plt.imshow(w7_new.reshape((28,28)))\n",
    "plt.axis('off')\n",
    "plt.title(\"7\", fontsize=14)\n",
    "plt.tight_layout()\n",
    "\n",
    "w8_new = np.load(\"w8_new.npy\")\n",
    "plt.subplot(3, 3, 8)\n",
    "plt.imshow(w8_new.reshape((28,28)))\n",
    "plt.axis('off')\n",
    "plt.title(\"8\", fontsize=14)\n",
    "plt.tight_layout()\n",
    "\n",
    "w9_new = np.load(\"w9_new.npy\")\n",
    "plt.subplot(3, 3, 9)\n",
    "plt.imshow(w9_new.reshape((28,28)))\n",
    "plt.axis('off')\n",
    "plt.title(\"9\", fontsize=14)\n",
    "plt.tight_layout()"
   ]
  },
  {
   "cell_type": "markdown",
   "metadata": {},
   "source": [
    "### **2. 网络训练消耗时间的问题**\n",
    "- 旧模型：50（20）次训练循环，耗时800s，识别率83%\n",
    "![](old_times.png)\n",
    "- 新模型：1000次训练循环，耗时80s，识别率99%\n",
    "![new0_times.png](new0_times.png)"
   ]
  },
  {
   "cell_type": "markdown",
   "metadata": {},
   "source": [
    "### **3. 准确率不够高的问题**"
   ]
  },
  {
   "cell_type": "markdown",
   "metadata": {},
   "source": [
    "- 模型本身的学习效果："
   ]
  },
  {
   "cell_type": "code",
   "execution_count": null,
   "metadata": {},
   "outputs": [],
   "source": [
    "tmp = np.loadtxt(\"origin train accu.txt\")\n",
    "origin_accu = tmp * 100\n",
    "origin_accu[0] = 0\n",
    "new_accu = np.loadtxt(\"new train accu.txt\")\n",
    "new_accu[0] = 0\n",
    "plt.plot(origin_accu, label = 'origin')\n",
    "plt.plot(new_accu[:100], label = 'new')\n",
    "plt.xlabel('Training Cycle(#)', fontsize=14)\n",
    "plt.ylabel('Recognition Rate(%)', fontsize=14)\n",
    "plt.legend()\n",
    "plt.show()\n",
    "\n",
    "print(\"Max accu:\")\n",
    "print(f\" origin: {origin_accu[-1]}%\")\n",
    "print(f\" new:    {new_accu[-1]}%\")"
   ]
  },
  {
   "cell_type": "markdown",
   "metadata": {},
   "source": [
    "- 导入电导数据后的模型学习效果"
   ]
  },
  {
   "cell_type": "code",
   "execution_count": null,
   "metadata": {},
   "outputs": [],
   "source": [
    "accu0_qxs = list(np.loadtxt(\"accu0_qxs.txt\"))\n",
    "w0_qxs = np.load(\"w0_qxs.npy\")\n",
    "accu3_qxs = list(np.loadtxt(\"accu3_qxs.txt\"))\n",
    "w3_qxs = np.load(\"w3_qxs.npy\")\n",
    "\n",
    "plt.subplot(1,2,1)\n",
    "plt.imshow(w0_qxs.reshape((28,28)))\n",
    "plt.axis(\"off\")\n",
    "plt.title(\"Number 0\", fontsize=14)\n",
    "plt.subplot(1,2,2)\n",
    "plt.imshow(w3_qxs.reshape((28,28)))\n",
    "plt.axis(\"off\")\n",
    "plt.title(\"Number 3\", fontsize=14)\n",
    "plt.pause(0.5)\n",
    "\n",
    "plt.plot([0]+accu0_qxs, label=\"Number 0\")\n",
    "plt.plot([0]+accu3_qxs, label=\"Number 3\")\n",
    "plt.xlabel(\"Training Cycle(#)\", fontsize=14)\n",
    "plt.ylabel(\"Recognition Rate(%)\", fontsize=14)\n",
    "plt.ylim(80, 100)\n",
    "plt.legend()\n",
    "plt.show()"
   ]
  },
  {
   "cell_type": "markdown",
   "metadata": {},
   "source": [
    "- 旧模型：导入数据后学习效果\n",
    "![图片3.png](图片3.png)"
   ]
  },
  {
   "cell_type": "markdown",
   "metadata": {},
   "source": [
    "### **4. 无法反映电导数据线性度的区别**  "
   ]
  },
  {
   "cell_type": "markdown",
   "metadata": {},
   "source": [
    "- 旧模型： \n",
    "\n",
    "<img style=\"float: left;\" src=\"图片1.png\" width=\"50%\">\n",
    "<img style=\"float: left;\" src=\"图片2.png\" width=\"50%\">"
   ]
  },
  {
   "cell_type": "markdown",
   "metadata": {},
   "source": [
    "- 新模型："
   ]
  },
  {
   "cell_type": "code",
   "execution_count": null,
   "metadata": {},
   "outputs": [],
   "source": [
    "def draw_pic():\n",
    "    GP = {'0': [], '3':[], '9':[], '27': []}\n",
    "    GD = {'0': [], '3':[], '9':[], '27': []}\n",
    "\n",
    "    GP['0'] = list((np.loadtxt('GP 0.txt')+0.2)/0.3)\n",
    "    GP['3'] = list((np.loadtxt('GP 3.txt')+0.2)/0.3)\n",
    "    GP['9'] = list((np.loadtxt('GP 9.txt')+0.2)/0.3)\n",
    "    GP['27'] = list((np.loadtxt('GP 27.txt')+0.2)/0.3)\n",
    "    GD['0'] = list((np.loadtxt('GD 0.txt')+0.2)/0.3)\n",
    "    GD['3'] = list((np.loadtxt('GD 3.txt')+0.2)/0.3)\n",
    "    GD['9'] = list((np.loadtxt('GD 9.txt')+0.2)/0.3)\n",
    "    GD['27'] = list((np.loadtxt('GD 27.txt')+0.2)/0.3)\n",
    "\n",
    "    plt.plot(GP['0']+GD['0'], label = 'nonlinearity 0')\n",
    "    plt.plot(GP['3']+GD['3'], label = 'nonlinearity 3')\n",
    "    plt.plot(GP['9']+GD['9'], label = 'nonlinearity 9')\n",
    "    plt.plot(GP['27']+GD['27'], label = 'nonlinearity 27')\n",
    "    plt.xlabel(\"Weights state(#)\", fontsize=14)\n",
    "    plt.ylabel(\"Normalized(#)\", fontsize=14)\n",
    "    plt.legend()\n",
    "    plt.show()\n",
    "    \n",
    "    accus = {'0': [], '3':[], '9':[], '27': []}\n",
    "\n",
    "    accus['0'] = list(np.loadtxt('accu 0.txt'))\n",
    "    accus['3'] = list(np.loadtxt('accu 3.txt'))\n",
    "    accus['9'] = list(np.loadtxt('accu 9.txt'))\n",
    "    accus['27'] = list(np.loadtxt('accu 27.txt'))\n",
    "\n",
    "    plt.plot(accus['0'], label = 'nonlinearity 0')\n",
    "    plt.plot(accus['3'], label = 'nonlinearity 3')\n",
    "    plt.plot(accus['9'], label = 'nonlinearity 9')\n",
    "    plt.plot(accus['27'], label = 'nonlinearity 27')\n",
    "    plt.xlabel(\"Training Cycle(#)\", fontsize=14)\n",
    "    plt.ylabel(\"Recognition Rate (%)\", fontsize=14)\n",
    "    plt.ylim(96.5, 98.2)\n",
    "    plt.yticks(np.linspace(97, 98, 2))\n",
    "    plt.legend()\n",
    "    plt.show()\n",
    "    \n",
    "    w = {'0': [], '3':[], '9':[], '27': []}\n",
    "    w['0'] = np.load('w0 0.npy')\n",
    "    w['3'] = np.load('w0 3.npy')\n",
    "    w['9'] = np.load('w0 9.npy')\n",
    "    w['27'] = np.load('w0 27.npy')\n",
    "    plt.subplot(2,2,1)\n",
    "    plt.imshow(w['0'].reshape((28,28)))\n",
    "    plt.axis('off')\n",
    "    plt.title('nonlinearity 0', fontsize=14)\n",
    "    plt.subplot(2,2,2)\n",
    "    plt.imshow(w['3'].reshape((28,28)))\n",
    "    plt.axis('off')\n",
    "    plt.title('nonlinearity 3', fontsize=14)\n",
    "    plt.subplot(2,2,3)\n",
    "    plt.imshow(w['9'].reshape((28,28)))\n",
    "    plt.axis('off')\n",
    "    plt.title('nonlinearity 9', fontsize=14)\n",
    "    plt.subplot(2,2,4)\n",
    "    plt.imshow(w['27'].reshape((28,28)))\n",
    "    plt.axis('off')\n",
    "    plt.title('nonlinearity 27', fontsize=14)\n",
    "    plt.tight_layout()\n",
    "    \n",
    "draw_pic()"
   ]
  },
  {
   "cell_type": "code",
   "execution_count": null,
   "metadata": {},
   "outputs": [],
   "source": []
  }
 ],
 "metadata": {
  "kernelspec": {
   "display_name": "Python 3",
   "language": "python",
   "name": "python3"
  },
  "language_info": {
   "codemirror_mode": {
    "name": "ipython",
    "version": 3
   },
   "file_extension": ".py",
   "mimetype": "text/x-python",
   "name": "python",
   "nbconvert_exporter": "python",
   "pygments_lexer": "ipython3",
   "version": "3.8.5"
  }
 },
 "nbformat": 4,
 "nbformat_minor": 4
}
