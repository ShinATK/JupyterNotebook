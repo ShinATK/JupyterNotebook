{
 "cells": [
  {
   "cell_type": "code",
   "execution_count": 152,
   "id": "dcf2513a",
   "metadata": {},
   "outputs": [],
   "source": [
    "import numpy as np\n",
    "from pathlib import Path\n",
    "import struct\n",
    "import matplotlib.pyplot as plt\n",
    "import copy\n",
    "from tqdm import tqdm"
   ]
  },
  {
   "cell_type": "code",
   "execution_count": 153,
   "id": "f4639b75",
   "metadata": {},
   "outputs": [],
   "source": [
    "dataset_path = Path(\"./MNIST\")\n",
    "train_img_path = dataset_path/'train-images-idx3-ubyte'\n",
    "train_lab_path = dataset_path/'train-labels-idx1-ubyte'\n",
    "test_img_path = dataset_path/'t10k-images-idx3-ubyte'\n",
    "test_lab_path = dataset_path/'t10k-labels-idx1-ubyte'"
   ]
  },
  {
   "cell_type": "code",
   "execution_count": 154,
   "id": "87dca503",
   "metadata": {},
   "outputs": [],
   "source": [
    "with open(train_img_path, \"rb\") as f:\n",
    "    struct.unpack(\">4i\", f.read(16))\n",
    "    tmp_img = np.fromfile(f, dtype=np.uint8).reshape(-1, 28*28)/255\n",
    "    train_img = tmp_img[:]\n",
    "with open(test_img_path, \"rb\") as f:\n",
    "    struct.unpack(\">4i\", f.read(16))\n",
    "    test_img = np.fromfile(f, dtype=np.uint8).reshape(-1, 28*28)/255\n",
    "with open(train_lab_path, \"rb\") as f:\n",
    "    struct.unpack(\">2i\", f.read(8))\n",
    "    tmp_lab = np.fromfile(f, dtype=np.uint8).reshape(-1, 1)\n",
    "    train_lab = tmp_lab[:]\n",
    "with open(test_lab_path, \"rb\") as f:\n",
    "    struct.unpack(\">2i\", f.read(8))\n",
    "    test_lab = np.fromfile(f, dtype=np.uint8).reshape(-1, 1)\n",
    "# len(train_img)"
   ]
  },
  {
   "cell_type": "code",
   "execution_count": 155,
   "id": "c2a2429a",
   "metadata": {},
   "outputs": [],
   "source": [
    "# FUNCTION: show_image(index)\n",
    "def show_image(img, index):\n",
    "    plt.imshow(img[index].reshape(28, 28), cmap='gray')\n",
    "    plt.pause(1)\n",
    "    # print(\"label: {}\".format(label[index]))\n",
    "    return 0\n",
    "# show_image(train_img, train_lab, 30)\n",
    "# len(train_lab[np.where(train_lab == 9)])"
   ]
  },
  {
   "cell_type": "code",
   "execution_count": 156,
   "id": "1496264a",
   "metadata": {},
   "outputs": [
    {
     "name": "stdout",
     "output_type": "stream",
     "text": [
      "(60000, 784)\n",
      "(10000, 784)\n",
      "(60000, 1)\n"
     ]
    },
    {
     "data": {
      "text/plain": [
       "array([[5],\n",
       "       [0],\n",
       "       [4],\n",
       "       ...,\n",
       "       [5],\n",
       "       [6],\n",
       "       [8]], dtype=uint8)"
      ]
     },
     "execution_count": 156,
     "metadata": {},
     "output_type": "execute_result"
    }
   ],
   "source": [
    "train_num = train_img.shape[0]\n",
    "test_num = test_img.shape[0]\n",
    "print(train_img.shape)\n",
    "print(test_img.shape)\n",
    "print(train_lab.shape)\n",
    "train_lab"
   ]
  },
  {
   "cell_type": "markdown",
   "id": "d06376a2",
   "metadata": {},
   "source": [
    "### <font color=\"red\"> 警示 </font>：\n",
    "这里创建训练集合，需要对自己指定的数字，比如数字0，和其他数字进行整体的重新建立。并重新赋予图像标签（手写数字为0的标签为1，表示是数字0；其他手写数字标签为0，表示图片上的数字不是0）\n",
    "也就是讲label转成，数字0对应label设置为1，表示为数字0；其他数字对应label改为0，表示不是数字0"
   ]
  },
  {
   "cell_type": "code",
   "execution_count": 157,
   "id": "b2b9de73",
   "metadata": {},
   "outputs": [
    {
     "name": "stdout",
     "output_type": "stream",
     "text": [
      "[[0 1 0 ... 0 0 0]]\n",
      "train set shape: (784, 60000)\n",
      "train lab shape: (1, 60000)\n",
      "test set shape: (784, 10000)\n",
      "test lab shape: (1, 10000)\n"
     ]
    },
    {
     "data": {
      "image/png": "[encoded data removed]",
      "text/plain": [
       "<Figure size 432x288 with 1 Axes>"
      ]
     },
     "metadata": {
      "needs_background": "light"
     },
     "output_type": "display_data"
    },
    {
     "name": "stdout",
     "output_type": "stream",
     "text": [
      "(1, 60000)\n"
     ]
    },
    {
     "data": {
      "text/plain": [
       "5923"
      ]
     },
     "execution_count": 157,
     "metadata": {},
     "output_type": "execute_result"
    }
   ],
   "source": [
    "# 将给定num的label改为1\n",
    "def train_setY(num):\n",
    "    label = train_lab.copy()\n",
    "    label[np.where(label != num)] = 9\n",
    "    label[np.where(label == num)] = 1\n",
    "    label[np.where(label == 9)] = 0\n",
    "    return label\n",
    "def test_setY(num):\n",
    "    label = test_lab.copy()\n",
    "    label[np.where(label != num)] = 9\n",
    "    label[np.where(label == num)] = 1\n",
    "    label[np.where(label == 9)] = 0\n",
    "    return label\n",
    "reg_num = 0\n",
    "limit_train = 60000\n",
    "limit_test = 10000\n",
    "train_X = train_img.copy().T[:, :limit_train]\n",
    "train_Y = train_setY(reg_num).T[:, :limit_train]\n",
    "print(train_Y)\n",
    "test_X = test_img.copy().T[:, :limit_test]\n",
    "test_Y = test_setY(reg_num).T[:, :limit_test]\n",
    "print(f\"train set shape: {train_X.shape}\")\n",
    "print(f\"train lab shape: {train_Y.shape}\")\n",
    "print(f\"test set shape: {test_X.shape}\")\n",
    "print(f\"test lab shape: {test_Y.shape}\")\n",
    "\n",
    "show_image(train_X.T, 3)\n",
    "# print(train_Y[30])\n",
    "print(train_Y.shape)\n",
    "# print(np.where(train_Y==1))\n",
    "tmp = train_lab.copy().T[:, :limit_train]\n",
    "len(tmp[np.where(tmp == reg_num)])"
   ]
  },
  {
   "cell_type": "markdown",
   "id": "74908079",
   "metadata": {},
   "source": [
    "## <font color='red'>警示</font>\n",
    "这里的置换矩阵有问题，在运行模型进行训练后，权重矩阵被替换后基本处于被某一个相同值替换的结果内。"
   ]
  },
  {
   "cell_type": "code",
   "execution_count": 176,
   "id": "acd4b887",
   "metadata": {},
   "outputs": [
    {
     "data": {
      "text/plain": [
       "array([0.1       , 0.09674565, 0.09358748, 0.09051993, 0.08753791,\n",
       "       0.08463675, 0.08181214, 0.07906014, 0.07637708, 0.07375956,\n",
       "       0.07120444, 0.06870881, 0.06626994, 0.06388528, 0.06155248,\n",
       "       0.0592693 , 0.05703368, 0.05484366, 0.05269741, 0.05059321,\n",
       "       0.04852943, 0.04650454, 0.0445171 , 0.04256573, 0.04064916,\n",
       "       0.03876615, 0.03691555, 0.03509625, 0.0333072 , 0.03154742,\n",
       "       0.02981596, 0.02811191, 0.02643442, 0.02478267, 0.02315589,\n",
       "       0.02155331, 0.01997424, 0.01841799, 0.0168839 , 0.01537136,\n",
       "       0.01387976, 0.01240853, 0.01095712, 0.009525  , 0.00811166,\n",
       "       0.00671661, 0.00533939, 0.00397955, 0.00263665, 0.00131026,\n",
       "       0.        ])"
      ]
     },
     "execution_count": 176,
     "metadata": {},
     "output_type": "execute_result"
    }
   ],
   "source": [
    "parameters = {\n",
    "    'a+': 1e-2, 'b+': 3,\n",
    "    'a-': 1e-2, 'b-': 3,\n",
    "    'wmax': 1, 'wmin': 0\n",
    "}\n",
    "weight_plus_list = [parameters['wmin']]\n",
    "weight_minus_list = [parameters['wmax']]\n",
    "\n",
    "def weight_plus(w):\n",
    "    delta_w = parameters['a+'] * np.exp(-parameters['b+']*(w-parameters['wmin'])\n",
    "                                             /(parameters['wmax']-parameters['wmin']))\n",
    "    return w+delta_w\n",
    "def weight_minus(w):\n",
    "    delta_w = parameters['a-'] * np.exp(-parameters['b-']*(parameters['wmax']-w)\n",
    "                                             /(parameters['wmax']-parameters['wmin']))\n",
    "    return w-delta_w\n",
    "def equation():\n",
    "    count_num = 0\n",
    "    while True:\n",
    "        weight_plus_list.append(weight_plus(weight_plus_list[-1]))\n",
    "        weight_minus_list.append(weight_minus(weight_minus_list[-1]))\n",
    "        count_num += 1\n",
    "        if weight_plus_list[-1] >= 1:\n",
    "            break\n",
    "        elif count_num == 50:\n",
    "            break\n",
    "        else:\n",
    "            continue\n",
    "\n",
    "    wpl = [0.1*(each - weight_plus_list[0]) / (weight_plus_list[-1]-weight_plus_list[0]) for each in weight_plus_list]\n",
    "    wml = [0.1*(each - weight_minus_list[-1]) / (weight_minus_list[0]-weight_minus_list[-1]) for each in weight_minus_list]\n",
    "    \n",
    "    return np.array(wpl), np.array(wml)\n",
    "GP, GD = equation()\n",
    "GD"
   ]
  },
  {
   "cell_type": "code",
   "execution_count": 178,
   "id": "16fa452b",
   "metadata": {},
   "outputs": [
    {
     "data": {
      "text/plain": [
       "0.0"
      ]
     },
     "execution_count": 178,
     "metadata": {},
     "output_type": "execute_result"
    }
   ],
   "source": [
    "def findGP_num(data, find_array=GP):\n",
    "    data_array = np.array([data] * len(find_array))\n",
    "    diff = abs(data_array - find_array)\n",
    "    index = np.where(diff == np.min(diff))[0][0]\n",
    "    # print(index)\n",
    "    return find_array[index]\n",
    "\n",
    "def findGD_num(data, find_array=GD):\n",
    "    data_array = np.array([data] * len(find_array))\n",
    "    diff = abs(data_array - find_array)\n",
    "    index = np.where(diff == np.min(diff))[0][0]\n",
    "    return find_array[index]\n",
    "\n",
    "def each_change(matrix_old, gradw):\n",
    "    matrix_new = np.zeros(matrix_old.shape)\n",
    "    for i in range(matrix_old.shape[0]):\n",
    "        if gradw[i] < 0:\n",
    "            matrix_new[i] = findGP_num(matrix_old[i])\n",
    "        else:\n",
    "            matrix_new[i] = findGD_num(matrix_old[i])\n",
    "    return matrix_new\n",
    "a = -0.014\n",
    "findGD_num(a)"
   ]
  },
  {
   "cell_type": "code",
   "execution_count": 181,
   "id": "6ba78993",
   "metadata": {},
   "outputs": [],
   "source": [
    "# 激活函数\n",
    "def sigmoid(z):\n",
    "    s = 1.0 / (1.0 + np.exp(-1.0*z))\n",
    "    return s\n",
    "\n",
    "# 参数初始化\n",
    "def initialize_with_zeros(dim):\n",
    "    w = np.zeros((dim, 1))\n",
    "    b = 0\n",
    "    \n",
    "#     plt.imshow(w.reshape((28,28)))\n",
    "#     plt.pause(1)\n",
    "    \n",
    "    assert(w.shape == (dim, 1))\n",
    "    assert(isinstance(b, float) or isinstance(b, int))\n",
    "    \n",
    "    return w, b\n",
    "\n",
    "# 向前传播\n",
    "def propagate(w, b, X, Y):\n",
    "    m = X.shape[1]\n",
    "    \n",
    "    A = sigmoid(np.dot(w.T, X) + b)\n",
    "    cost = -(1.0/m) * np.sum(Y * np.log(A) + (1-Y) * np.log(1-A))\n",
    "    \n",
    "    dw = (1.0/m) * np.dot(X, (A-Y).T)\n",
    "    db = (1.0/m) * np.sum(A-Y)\n",
    "    \n",
    "#     print(f\"(A-Y).shape: {(A-Y).shape}\")\n",
    "#     print(f\"X.shape: {X.shape}\")\n",
    "#     print(f\"w.shape: {w.shape}\")\n",
    "#     print(f\"dw.shape: {dw.shape}\")\n",
    "    \n",
    "    assert(dw.shape == w.shape)\n",
    "    assert(db.dtype == float)\n",
    "    cost = np.squeeze(cost)\n",
    "    assert(cost.shape == ())\n",
    "    grads = {\n",
    "        \"dw\": dw,\n",
    "        \"db\": db\n",
    "    }\n",
    "    \n",
    "    return grads, cost\n",
    "\n",
    "# 参数优化\n",
    "def optimize(w, b, X, Y, num_iterations, learning_rate, print_cost=False):\n",
    "    costs = []\n",
    "    for i in range(num_iterations):\n",
    "        grads, cost = propagate(w, b, X, Y)\n",
    "        dw = grads[\"dw\"]\n",
    "        db = grads[\"db\"]\n",
    "        \n",
    "        w = w - learning_rate * dw\n",
    "        b = b - learning_rate * db\n",
    "        \n",
    "        \n",
    "        w[np.where(w<0)] = 0\n",
    "        w = each_change(w, dw)\n",
    "        \n",
    "        if i%100 == 0:\n",
    "            costs.append(cost)\n",
    "            print(np.max(w), np.min(w))\n",
    "#         if i == num_iterations/2 or i == num_iterations-1:\n",
    "#             w_tmp = w.copy()\n",
    "#             plt.imshow(w_tmp.reshape((28,28)))\n",
    "#             plt.pause(1)\n",
    "        if print_cost and i%100 == 0:\n",
    "            print(\"Cost after iterations %i: %f\" %(i, cost))\n",
    "        \n",
    "    params = {\n",
    "        \"w\": w,\n",
    "        \"b\": b\n",
    "    }\n",
    "    grads = {\n",
    "        \"dw\": dw,\n",
    "        \"db\": db\n",
    "    }\n",
    "\n",
    "    return params, grads, costs\n",
    "\n",
    "# 模型预测\n",
    "def predict(w, b, X):\n",
    "    m = X.shape[1]\n",
    "    Y_prediction = np.zeros((1, m))\n",
    "    w = w.reshape(X.shape[0], 1)\n",
    "    \n",
    "    A = sigmoid(np.dot(w.T, X) + b)\n",
    "    \n",
    "    for i in range(A.shape[1]):\n",
    "        if A[0, i] > 0.5:\n",
    "            Y_prediction[0, i] = 1\n",
    "        else:\n",
    "            Y_prediction[0, i] = 0\n",
    "    assert(Y_prediction.shape == (1, m))\n",
    "    \n",
    "    return Y_prediction"
   ]
  },
  {
   "cell_type": "code",
   "execution_count": 182,
   "id": "a80bcc5c",
   "metadata": {},
   "outputs": [],
   "source": [
    "def model(X_train, Y_train, X_test, Y_test, num_iterations=2000, learning_rate=0.5, print_cost=False):\n",
    "    w, b = initialize_with_zeros(X_train.shape[0])\n",
    "    parameters, grads, costs = optimize(w, b, X_train, Y_train, num_iterations, learning_rate, print_cost)\n",
    "    \n",
    "    w = parameters[\"w\"]\n",
    "    b = parameters[\"b\"]\n",
    "    \n",
    "    Y_prediction_test = predict(w, b, X_test)\n",
    "    Y_prediction_train = predict(w, b, X_train)\n",
    "    \n",
    "    print(\"train accuracy: {}%\".format(100-np.mean(np.abs(Y_prediction_train-Y_train))*100))\n",
    "    print(\"test accuracy: {}%\".format(100-np.mean(np.abs(Y_prediction_test-Y_test))*100))\n",
    "    \n",
    "    d = {\n",
    "        \"costs\": costs,\n",
    "        \"Y_prediction_test\": Y_prediction_test,\n",
    "        \"Y_prediction_train\": Y_prediction_train,\n",
    "        \"w\": w,\n",
    "        \"b\": b,\n",
    "        \"learning_rate\": learning_rate,\n",
    "        \"num_iterations\": num_iterations\n",
    "    }\n",
    "    \n",
    "    return d"
   ]
  },
  {
   "cell_type": "code",
   "execution_count": 183,
   "id": "a6ec07bb",
   "metadata": {},
   "outputs": [
    {
     "name": "stdout",
     "output_type": "stream",
     "text": [
      "0.1 0.0\n",
      "Cost after iterations 0: 0.693147\n",
      "0.1 0.0\n",
      "Cost after iterations 100: 8.500366\n",
      "0.1 0.0\n",
      "Cost after iterations 200: 8.096252\n",
      "0.1 0.0\n",
      "Cost after iterations 300: 7.693235\n",
      "0.1 0.0\n",
      "Cost after iterations 400: 7.291862\n",
      "0.1 0.0\n",
      "Cost after iterations 500: 6.892900\n",
      "0.1 0.0\n",
      "Cost after iterations 600: 6.497392\n",
      "0.1 0.0\n",
      "Cost after iterations 700: 6.106688\n",
      "0.1 0.0\n",
      "Cost after iterations 800: 5.722447\n",
      "0.1 0.0\n",
      "Cost after iterations 900: 5.346589\n",
      "train accuracy: 12.213333333333338%\n",
      "test accuracy: 12.400000000000006%\n"
     ]
    },
    {
     "data": {
      "text/plain": [
       "<matplotlib.image.AxesImage at 0x7fa300e34490>"
      ]
     },
     "execution_count": 183,
     "metadata": {},
     "output_type": "execute_result"
    },
    {
     "data": {
      "image/png": "[encoded data removed]",
      "text/plain": [
       "<Figure size 432x288 with 1 Axes>"
      ]
     },
     "metadata": {
      "needs_background": "light"
     },
     "output_type": "display_data"
    }
   ],
   "source": [
    "d = model(train_X, train_Y, test_X, test_Y, num_iterations=1000, learning_rate=0.005, print_cost=True)\n",
    "w = d[\"w\"].copy()\n",
    "# w[np.where(w<=0)] = 0\n",
    "plt.imshow(w.reshape((28,28)))"
   ]
  },
  {
   "cell_type": "code",
   "execution_count": null,
   "id": "8daa3b1b",
   "metadata": {},
   "outputs": [],
   "source": []
  }
 ],
 "metadata": {
  "kernelspec": {
   "display_name": "Python 3 (ipykernel)",
   "language": "python",
   "name": "python3"
  },
  "language_info": {
   "codemirror_mode": {
    "name": "ipython",
    "version": 3
   },
   "file_extension": ".py",
   "mimetype": "text/x-python",
   "name": "python",
   "nbconvert_exporter": "python",
   "pygments_lexer": "ipython3",
   "version": "3.9.12"
  }
 },
 "nbformat": 4,
 "nbformat_minor": 5
}
