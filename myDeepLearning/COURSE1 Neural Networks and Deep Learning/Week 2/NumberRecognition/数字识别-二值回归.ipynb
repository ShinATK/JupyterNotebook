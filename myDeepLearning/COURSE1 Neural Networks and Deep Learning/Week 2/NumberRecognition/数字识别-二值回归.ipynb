{
 "cells": [
  {
   "cell_type": "code",
   "execution_count": 2,
   "id": "1c067473",
   "metadata": {},
   "outputs": [],
   "source": [
    "import numpy as np\n",
    "from pathlib import Path\n",
    "import struct\n",
    "import matplotlib.pyplot as plt\n",
    "import copy\n",
    "from tqdm import tqdm\n",
    "import time"
   ]
  },
  {
   "cell_type": "code",
   "execution_count": 3,
   "id": "360c032a",
   "metadata": {},
   "outputs": [],
   "source": [
    "dataset_path = Path(\"./MNIST\")\n",
    "train_img_path = dataset_path/'train-images-idx3-ubyte'\n",
    "train_lab_path = dataset_path/'train-labels-idx1-ubyte'\n",
    "test_img_path = dataset_path/'t10k-images-idx3-ubyte'\n",
    "test_lab_path = dataset_path/'t10k-labels-idx1-ubyte'"
   ]
  },
  {
   "cell_type": "code",
   "execution_count": 4,
   "id": "be122b12",
   "metadata": {},
   "outputs": [],
   "source": [
    "with open(train_img_path, \"rb\") as f:\n",
    "    struct.unpack(\">4i\", f.read(16))\n",
    "    tmp_img = np.fromfile(f, dtype=np.uint8).reshape(-1, 28*28)/255\n",
    "    train_img = tmp_img[:]\n",
    "with open(test_img_path, \"rb\") as f:\n",
    "    struct.unpack(\">4i\", f.read(16))\n",
    "    test_img = np.fromfile(f, dtype=np.uint8).reshape(-1, 28*28)/255\n",
    "with open(train_lab_path, \"rb\") as f:\n",
    "    struct.unpack(\">2i\", f.read(8))\n",
    "    tmp_lab = np.fromfile(f, dtype=np.uint8).reshape(-1, 1)\n",
    "    train_lab = tmp_lab[:]\n",
    "with open(test_lab_path, \"rb\") as f:\n",
    "    struct.unpack(\">2i\", f.read(8))\n",
    "    test_lab = np.fromfile(f, dtype=np.uint8).reshape(-1, 1)\n",
    "# len(train_img)"
   ]
  },
  {
   "cell_type": "code",
   "execution_count": 5,
   "id": "c2ec4ede",
   "metadata": {},
   "outputs": [],
   "source": [
    "# FUNCTION: show_image(index)\n",
    "def show_image(img, index):\n",
    "    plt.imshow(img[index].reshape(28, 28), cmap='gray')\n",
    "    plt.pause(1)\n",
    "    # print(\"label: {}\".format(label[index]))\n",
    "    return 0\n",
    "# show_image(train_img, train_lab, 30)\n",
    "# len(train_lab[np.where(train_lab == 9)])"
   ]
  },
  {
   "cell_type": "code",
   "execution_count": 6,
   "id": "69988d89",
   "metadata": {},
   "outputs": [
    {
     "name": "stdout",
     "output_type": "stream",
     "text": [
      "(60000, 784)\n",
      "(10000, 784)\n",
      "(60000, 1)\n"
     ]
    },
    {
     "data": {
      "text/plain": [
       "array([[5],\n",
       "       [0],\n",
       "       [4],\n",
       "       ...,\n",
       "       [5],\n",
       "       [6],\n",
       "       [8]], dtype=uint8)"
      ]
     },
     "execution_count": 6,
     "metadata": {},
     "output_type": "execute_result"
    }
   ],
   "source": [
    "train_num = train_img.shape[0]\n",
    "test_num = test_img.shape[0]\n",
    "print(train_img.shape)\n",
    "print(test_img.shape)\n",
    "print(train_lab.shape)\n",
    "train_lab"
   ]
  },
  {
   "cell_type": "markdown",
   "id": "9a9c448c",
   "metadata": {},
   "source": [
    "### <font color=\"red\"> 警示 </font>：\n",
    "这里创建训练集合，需要对自己指定的数字，比如数字0，和其他数字进行整体的重新建立。并重新赋予图像标签（手写数字为0的标签为1，表示是数字0；其他手写数字标签为0，表示图片上的数字不是0）\n",
    "也就是讲label转成，数字0对应label设置为1，表示为数字0；其他数字对应label改为0，表示不是数字0"
   ]
  },
  {
   "cell_type": "code",
   "execution_count": 7,
   "id": "4d3dd487",
   "metadata": {
    "scrolled": false
   },
   "outputs": [
    {
     "name": "stdout",
     "output_type": "stream",
     "text": [
      "(array([0, 0, 0, ..., 0, 0, 0]), array([   13,    18,    32, ..., 59982, 59986, 59998]))\n",
      "train set shape: (784, 60000)\n",
      "train lab shape: (1, 60000)\n",
      "test set shape: (784, 10000)\n",
      "test lab shape: (1, 10000)\n"
     ]
    },
    {
     "data": {
      "text/plain": [
       "<matplotlib.image.AxesImage at 0x7fb2c3706fd0>"
      ]
     },
     "execution_count": 7,
     "metadata": {},
     "output_type": "execute_result"
    },
    {
     "data": {
      "image/png": "[encoded data removed]",
      "text/plain": [
       "<Figure size 432x288 with 1 Axes>"
      ]
     },
     "metadata": {
      "needs_background": "light"
     },
     "output_type": "display_data"
    }
   ],
   "source": [
    "# 将给定num的label改为1\n",
    "def train_setY(num):\n",
    "    label = train_lab.copy()\n",
    "    label[np.where(label != num)] = 10\n",
    "    label[np.where(label == num)] = 1\n",
    "    label[np.where(label == 10)] = 0\n",
    "    return label\n",
    "def test_setY(num):\n",
    "    label = test_lab.copy()\n",
    "    label[np.where(label != num)] = 9\n",
    "    label[np.where(label == num)] = 1\n",
    "    label[np.where(label == 9)] = 0\n",
    "    return label\n",
    "reg_num = 6\n",
    "train_X = train_img.copy().T\n",
    "train_Y = train_setY(reg_num).T\n",
    "index_regnum = np.where(train_Y==1)\n",
    "print(index_regnum)\n",
    "test_X = test_img.copy().T\n",
    "test_Y = test_setY(reg_num).T\n",
    "print(f\"train set shape: {train_X.shape}\")\n",
    "print(f\"train lab shape: {train_Y.shape}\")\n",
    "print(f\"test set shape: {test_X.shape}\")\n",
    "print(f\"test lab shape: {test_Y.shape}\")\n",
    "\n",
    "# show_image(train_X.T, 1)\n",
    "hw0 = train_X.T\n",
    "i = index_regnum[1][0]\n",
    "np.save(f'handwritten{reg_num}.npy', hw0[i])\n",
    "plt.imshow(hw0[i].reshape((28,28)))\n",
    "\n",
    "# # print(train_Y[30])\n",
    "# print(train_Y.shape)\n",
    "# # print(np.where(train_Y==1))\n",
    "# tmp = train_lab.copy().T[:, :limit_train]\n",
    "# len(tmp[np.where(tmp == reg_num)])\n",
    "# "
   ]
  },
  {
   "cell_type": "code",
   "execution_count": 53,
   "id": "1dfeee5b",
   "metadata": {},
   "outputs": [
    {
     "data": {
      "image/png": "[encoded data removed]",
      "text/plain": [
       "<Figure size 432x288 with 1 Axes>"
      ]
     },
     "metadata": {
      "needs_background": "light"
     },
     "output_type": "display_data"
    }
   ],
   "source": [
    "parameters = {\n",
    "    'a+': 1e-2, 'b+': 0,\n",
    "    'a-': 1e-2, 'b-': 0,\n",
    "    'wmax': 1, 'wmin': 0\n",
    "}\n",
    "weight_plus_list = [parameters['wmin']]\n",
    "weight_minus_list = [parameters['wmax']]\n",
    "\n",
    "def weight_plus(w):\n",
    "    delta_w = parameters['a+'] * np.exp(-parameters['b+']*(w-parameters['wmin'])\n",
    "                                             /(parameters['wmax']-parameters['wmin']))\n",
    "    return w+delta_w\n",
    "def weight_minus(w):\n",
    "    delta_w = parameters['a-'] * np.exp(-parameters['b-']*(parameters['wmax']-w)\n",
    "                                             /(parameters['wmax']-parameters['wmin']))\n",
    "    return w-delta_w\n",
    "def equation():\n",
    "    count_num = 0\n",
    "    while True:\n",
    "        weight_plus_list.append(weight_plus(weight_plus_list[-1]))\n",
    "        weight_minus_list.append(weight_minus(weight_minus_list[-1]))\n",
    "        count_num += 1\n",
    "        if weight_plus_list[-1] >= 1:\n",
    "            break\n",
    "        elif count_num == 50:\n",
    "            break\n",
    "        else:\n",
    "            continue\n",
    "\n",
    "    wpl = [0.3*(each - weight_plus_list[0]) / (weight_plus_list[-1]-weight_plus_list[0])-0.2 for each in weight_plus_list]\n",
    "    wml = [0.3*(each - weight_minus_list[-1]) / (weight_minus_list[0]-weight_minus_list[-1])-0.2 for each in weight_minus_list]\n",
    "    \n",
    "    # wpl = [(each - weight_plus_list[0]) / (weight_plus_list[-1]-weight_plus_list[0]) for each in weight_plus_list]\n",
    "    # wml = [(each - weight_minus_list[-1]) / (weight_minus_list[0]-weight_minus_list[-1]) for each in weight_minus_list]\n",
    "    \n",
    "    return np.array(wpl), np.array(wml)\n",
    "# GP, GD = equation()\n",
    "# print(GP)\n",
    "# print(GD)\n",
    "\n",
    "GP_tmp = np.loadtxt(\"wangxin-GP.txt\")\n",
    "GD_tmp = np.loadtxt(\"wangxin-GD.txt\")\n",
    "\n",
    "GP = [0.3*(each-min(GP_tmp))/(max(GP_tmp)-min(GP_tmp))-0.2 for each in GP_tmp]\n",
    "GD = [0.3*(each-min(GD_tmp))/(max(GD_tmp)-min(GD_tmp))-0.2 for each in GD_tmp]\n",
    "\n",
    "# GP = [(each-min(GP_tmp))/(max(GP_tmp)-min(GP_tmp)) for each in GP_tmp]\n",
    "# GD = [(each-min(GD_tmp))/(max(GD_tmp)-min(GD_tmp)) for each in GD_tmp]\n",
    "\n",
    "plt.plot(GP)\n",
    "plt.plot(GD)\n",
    "plt.show()\n",
    "# np.savetxt(f\"GP {parameters['b+']}.txt\", GP)\n",
    "# np.savetxt(f\"GD {parameters['b-']}.txt\", GD)\n",
    "# len(GP)"
   ]
  },
  {
   "cell_type": "code",
   "execution_count": 54,
   "id": "862cc07c",
   "metadata": {},
   "outputs": [],
   "source": [
    "def findGP_num(data, find_array=GP):\n",
    "    diff = abs(data - find_array)\n",
    "    index = np.where(diff == np.min(diff))[0][0]\n",
    "    # print(index)\n",
    "    return find_array[index]\n",
    "\n",
    "def findGD_num(data, find_array=GD):\n",
    "    diff = abs(data - find_array)\n",
    "    index = np.where(diff == np.min(diff))[0][0]\n",
    "    return find_array[index]\n",
    "\n",
    "def each_change(matrix_old, gradw):\n",
    "    matrix_new = matrix_old.copy()\n",
    "    for i in range(matrix_old.shape[0]):\n",
    "        if gradw[i] < 0:\n",
    "            matrix_new[i] = findGP_num(matrix_old[i])\n",
    "        else:\n",
    "            matrix_new[i] = findGD_num(matrix_old[i])\n",
    "    return matrix_new\n",
    "# tmp = np.zeros((10, 1))\n",
    "# each_change(tmp, [0]*len(tmp))"
   ]
  },
  {
   "cell_type": "code",
   "execution_count": 86,
   "id": "1c42b9c1",
   "metadata": {},
   "outputs": [],
   "source": [
    "# 激活函数\n",
    "def sigmoid(z):\n",
    "    s = 1.0 / (1.0 + np.exp(-1.0*z))\n",
    "    return s\n",
    "\n",
    "# 参数初始化\n",
    "def initialize_with_zeros(dim):\n",
    "    w = (-1 + 2*np.random.random((dim, 1)))/10\n",
    "    # w = np.zeros((dim, 1))\n",
    "    b = 0\n",
    "    \n",
    "#     plt.imshow(w.reshape((28,28)))\n",
    "#     plt.pause(1)\n",
    "    \n",
    "    assert(w.shape == (dim, 1))\n",
    "    assert(isinstance(b, float) or isinstance(b, int))\n",
    "    \n",
    "    #######\n",
    "    # w = each_change(w, [-1]*dim)\n",
    "    #######\n",
    "    \n",
    "    return w, b\n",
    "\n",
    "# 向前传播\n",
    "def propagate(w, b, X, Y):\n",
    "    m = X.shape[1]\n",
    "    \n",
    "    A = sigmoid(np.dot(w.T, X) + b)\n",
    "    cost = -(1.0/m) * np.sum(Y * np.log(A) + (1-Y) * np.log(1-A))\n",
    "    \n",
    "    dw = (1.0/m) * np.dot(X, (A-Y).T)\n",
    "    db = (1.0/m) * np.sum(A-Y)\n",
    "\n",
    "    Y_prediction = np.zeros((1, m))\n",
    "    for i in range(A.shape[1]):\n",
    "        if A[0, i] > 0.5:\n",
    "            Y_prediction[0, i] = 1\n",
    "        else:\n",
    "            Y_prediction[0, i] = 0\n",
    "    accu = 100-np.mean(np.abs(Y_prediction-Y))*100\n",
    "    \n",
    "#     print(f\"(A-Y).shape: {(A-Y).shape}\")\n",
    "#     print(f\"X.shape: {X.shape}\")\n",
    "#     print(f\"w.shape: {w.shape}\")\n",
    "#     print(f\"dw.shape: {dw.shape}\")\n",
    "    \n",
    "    assert(dw.shape == w.shape)\n",
    "    assert(db.dtype == float)\n",
    "    cost = np.squeeze(cost)\n",
    "    assert(cost.shape == ())\n",
    "    grads = {\n",
    "        \"dw\": dw,\n",
    "        \"db\": db\n",
    "    }\n",
    "    \n",
    "    return grads, cost, accu\n",
    "\n",
    "# 参数优化\n",
    "def optimize(w, b, X, Y, num_iterations, learning_rate, print_cost=False):\n",
    "    costs = []\n",
    "    accus = []\n",
    "    for i in range(num_iterations):\n",
    "        grads, cost, accu = propagate(w, b, X, Y)\n",
    "        dw = grads[\"dw\"]\n",
    "        db = grads[\"db\"]\n",
    "        \n",
    "        w = w - learning_rate * dw\n",
    "        b = b - learning_rate * db\n",
    "        \n",
    "        #######\n",
    "        # w = each_change(w, dw)\n",
    "        #######\n",
    "\n",
    "        if i%100 == 0:\n",
    "            costs.append(cost)\n",
    "        if i%10 == 0:\n",
    "            accus.append(accu)\n",
    "            \n",
    "#             print(f\"w max:{np.max(w)}, w min:{np.min(w)}\")\n",
    "#             print(f\"dw max:{np.max(dw)}, dw min:{np.min(dw)}\")\n",
    "#         if i == num_iterations/2 or i == num_iterations-1:\n",
    "#             w_tmp = w.copy()\n",
    "#             plt.imshow(w_tmp.reshape((28,28)))\n",
    "#             plt.pause(1)\n",
    "        if print_cost and i%100 == 0:\n",
    "            print(\"Cost after iterations %i: %f\" %(i, cost), end=' ')\n",
    "            print(f\"accu: {accus[-1]}%\")\n",
    "        \n",
    "    params = {\n",
    "        \"w\": w,\n",
    "        \"b\": b\n",
    "    }\n",
    "    grads = {\n",
    "        \"dw\": dw,\n",
    "        \"db\": db\n",
    "    }\n",
    "\n",
    "    # return params, grads, costs\n",
    "    return params, grads, accus\n",
    "\n",
    "# 模型预测\n",
    "def predict(w, b, X):\n",
    "    m = X.shape[1]\n",
    "    Y_prediction = np.zeros((1, m))\n",
    "    w = w.reshape(X.shape[0], 1)\n",
    "    \n",
    "    A = sigmoid(np.dot(w.T, X) + b)\n",
    "    \n",
    "    for i in range(A.shape[1]):\n",
    "        if A[0, i] > 0.5:\n",
    "            Y_prediction[0, i] = 1\n",
    "        else:\n",
    "            Y_prediction[0, i] = 0\n",
    "    assert(Y_prediction.shape == (1, m))\n",
    "    \n",
    "    return Y_prediction"
   ]
  },
  {
   "cell_type": "code",
   "execution_count": 87,
   "id": "59776d07",
   "metadata": {},
   "outputs": [],
   "source": [
    "def model(X_train, Y_train, X_test, Y_test, num_iterations=2000, learning_rate=0.5, print_cost=False):\n",
    "    w, b = initialize_with_zeros(X_train.shape[0])\n",
    "    # parameters, grads, costs= optimize(w, b, X_train, Y_train, num_iterations, learning_rate, print_cost)\n",
    "    parameters, grads, accus= optimize(w, b, X_train, Y_train, num_iterations, learning_rate, print_cost)\n",
    "    w = parameters[\"w\"]\n",
    "    b = parameters[\"b\"]\n",
    "    \n",
    "    Y_prediction_test = predict(w, b, X_test)\n",
    "    Y_prediction_train = predict(w, b, X_train)\n",
    "    \n",
    "    print(\"train accuracy: {}%\".format(100-np.mean(np.abs(Y_prediction_train-Y_train))*100))\n",
    "    print(\"test accuracy: {}%\".format(100-np.mean(np.abs(Y_prediction_test-Y_test))*100))\n",
    "    \n",
    "    d = {\n",
    "        \"accus\": accus,\n",
    "        \"Y_prediction_test\": Y_prediction_test,\n",
    "        \"Y_prediction_train\": Y_prediction_train,\n",
    "        \"w\": w,\n",
    "        \"b\": b,\n",
    "        \"learning_rate\": learning_rate,\n",
    "        \"num_iterations\": num_iterations\n",
    "    }\n",
    "    \n",
    "    return d"
   ]
  },
  {
   "cell_type": "code",
   "execution_count": 88,
   "id": "49e221ce",
   "metadata": {
    "scrolled": false
   },
   "outputs": [
    {
     "name": "stdout",
     "output_type": "stream",
     "text": [
      "Number 6 Recognition:\n",
      "Cost after iterations 0: 0.752490 accu: 40.37333333333334%\n",
      "Cost after iterations 100: 0.134309 accu: 96.04833333333333%\n",
      "Cost after iterations 200: 0.100222 accu: 97.37%\n",
      "Cost after iterations 300: 0.086266 accu: 97.705%\n",
      "Cost after iterations 400: 0.078394 accu: 97.84833333333333%\n",
      "Cost after iterations 500: 0.073228 accu: 97.96%\n",
      "Cost after iterations 600: 0.069524 accu: 98.04166666666667%\n",
      "Cost after iterations 700: 0.066709 accu: 98.09333333333333%\n",
      "Cost after iterations 800: 0.064482 accu: 98.14333333333333%\n",
      "Cost after iterations 900: 0.062666 accu: 98.18666666666667%\n",
      "train accuracy: 98.22166666666666%\n",
      "test accuracy: 98.09%\n"
     ]
    }
   ],
   "source": [
    "# start = time.time()\n",
    "print(f\"Number {reg_num} Recognition:\")\n",
    "d = model(train_X, train_Y, test_X, test_Y, num_iterations=1000, learning_rate=0.05, print_cost=True)\n",
    "# stop = time.time()\n",
    "# print(f\"{stop-start}s\")"
   ]
  },
  {
   "cell_type": "code",
   "execution_count": 93,
   "id": "b9f13f39",
   "metadata": {},
   "outputs": [
    {
     "data": {
      "image/png": "[encoded data removed]",
      "text/plain": [
       "<Figure size 432x288 with 1 Axes>"
      ]
     },
     "metadata": {
      "needs_background": "light"
     },
     "output_type": "display_data"
    }
   ],
   "source": [
    "w = d[\"w\"].copy()\n",
    "plt.imshow(w.reshape((28,28)), cmap='gray')\n",
    "plt.pause(0.1)\n",
    "# np.save(f\"w{reg_num}_wx.npy\", w)\n",
    "np.savetxt(f\"w{reg_num}_wx.txt\", w.reshape((28,28)))\n",
    "# np.save(f\"w{reg_num} {parameters['b+']}.npy\", w)\n",
    "\n",
    "# w.reshape((28,28))"
   ]
  },
  {
   "cell_type": "code",
   "execution_count": 91,
   "id": "b5db77da",
   "metadata": {},
   "outputs": [
    {
     "data": {
      "image/png": "[encoded data removed]",
      "text/plain": [
       "<Figure size 432x288 with 1 Axes>"
      ]
     },
     "metadata": {
      "needs_background": "light"
     },
     "output_type": "display_data"
    },
    {
     "data": {
      "text/plain": [
       "array([[-6.01689394e-02,  0.00000000e+00,  0.00000000e+00,\n",
       "         0.00000000e+00, -9.25790958e-02,  0.00000000e+00,\n",
       "         0.00000000e+00,  0.00000000e+00,  0.00000000e+00,\n",
       "         0.00000000e+00,  0.00000000e+00,  0.00000000e+00,\n",
       "         0.00000000e+00, -7.14803569e-02,  0.00000000e+00,\n",
       "        -5.33370773e-02, -7.88994047e-03, -2.03055461e-03,\n",
       "         0.00000000e+00, -1.36490725e-02,  0.00000000e+00,\n",
       "        -4.20713405e-02,  0.00000000e+00,  0.00000000e+00,\n",
       "        -8.67910511e-02,  0.00000000e+00,  0.00000000e+00,\n",
       "         0.00000000e+00],\n",
       "       [ 0.00000000e+00,  0.00000000e+00,  0.00000000e+00,\n",
       "        -4.94077007e-02, -5.62653467e-02, -7.87045463e-02,\n",
       "         0.00000000e+00,  0.00000000e+00,  0.00000000e+00,\n",
       "        -2.30082497e-02, -2.95378180e-02, -3.12582229e-02,\n",
       "         0.00000000e+00,  0.00000000e+00,  0.00000000e+00,\n",
       "        -3.47795397e-02, -4.46148985e-02, -4.61081811e-02,\n",
       "        -4.32403924e-02,  0.00000000e+00,  0.00000000e+00,\n",
       "        -4.18376188e-02,  0.00000000e+00,  0.00000000e+00,\n",
       "        -8.67809222e-02,  0.00000000e+00,  0.00000000e+00,\n",
       "        -1.46393150e-02],\n",
       "       [ 0.00000000e+00, -5.96714923e-03, -7.93999522e-02,\n",
       "        -6.10716916e-02,  0.00000000e+00, -5.42483628e-02,\n",
       "         0.00000000e+00, -4.46557636e-02,  0.00000000e+00,\n",
       "         0.00000000e+00,  0.00000000e+00, -3.67087517e-02,\n",
       "         0.00000000e+00,  0.00000000e+00,  0.00000000e+00,\n",
       "         0.00000000e+00,  0.00000000e+00, -4.39400360e-03,\n",
       "         0.00000000e+00,  0.00000000e+00,  0.00000000e+00,\n",
       "         0.00000000e+00,  0.00000000e+00, -4.34424715e-02,\n",
       "         0.00000000e+00, -9.15913145e-02,  0.00000000e+00,\n",
       "         0.00000000e+00],\n",
       "       [-3.02327655e-02,  0.00000000e+00,  0.00000000e+00,\n",
       "         0.00000000e+00,  0.00000000e+00, -1.09985975e-03,\n",
       "        -8.40275253e-02,  0.00000000e+00, -7.01433442e-02,\n",
       "         0.00000000e+00,  0.00000000e+00,  0.00000000e+00,\n",
       "         0.00000000e+00,  0.00000000e+00,  0.00000000e+00,\n",
       "         0.00000000e+00,  0.00000000e+00,  0.00000000e+00,\n",
       "         0.00000000e+00,  0.00000000e+00,  0.00000000e+00,\n",
       "         0.00000000e+00, -1.31972282e-02,  0.00000000e+00,\n",
       "        -5.09659422e-02, -3.51523263e-02, -8.50086080e-02,\n",
       "        -7.65219239e-02],\n",
       "       [-4.23476712e-02, -4.43984058e-02,  0.00000000e+00,\n",
       "        -3.32240808e-02, -4.77493383e-02, -7.22703254e-03,\n",
       "         0.00000000e+00,  0.00000000e+00,  0.00000000e+00,\n",
       "        -1.18854587e-01,  0.00000000e+00, -7.80205892e-02,\n",
       "        -9.09036915e-02, -1.00430810e-01, -2.02393173e-03,\n",
       "        -4.05321991e-02,  0.00000000e+00,  0.00000000e+00,\n",
       "         0.00000000e+00,  0.00000000e+00,  0.00000000e+00,\n",
       "         0.00000000e+00,  0.00000000e+00, -3.65484143e-03,\n",
       "        -5.83268708e-02, -9.18747620e-02,  0.00000000e+00,\n",
       "         0.00000000e+00],\n",
       "       [-8.82512105e-02,  0.00000000e+00, -2.29040454e-02,\n",
       "        -5.29002083e-02, -7.81575327e-02,  0.00000000e+00,\n",
       "         0.00000000e+00, -3.56191126e-02, -9.58771678e-02,\n",
       "        -5.28421111e-02, -5.21457268e-02, -2.10585546e-02,\n",
       "        -1.80284003e-01, -5.57265136e-02, -3.84988902e-02,\n",
       "        -2.80505281e-02, -6.86094852e-02,  0.00000000e+00,\n",
       "        -6.08254719e-02,  0.00000000e+00,  0.00000000e+00,\n",
       "         0.00000000e+00, -9.57725299e-02, -1.23901581e-02,\n",
       "         0.00000000e+00,  0.00000000e+00,  0.00000000e+00,\n",
       "        -1.30083911e-02],\n",
       "       [ 0.00000000e+00, -3.48848667e-02, -9.25246541e-02,\n",
       "        -8.43536287e-02,  0.00000000e+00, -7.58716841e-02,\n",
       "         0.00000000e+00, -1.90430039e-02, -8.03671869e-02,\n",
       "        -1.34318537e-01, -4.02203050e-02, -1.90103971e-01,\n",
       "        -1.04204934e-01, -1.41102194e-01, -2.29609106e-01,\n",
       "        -8.86994493e-02, -1.84555707e-01, -1.64342184e-01,\n",
       "        -7.56721771e-02, -1.04911640e-01, -2.10618635e-01,\n",
       "        -9.93752547e-02, -7.89817431e-03, -5.95765822e-02,\n",
       "        -1.12379042e-01, -1.04080468e-01,  0.00000000e+00,\n",
       "        -4.15782218e-02],\n",
       "       [ 0.00000000e+00,  0.00000000e+00, -5.97256884e-02,\n",
       "        -7.16664556e-03,  0.00000000e+00, -2.60784179e-02,\n",
       "        -1.05259856e-01, -8.99698368e-02, -1.63783954e-02,\n",
       "        -1.37774638e-01, -9.77283957e-02, -1.24864710e-01,\n",
       "        -1.34793855e-01, -1.79546770e-01, -2.52060631e-01,\n",
       "        -1.00149280e-01, -1.37953306e-01, -2.62488138e-01,\n",
       "        -1.86624486e-01, -1.95293375e-01, -2.14396125e-01,\n",
       "        -2.75803053e-01, -1.19648031e-01, -7.16464670e-02,\n",
       "        -4.50077553e-02, -7.53874414e-02,  0.00000000e+00,\n",
       "         0.00000000e+00],\n",
       "       [ 0.00000000e+00,  0.00000000e+00,  0.00000000e+00,\n",
       "        -4.91583024e-02, -4.04546975e-02,  0.00000000e+00,\n",
       "         0.00000000e+00, -1.14623277e-02, -1.02665211e-01,\n",
       "        -4.59767788e-02, -1.50718777e-01, -9.69182227e-02,\n",
       "        -6.22583159e-02, -5.87534408e-02, -1.90293334e-01,\n",
       "        -1.67701370e-01, -2.98135456e-01, -3.64471859e-01,\n",
       "        -4.13810864e-01, -3.71781818e-01, -2.28585496e-01,\n",
       "        -2.96006182e-01, -1.05755072e-01, -1.80404115e-01,\n",
       "        -1.42841155e-01, -2.13789339e-02, -1.01376247e-01,\n",
       "        -4.50611387e-02],\n",
       "       [-6.14656369e-02,  0.00000000e+00, -9.83263054e-03,\n",
       "        -1.27078343e-02, -1.43744307e-02,  0.00000000e+00,\n",
       "        -2.86418966e-02, -9.86048745e-02, -5.84080182e-02,\n",
       "        -6.96688277e-03, -1.32859144e-01, -1.44697564e-01,\n",
       "        -1.09173352e-02,  0.00000000e+00, -1.82916281e-01,\n",
       "        -1.26389636e-01, -3.41656779e-01, -3.02804619e-01,\n",
       "        -3.83664173e-01, -4.05410759e-01, -3.11322796e-01,\n",
       "        -1.82406813e-01, -9.56501214e-02, -1.80794744e-01,\n",
       "         0.00000000e+00, -9.54821359e-02,  0.00000000e+00,\n",
       "         0.00000000e+00],\n",
       "       [ 0.00000000e+00, -9.25057828e-02, -4.61625912e-02,\n",
       "        -7.59447814e-03, -9.80205052e-02, -1.20954077e-01,\n",
       "        -3.83064490e-02, -8.33226385e-02,  0.00000000e+00,\n",
       "         0.00000000e+00, -5.75255704e-02, -3.08559270e-02,\n",
       "         0.00000000e+00, -5.13388039e-02, -8.00807645e-02,\n",
       "        -2.53526882e-01, -2.06985020e-01, -3.74707162e-01,\n",
       "        -3.11707712e-01, -2.30750449e-01, -1.62648418e-01,\n",
       "        -9.58563410e-02, -9.47814438e-02,  0.00000000e+00,\n",
       "        -1.26601146e-01, -5.60224416e-02,  0.00000000e+00,\n",
       "        -3.40795679e-02],\n",
       "       [-1.58607124e-02,  0.00000000e+00,  0.00000000e+00,\n",
       "        -8.45603338e-02,  0.00000000e+00, -3.03557776e-02,\n",
       "         0.00000000e+00, -3.30788711e-02, -8.14274071e-03,\n",
       "         0.00000000e+00, -8.80555624e-02,  0.00000000e+00,\n",
       "         0.00000000e+00,  0.00000000e+00, -3.65170100e-02,\n",
       "        -3.28598283e-01, -2.78721417e-01, -9.57412601e-02,\n",
       "        -2.33092830e-01, -1.86677453e-01, -2.54852319e-02,\n",
       "        -7.71619091e-02, -3.00713028e-02,  0.00000000e+00,\n",
       "        -8.61212102e-02, -9.67420992e-02,  0.00000000e+00,\n",
       "        -5.88475369e-02],\n",
       "       [-8.81315582e-02, -2.29183519e-02, -8.15925421e-02,\n",
       "         0.00000000e+00, -7.31130058e-02, -1.22951730e-01,\n",
       "        -4.89911625e-02,  0.00000000e+00,  0.00000000e+00,\n",
       "        -8.21419392e-02, -1.23981814e-03,  0.00000000e+00,\n",
       "         0.00000000e+00,  0.00000000e+00, -1.28799347e-01,\n",
       "        -1.70458704e-01, -8.38180066e-02, -8.65944461e-02,\n",
       "        -9.35675864e-02, -1.18035969e-01, -1.05115073e-02,\n",
       "         0.00000000e+00,  0.00000000e+00,  0.00000000e+00,\n",
       "         0.00000000e+00,  0.00000000e+00, -8.94488445e-02,\n",
       "        -9.17136672e-02],\n",
       "       [-1.31291103e-02, -9.90006488e-02,  0.00000000e+00,\n",
       "         0.00000000e+00, -6.79940550e-02,  0.00000000e+00,\n",
       "        -8.38464787e-02, -7.74534475e-02,  0.00000000e+00,\n",
       "         0.00000000e+00,  0.00000000e+00,  0.00000000e+00,\n",
       "         0.00000000e+00, -1.29151459e-01, -8.46851637e-02,\n",
       "        -2.48338872e-02, -4.86211353e-02,  0.00000000e+00,\n",
       "         0.00000000e+00,  0.00000000e+00,  0.00000000e+00,\n",
       "         0.00000000e+00,  0.00000000e+00,  0.00000000e+00,\n",
       "         0.00000000e+00,  0.00000000e+00, -9.72620079e-02,\n",
       "         0.00000000e+00],\n",
       "       [ 0.00000000e+00,  0.00000000e+00,  0.00000000e+00,\n",
       "        -1.03491669e-01,  0.00000000e+00, -1.10660982e-01,\n",
       "        -1.99020165e-02, -4.71332197e-02,  0.00000000e+00,\n",
       "        -6.44440969e-03,  0.00000000e+00,  0.00000000e+00,\n",
       "         0.00000000e+00, -1.15666273e-01, -1.67129181e-01,\n",
       "         0.00000000e+00,  0.00000000e+00,  0.00000000e+00,\n",
       "        -7.69648306e-02,  0.00000000e+00, -4.13846816e-03,\n",
       "         0.00000000e+00,  0.00000000e+00,  0.00000000e+00,\n",
       "        -3.65882478e-02, -1.23986539e-04, -8.70715942e-02,\n",
       "         0.00000000e+00],\n",
       "       [-5.05771714e-02, -4.33606115e-02, -4.21165097e-02,\n",
       "        -6.42494435e-02, -1.22164867e-01, -1.69909345e-02,\n",
       "        -9.41994644e-02, -4.41148148e-03,  0.00000000e+00,\n",
       "         0.00000000e+00,  0.00000000e+00,  0.00000000e+00,\n",
       "        -3.47095806e-02, -6.16067394e-02,  0.00000000e+00,\n",
       "        -2.31529993e-03,  0.00000000e+00, -5.01838004e-02,\n",
       "        -9.58426713e-02, -4.50887892e-02,  0.00000000e+00,\n",
       "         0.00000000e+00,  0.00000000e+00,  0.00000000e+00,\n",
       "         0.00000000e+00,  0.00000000e+00, -7.94270350e-02,\n",
       "        -2.01381709e-02],\n",
       "       [ 0.00000000e+00,  0.00000000e+00, -6.08009559e-02,\n",
       "        -2.07329210e-02, -6.05752894e-02, -1.13343973e-01,\n",
       "        -5.27399874e-02, -3.55558431e-02, -3.49009135e-02,\n",
       "         0.00000000e+00,  0.00000000e+00,  0.00000000e+00,\n",
       "        -5.72950236e-02, -6.43563218e-02, -5.29978142e-02,\n",
       "        -1.30931597e-01, -1.19687065e-01, -7.63909457e-02,\n",
       "        -1.12260867e-01,  0.00000000e+00,  0.00000000e+00,\n",
       "         0.00000000e+00,  0.00000000e+00, -3.55335661e-03,\n",
       "         0.00000000e+00,  0.00000000e+00,  0.00000000e+00,\n",
       "        -4.76510788e-02],\n",
       "       [-6.61188834e-02,  0.00000000e+00, -4.24907933e-02,\n",
       "        -7.20331304e-02, -1.35635095e-01, -3.30875124e-02,\n",
       "        -2.59444162e-02,  0.00000000e+00,  0.00000000e+00,\n",
       "         0.00000000e+00,  0.00000000e+00,  0.00000000e+00,\n",
       "        -3.27097926e-02,  0.00000000e+00, -1.86130144e-01,\n",
       "        -8.05175417e-02, -1.58095626e-01,  0.00000000e+00,\n",
       "         0.00000000e+00,  0.00000000e+00,  0.00000000e+00,\n",
       "         0.00000000e+00,  0.00000000e+00,  0.00000000e+00,\n",
       "         0.00000000e+00, -9.47101347e-02, -1.89417522e-02,\n",
       "         0.00000000e+00],\n",
       "       [ 0.00000000e+00,  0.00000000e+00, -3.48834737e-02,\n",
       "        -6.21322252e-02,  0.00000000e+00, -1.24712168e-01,\n",
       "        -5.21089634e-02, -7.69523502e-02,  0.00000000e+00,\n",
       "         0.00000000e+00,  0.00000000e+00,  0.00000000e+00,\n",
       "         0.00000000e+00, -1.34438415e-02, -1.51217221e-01,\n",
       "        -1.29635509e-01,  0.00000000e+00,  0.00000000e+00,\n",
       "         0.00000000e+00,  0.00000000e+00,  0.00000000e+00,\n",
       "         0.00000000e+00, -6.63610058e-02, -7.34241651e-02,\n",
       "         0.00000000e+00, -4.81658615e-02, -6.17365432e-02,\n",
       "        -4.28219620e-02],\n",
       "       [-7.90006021e-02,  0.00000000e+00, -6.12268491e-02,\n",
       "        -6.75204871e-02, -1.41730779e-01, -1.95311237e-01,\n",
       "        -1.33655767e-01, -4.63825575e-02, -6.60105262e-02,\n",
       "         0.00000000e+00,  0.00000000e+00,  0.00000000e+00,\n",
       "         0.00000000e+00, -1.13616014e-02,  0.00000000e+00,\n",
       "         0.00000000e+00,  0.00000000e+00,  0.00000000e+00,\n",
       "         0.00000000e+00,  0.00000000e+00, -4.37355608e-02,\n",
       "        -1.04681727e-01,  0.00000000e+00, -1.04511362e-01,\n",
       "        -1.23272371e-01,  0.00000000e+00,  0.00000000e+00,\n",
       "         0.00000000e+00],\n",
       "       [-8.18348905e-02,  0.00000000e+00, -6.53448914e-02,\n",
       "         0.00000000e+00, -1.03524853e-01, -1.03238299e-02,\n",
       "        -2.29614093e-01, -1.68264567e-01, -7.34331596e-02,\n",
       "         0.00000000e+00,  0.00000000e+00,  0.00000000e+00,\n",
       "         0.00000000e+00,  0.00000000e+00,  0.00000000e+00,\n",
       "         0.00000000e+00,  0.00000000e+00,  0.00000000e+00,\n",
       "         0.00000000e+00,  0.00000000e+00, -1.35348442e-02,\n",
       "        -8.85222150e-03, -1.32354005e-01, -9.66090579e-03,\n",
       "        -6.02101680e-02,  0.00000000e+00,  0.00000000e+00,\n",
       "         0.00000000e+00],\n",
       "       [ 0.00000000e+00,  0.00000000e+00,  0.00000000e+00,\n",
       "        -1.70190999e-02, -6.83929142e-02, -7.71855514e-03,\n",
       "        -7.67289670e-02, -1.32329716e-01, -7.69482688e-02,\n",
       "        -5.67759599e-02, -7.24412408e-02,  0.00000000e+00,\n",
       "         0.00000000e+00,  0.00000000e+00,  0.00000000e+00,\n",
       "         0.00000000e+00,  0.00000000e+00,  0.00000000e+00,\n",
       "        -8.91543074e-02,  0.00000000e+00, -8.99052155e-02,\n",
       "        -1.61195337e-02, -9.04676870e-03,  0.00000000e+00,\n",
       "        -5.65246765e-03, -9.28606258e-02, -5.15657048e-02,\n",
       "         0.00000000e+00],\n",
       "       [ 0.00000000e+00, -8.96759982e-02, -5.99147115e-02,\n",
       "         0.00000000e+00,  0.00000000e+00, -2.32803692e-02,\n",
       "        -7.08500773e-02, -2.24145858e-01, -2.13196292e-01,\n",
       "        -2.37322129e-01, -1.97583706e-01, -9.91292775e-02,\n",
       "        -1.26839702e-01, -9.68648557e-02, -1.58438248e-01,\n",
       "        -1.08644292e-01, -1.44901496e-01, -1.64351076e-01,\n",
       "        -1.90187395e-01, -1.68915748e-01, -1.43710329e-01,\n",
       "        -3.97283902e-02, -1.97822483e-02, -2.25172558e-02,\n",
       "        -6.74072458e-02, -9.07115320e-03,  0.00000000e+00,\n",
       "        -7.95736584e-03],\n",
       "       [-1.09062025e-02,  0.00000000e+00,  0.00000000e+00,\n",
       "        -3.74825999e-02,  0.00000000e+00, -9.03098560e-02,\n",
       "        -1.24657668e-01, -1.41247080e-01, -4.70480199e-02,\n",
       "        -1.18614541e-01, -2.61500079e-01, -2.67764429e-01,\n",
       "        -3.45529914e-01, -1.92066731e-01, -3.54267455e-01,\n",
       "        -1.91479983e-01, -2.77278787e-01, -8.31409214e-02,\n",
       "        -2.83437923e-02, -1.53450288e-02, -1.38564905e-01,\n",
       "         0.00000000e+00,  0.00000000e+00, -1.70516606e-02,\n",
       "        -7.23178941e-02, -1.78357024e-02, -4.62198317e-03,\n",
       "        -5.09279601e-02],\n",
       "       [ 0.00000000e+00, -9.49166083e-02, -4.85010609e-02,\n",
       "        -1.03636313e-03,  0.00000000e+00, -7.21911575e-03,\n",
       "        -7.42066501e-02, -4.04269235e-02,  0.00000000e+00,\n",
       "        -7.01877252e-03, -3.53099078e-02, -3.71719926e-02,\n",
       "        -1.55744438e-01, -8.15788660e-02, -4.49403714e-02,\n",
       "        -1.65220399e-01, -3.19298347e-02, -8.66888263e-02,\n",
       "        -4.73636833e-03,  0.00000000e+00,  0.00000000e+00,\n",
       "         0.00000000e+00, -7.08375575e-02, -7.23897080e-02,\n",
       "         0.00000000e+00,  0.00000000e+00,  0.00000000e+00,\n",
       "        -5.38562911e-02],\n",
       "       [ 0.00000000e+00,  0.00000000e+00, -1.05351409e-02,\n",
       "        -7.74852330e-02,  0.00000000e+00,  0.00000000e+00,\n",
       "        -5.43111850e-02,  0.00000000e+00,  0.00000000e+00,\n",
       "        -1.16580250e-01, -1.14310049e-01, -9.89707038e-03,\n",
       "        -1.04771694e-01, -7.40433618e-02,  0.00000000e+00,\n",
       "        -8.78262743e-02, -7.19850374e-02,  0.00000000e+00,\n",
       "        -4.49323937e-02, -6.24805503e-02,  0.00000000e+00,\n",
       "        -5.43882458e-02, -4.11003445e-02,  0.00000000e+00,\n",
       "         0.00000000e+00, -8.59923483e-02,  0.00000000e+00,\n",
       "        -7.16818914e-02],\n",
       "       [-5.90582087e-02, -3.92113003e-02,  0.00000000e+00,\n",
       "         0.00000000e+00,  0.00000000e+00, -1.98776576e-02,\n",
       "        -7.89344850e-02,  0.00000000e+00,  0.00000000e+00,\n",
       "         0.00000000e+00,  0.00000000e+00, -9.82469461e-02,\n",
       "        -2.71101935e-02,  0.00000000e+00, -2.99768428e-02,\n",
       "         0.00000000e+00, -1.91180193e-02,  0.00000000e+00,\n",
       "        -9.97918219e-03, -7.26044920e-02, -7.69680410e-02,\n",
       "         0.00000000e+00, -2.50246277e-03, -4.65404581e-02,\n",
       "         0.00000000e+00,  0.00000000e+00, -5.29015663e-02,\n",
       "        -9.40295189e-02],\n",
       "       [-7.56408093e-02, -7.46766778e-03,  0.00000000e+00,\n",
       "        -9.85236631e-02, -8.79368501e-02,  0.00000000e+00,\n",
       "        -6.90117625e-02,  0.00000000e+00,  0.00000000e+00,\n",
       "        -8.10765376e-02, -6.05288917e-02, -8.59932362e-02,\n",
       "         0.00000000e+00,  0.00000000e+00,  0.00000000e+00,\n",
       "         0.00000000e+00,  0.00000000e+00, -7.30055603e-02,\n",
       "         0.00000000e+00,  0.00000000e+00, -7.77015084e-02,\n",
       "         0.00000000e+00, -6.43335732e-02, -8.93372466e-02,\n",
       "        -1.32410946e-02, -6.37142417e-02, -9.09217762e-02,\n",
       "         0.00000000e+00]])"
      ]
     },
     "execution_count": 91,
     "metadata": {},
     "output_type": "execute_result"
    }
   ],
   "source": [
    "# tmp = np.zeros((w.shape[0], 1))\n",
    "# # tmp.shape\n",
    "# index = np.where(w<0)\n",
    "# tmp[index] = w[index]\n",
    "# plt.imshow(tmp.reshape((28,28)), cmap='gray')\n",
    "# plt.pause(0.1)\n",
    "# tmp.reshape((28,28))"
   ]
  },
  {
   "cell_type": "code",
   "execution_count": 94,
   "id": "b0ebfd1e",
   "metadata": {},
   "outputs": [
    {
     "data": {
      "image/png": "[encoded data removed]",
      "text/plain": [
       "<Figure size 432x288 with 1 Axes>"
      ]
     },
     "metadata": {
      "needs_background": "light"
     },
     "output_type": "display_data"
    }
   ],
   "source": [
    "# print(w.reshape((28,28)))\n",
    "accus = d[\"accus\"].copy()\n",
    "plt.plot(accus)\n",
    "plt.ylim(20, 100)\n",
    "# np.savetxt(f\"accu{reg_num}_{parameters['b+']}.txt\", accus)\n",
    "# np.savetxt(f\"accu{reg_num}_wx.txt\", accus)\n",
    "np.savetxt(f\"accu{reg_num}_ideal.txt\", accus)"
   ]
  },
  {
   "cell_type": "code",
   "execution_count": 95,
   "id": "c0073420",
   "metadata": {},
   "outputs": [
    {
     "data": {
      "image/png": "[encoded data removed]",
      "text/plain": [
       "<Figure size 432x288 with 1 Axes>"
      ]
     },
     "metadata": {
      "needs_background": "light"
     },
     "output_type": "display_data"
    }
   ],
   "source": [
    "wx_accu = np.loadtxt('accu6_wx.txt')\n",
    "non_accu = np.loadtxt('accu6_0.txt')\n",
    "ideal_accu = np.loadtxt('accu6_ideal.txt')\n",
    "plt.plot(wx_accu, label='wx')\n",
    "plt.plot(non_accu, label='non')\n",
    "plt.plot(ideal_accu, label='ideal')\n",
    "plt.ylim(85, 100)\n",
    "plt.legend()\n",
    "plt.show()"
   ]
  },
  {
   "cell_type": "code",
   "execution_count": 99,
   "id": "d12d38a7",
   "metadata": {},
   "outputs": [
    {
     "data": {
      "image/png": "[encoded data removed]",
      "text/plain": [
       "<Figure size 432x288 with 1 Axes>"
      ]
     },
     "metadata": {
      "needs_background": "light"
     },
     "output_type": "display_data"
    }
   ],
   "source": [
    "w_tmp = (-1 + 2*np.random.random((784, 1)))/10\n",
    "plt.imshow(w_tmp.reshape((28,28)), cmap='gray')\n",
    "np.savetxt('w_inital.txt', w_tmp.reshape((28,28)))"
   ]
  },
  {
   "cell_type": "code",
   "execution_count": null,
   "id": "dcf2f754",
   "metadata": {},
   "outputs": [],
   "source": []
  }
 ],
 "metadata": {
  "kernelspec": {
   "display_name": "Python 3.8.5 ('base')",
   "language": "python",
   "name": "python3"
  },
  "language_info": {
   "codemirror_mode": {
    "name": "ipython",
    "version": 3
   },
   "file_extension": ".py",
   "mimetype": "text/x-python",
   "name": "python",
   "nbconvert_exporter": "python",
   "pygments_lexer": "ipython3",
   "version": "3.9.12"
  },
  "vscode": {
   "interpreter": {
    "hash": "77f56f57217d58f2637a78f43068bb82a198c4b9b7dc36d7b5b03538627b73d0"
   }
  }
 },
 "nbformat": 4,
 "nbformat_minor": 5
}
