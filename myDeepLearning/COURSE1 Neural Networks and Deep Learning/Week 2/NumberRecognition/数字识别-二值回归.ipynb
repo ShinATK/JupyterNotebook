{
 "cells": [
  {
   "cell_type": "code",
   "execution_count": 3,
   "id": "1c067473",
   "metadata": {},
   "outputs": [],
   "source": [
    "import numpy as np\n",
    "from pathlib import Path\n",
    "import struct\n",
    "import matplotlib.pyplot as plt\n",
    "import copy\n",
    "from tqdm import tqdm\n",
    "import time"
   ]
  },
  {
   "cell_type": "code",
   "execution_count": 4,
   "id": "360c032a",
   "metadata": {},
   "outputs": [],
   "source": [
    "dataset_path = Path(\"./MNIST\")\n",
    "train_img_path = dataset_path/'train-images-idx3-ubyte'\n",
    "train_lab_path = dataset_path/'train-labels-idx1-ubyte'\n",
    "test_img_path = dataset_path/'t10k-images-idx3-ubyte'\n",
    "test_lab_path = dataset_path/'t10k-labels-idx1-ubyte'"
   ]
  },
  {
   "cell_type": "code",
   "execution_count": 5,
   "id": "be122b12",
   "metadata": {},
   "outputs": [],
   "source": [
    "with open(train_img_path, \"rb\") as f:\n",
    "    struct.unpack(\">4i\", f.read(16))\n",
    "    tmp_img = np.fromfile(f, dtype=np.uint8).reshape(-1, 28*28)/255\n",
    "    train_img = tmp_img[:]\n",
    "with open(test_img_path, \"rb\") as f:\n",
    "    struct.unpack(\">4i\", f.read(16))\n",
    "    test_img = np.fromfile(f, dtype=np.uint8).reshape(-1, 28*28)/255\n",
    "with open(train_lab_path, \"rb\") as f:\n",
    "    struct.unpack(\">2i\", f.read(8))\n",
    "    tmp_lab = np.fromfile(f, dtype=np.uint8).reshape(-1, 1)\n",
    "    train_lab = tmp_lab[:]\n",
    "with open(test_lab_path, \"rb\") as f:\n",
    "    struct.unpack(\">2i\", f.read(8))\n",
    "    test_lab = np.fromfile(f, dtype=np.uint8).reshape(-1, 1)\n",
    "# len(train_img)"
   ]
  },
  {
   "cell_type": "code",
   "execution_count": 6,
   "id": "c2ec4ede",
   "metadata": {},
   "outputs": [],
   "source": [
    "# FUNCTION: show_image(index)\n",
    "def show_image(img, index):\n",
    "    plt.imshow(img[index].reshape(28, 28), cmap='gray')\n",
    "    plt.pause(1)\n",
    "    # print(\"label: {}\".format(label[index]))\n",
    "    return 0\n",
    "# show_image(train_img, train_lab, 30)\n",
    "# len(train_lab[np.where(train_lab == 9)])"
   ]
  },
  {
   "cell_type": "code",
   "execution_count": 7,
   "id": "69988d89",
   "metadata": {},
   "outputs": [
    {
     "name": "stdout",
     "output_type": "stream",
     "text": [
      "(60000, 784)\n",
      "(10000, 784)\n",
      "(60000, 1)\n"
     ]
    },
    {
     "data": {
      "text/plain": [
       "array([[5],\n",
       "       [0],\n",
       "       [4],\n",
       "       ...,\n",
       "       [5],\n",
       "       [6],\n",
       "       [8]], dtype=uint8)"
      ]
     },
     "execution_count": 7,
     "metadata": {},
     "output_type": "execute_result"
    }
   ],
   "source": [
    "train_num = train_img.shape[0]\n",
    "test_num = test_img.shape[0]\n",
    "print(train_img.shape)\n",
    "print(test_img.shape)\n",
    "print(train_lab.shape)\n",
    "train_lab"
   ]
  },
  {
   "cell_type": "code",
   "execution_count": 16,
   "id": "4d3dd487",
   "metadata": {
    "scrolled": false
   },
   "outputs": [
    {
     "name": "stdout",
     "output_type": "stream",
     "text": [
      "(array([0, 0, 0, ..., 0, 0, 0], dtype=int64), array([   13,    18,    32, ..., 59982, 59986, 59998], dtype=int64))\n",
      "train set shape: (784, 60000)\n",
      "train lab shape: (1, 60000)\n",
      "test set shape: (784, 10000)\n",
      "test lab shape: (1, 10000)\n"
     ]
    },
    {
     "data": {
      "text/plain": [
       "<matplotlib.image.AxesImage at 0x2a3f3cc1ac0>"
      ]
     },
     "execution_count": 16,
     "metadata": {},
     "output_type": "execute_result"
    },
    {
     "data": {
      "image/png": "[encoded data removed]",
      "text/plain": [
       "<Figure size 432x288 with 1 Axes>"
      ]
     },
     "metadata": {
      "needs_background": "light"
     },
     "output_type": "display_data"
    }
   ],
   "source": [
    "# 将给定num的label改为1\n",
    "def train_setY(num):\n",
    "    label = train_lab.copy()\n",
    "    label[np.where(label != num)] = 10\n",
    "    label[np.where(label == num)] = 1\n",
    "    label[np.where(label == 10)] = 0\n",
    "    return label\n",
    "def test_setY(num):\n",
    "    label = test_lab.copy()\n",
    "    label[np.where(label != num)] = 9\n",
    "    label[np.where(label == num)] = 1\n",
    "    label[np.where(label == 9)] = 0\n",
    "    return label\n",
    "\n",
    "reg_num = 6\n",
    "train_X = train_img.copy().T\n",
    "train_Y = train_setY(reg_num).T\n",
    "index_regnum = np.where(train_Y==1)\n",
    "print(index_regnum)\n",
    "test_X = test_img.copy().T\n",
    "test_Y = test_setY(reg_num).T\n",
    "print(f\"train set shape: {train_X.shape}\")\n",
    "print(f\"train lab shape: {train_Y.shape}\")\n",
    "print(f\"test set shape: {test_X.shape}\")\n",
    "print(f\"test lab shape: {test_Y.shape}\")\n",
    "\n",
    "# show_image(train_X.T, 1)\n",
    "hw0 = train_X.T\n",
    "i = index_regnum[1][0]\n",
    "np.save(f'handwritten{reg_num}.npy', hw0[i])\n",
    "plt.imshow(hw0[i].reshape((28,28)))\n",
    "\n",
    "# # print(train_Y[30])\n",
    "# print(train_Y.shape)\n",
    "# # print(np.where(train_Y==1))\n",
    "# tmp = train_lab.copy().T[:, :limit_train]\n",
    "# len(tmp[np.where(tmp == reg_num)])"
   ]
  },
  {
   "cell_type": "code",
   "execution_count": 79,
   "id": "1dfeee5b",
   "metadata": {},
   "outputs": [
    {
     "data": {
      "image/png": "[encoded data removed]",
      "text/plain": [
       "<Figure size 432x288 with 1 Axes>"
      ]
     },
     "metadata": {
      "needs_background": "light"
     },
     "output_type": "display_data"
    },
    {
     "data": {
      "text/plain": [
       "51"
      ]
     },
     "execution_count": 79,
     "metadata": {},
     "output_type": "execute_result"
    }
   ],
   "source": [
    "# wmax和wmin需要根据使用的电导数据来设定\n",
    "# parameters = {\n",
    "#     'a+': 0.03, 'b+': 2.64,\n",
    "#     'a-': 0.03, 'b-': 2.54,\n",
    "#     'w+max': 1, 'w+min': 0,\n",
    "#     'w-max': 1, 'w-min': 0,\n",
    "# }\n",
    "\n",
    "parameters = {\n",
    "    'a+': 0.01, 'b+': 0,\n",
    "    'a-': 0.01, 'b-': 0,\n",
    "    'wmax': 1, 'wmin': 0\n",
    "}\n",
    "\n",
    "weight_plus_list = [parameters['wmin']]\n",
    "weight_minus_list = [parameters['wmax']]\n",
    "\n",
    "def weight_plus(w):\n",
    "    delta_w = parameters['a+'] * np.exp(-parameters['b+']*(w-parameters['wmin'])\n",
    "                                             /(parameters['wmax']-parameters['wmin']))\n",
    "    return delta_w\n",
    "def weight_minus(w):\n",
    "    delta_w = parameters['a-'] * np.exp(-parameters['b-']*(parameters['wmax']-w)\n",
    "                                             /(parameters['wmax']-parameters['wmin']))\n",
    "    return delta_w\n",
    "def equation():\n",
    "    count_num = 0\n",
    "    while True:\n",
    "        weight_plus_list.append(weight_plus_list[-1]+weight_plus(weight_plus_list[-1]))\n",
    "        weight_minus_list.append(weight_minus_list[-1]-weight_minus(weight_minus_list[-1]))\n",
    "        count_num += 1\n",
    "        if weight_plus_list[-1] >= 1:\n",
    "            break\n",
    "        elif count_num == 50:\n",
    "            break\n",
    "        else:\n",
    "            continue\n",
    "    \n",
    "    # return weight_plus_list, weight_minus_list\n",
    "\n",
    "    # wpl = [0.3*(each - weight_plus_list[0]) / (weight_plus_list[-1]-weight_plus_list[0])-0.2 for each in weight_plus_list]\n",
    "    # wml = [0.3*(each - weight_minus_list[-1]) / (weight_minus_list[0]-weight_minus_list[-1])-0.2 for each in weight_minus_list]\n",
    "    \n",
    "    # wpl = [2*(each - weight_plus_list[0]) / (weight_plus_list[-1]-weight_plus_list[0]) -1 for each in weight_plus_list]\n",
    "    # wml = [2*(each - weight_minus_list[-1]) / (weight_minus_list[0]-weight_minus_list[-1]) -1 for each in weight_minus_list]\n",
    "    \n",
    "    wpl = [(each - weight_plus_list[0]) / (weight_plus_list[-1]-weight_plus_list[0]) for each in weight_plus_list]\n",
    "    wml = [(each - weight_minus_list[-1]) / (weight_minus_list[0]-weight_minus_list[-1]) for each in weight_minus_list]\n",
    "    \n",
    "    return np.array(wpl), np.array(wml)\n",
    "GP, GD = equation()\n",
    "# print(GP)\n",
    "# print(GD)\n",
    "\n",
    "# GP_tmp = np.loadtxt(\"ryx-GP.txt\")\n",
    "# GD_tmp = np.loadtxt(\"ryx-GD.txt\")\n",
    "\n",
    "# GP = [0.3*(each-min(GP_tmp))/(max(GP_tmp)-min(GP_tmp))-0.2 for each in GP_tmp]\n",
    "# GD = [0.3*(each-min(GD_tmp))/(max(GD_tmp)-min(GD_tmp))-0.2 for each in GD_tmp]\n",
    "\n",
    "# GP = [(each-min(GP_tmp))/(max(GP_tmp)-min(GP_tmp)) for each in GP_tmp]\n",
    "# GD = [(each-min(GD_tmp))/(max(GD_tmp)-min(GD_tmp)) for each in GD_tmp]\n",
    "\n",
    "plt.plot(GP)\n",
    "plt.plot(GD)\n",
    "plt.show()\n",
    "# np.savetxt(f\"GP {parameters['b+']}.txt\", GP)\n",
    "# np.savetxt(f\"GD {parameters['b-']}.txt\", GD)\n",
    "len(GP)"
   ]
  },
  {
   "cell_type": "code",
   "execution_count": 73,
   "id": "862cc07c",
   "metadata": {},
   "outputs": [],
   "source": [
    "def findGP_num(data, find_array=GP):\n",
    "    diff = abs(data - find_array)\n",
    "    index = np.where(diff == np.min(diff))[0][0]\n",
    "    # print(index)\n",
    "    return find_array[index]\n",
    "\n",
    "def findGD_num(data, find_array=GD):\n",
    "    diff = abs(data - find_array)\n",
    "    index = np.where(diff == np.min(diff))[0][0]\n",
    "    return find_array[index]\n",
    "\n",
    "def each_change(matrix_old, gradw, learning_rate):\n",
    "    matrix_new = matrix_old.copy()\n",
    "    for i in range(matrix_old.shape[0]):\n",
    "        if gradw[i] < 0:\n",
    "            matrix_new[i] = matrix_old[i] + learning_rate*weight_plus(matrix_old[i])\n",
    "            # matrix_new[i] = findGP_num(matrix_old[i])\n",
    "        else:\n",
    "            # matrix_new[i] = findGD_num(matrix_old[i])\n",
    "            matrix_new[i] = matrix_old[i] - learning_rate*weight_minus(matrix_old[i])\n",
    "    return matrix_new\n",
    "# tmp = np.zeros((10, 1))\n",
    "# each_change(tmp, [0]*len(tmp))"
   ]
  },
  {
   "cell_type": "code",
   "execution_count": 74,
   "id": "1c42b9c1",
   "metadata": {},
   "outputs": [],
   "source": [
    "# 激活函数\n",
    "def sigmoid(z):\n",
    "    s = 1.0 / (1.0 + np.exp(-1.0*z))\n",
    "    return s\n",
    "\n",
    "# 参数初始化\n",
    "def initialize_with_zeros(seed, dim):\n",
    "    np.random.seed(seed)\n",
    "    w = (-1 + 2*np.random.random((dim, 1)))\n",
    "    # w = np.zeros((dim, 1))\n",
    "    b = 0\n",
    "    \n",
    "#     plt.imshow(w.reshape((28,28)))\n",
    "#     plt.pause(1)\n",
    "    \n",
    "    assert(w.shape == (dim, 1))\n",
    "    assert(isinstance(b, float) or isinstance(b, int))\n",
    "    \n",
    "    #######\n",
    "    # w = each_change(w, [0]*dim)\n",
    "    #######\n",
    "    \n",
    "    return w, b\n",
    "\n",
    "# 向前传播\n",
    "def propagate(w, b, X, Y):\n",
    "    m = X.shape[1]\n",
    "    \n",
    "    A = sigmoid(np.dot(w.T, X) + b)\n",
    "    cost = -(1.0/m) * np.sum(Y * np.log(A) + (1-Y) * np.log(1-A))\n",
    "    \n",
    "    dw = (1.0/m) * np.dot(X, (A-Y).T)\n",
    "\n",
    "    db = (1.0/m) * np.sum(A-Y)\n",
    "\n",
    "    Y_prediction = np.zeros((1, m))\n",
    "    for i in range(A.shape[1]):\n",
    "        if A[0, i] > 0.5:\n",
    "            Y_prediction[0, i] = 1\n",
    "        else:\n",
    "            Y_prediction[0, i] = 0\n",
    "    accu = 100 - np.mean(np.abs(Y_prediction-Y)) * 100\n",
    "    \n",
    "#     print(f\"(A-Y).shape: {(A-Y).shape}\")\n",
    "#     print(f\"X.shape: {X.shape}\")\n",
    "#     print(f\"w.shape: {w.shape}\")\n",
    "#     print(f\"dw.shape: {dw.shape}\")\n",
    "    \n",
    "    assert(dw.shape == w.shape)\n",
    "    assert(db.dtype == float)\n",
    "    cost = np.squeeze(cost)\n",
    "    assert(cost.shape == ())\n",
    "    grads = {\n",
    "        \"dw\": dw,\n",
    "        \"db\": db\n",
    "    }\n",
    "    \n",
    "    return grads, cost, accu\n",
    "\n",
    "# 参数优化\n",
    "def optimize(w, b, X, Y, num_iterations, learning_rate, print_cost=False):\n",
    "    costs = []\n",
    "    accus = []\n",
    "    for i in range(num_iterations):\n",
    "        grads, cost, accu = propagate(w, b, X, Y)\n",
    "        dw = grads[\"dw\"]\n",
    "        db = grads[\"db\"]\n",
    "        \n",
    "        # w = w - learning_rate * dw\n",
    "        b = b - learning_rate * db\n",
    "        if b > 1:\n",
    "            b = 1\n",
    "        if b<-1:\n",
    "            b=-1\n",
    "        \n",
    "        #######\n",
    "        w = each_change(w, dw, learning_rate)\n",
    "        w[np.where(w>1)] = 1\n",
    "        w[np.where(w<-1)] = -1\n",
    "        #######\n",
    "\n",
    "        # if i%(num_iterations//10) == 0:\n",
    "        costs.append(cost)\n",
    "        accus.append(accu)\n",
    "            \n",
    "#             print(f\"w max:{np.max(w)}, w min:{np.min(w)}\")\n",
    "#             print(f\"dw max:{np.max(dw)}, dw min:{np.min(dw)}\")\n",
    "#         if i == num_iterations/2 or i == num_iterations-1:\n",
    "#             w_tmp = w.copy()\n",
    "#             plt.imshow(w_tmp.reshape((28,28)))\n",
    "#             plt.pause(1)\n",
    "        if print_cost and i%(num_iterations//10) == 0:\n",
    "            print(\"Cost after iterations %i: %f\" %(i, cost), end=' ')\n",
    "            print(f\"accu: {accus[-1]}%\")\n",
    "        \n",
    "    params = {\n",
    "        \"w\": w,\n",
    "        \"b\": b\n",
    "    }\n",
    "    grads = {\n",
    "        \"dw\": dw,\n",
    "        \"db\": db\n",
    "    }\n",
    "\n",
    "    # return params, grads, costs\n",
    "    return params, grads, accus\n",
    "\n",
    "# 模型预测\n",
    "def predict(w, b, X):\n",
    "    m = X.shape[1]\n",
    "    Y_prediction = np.zeros((1, m))\n",
    "    w = w.reshape(X.shape[0], 1)\n",
    "    \n",
    "    A = sigmoid(np.dot(w.T, X) + b)\n",
    "    \n",
    "    for i in range(A.shape[1]):\n",
    "        if A[0, i] > 0.5:\n",
    "            Y_prediction[0, i] = 1\n",
    "        else:\n",
    "            Y_prediction[0, i] = 0\n",
    "    assert(Y_prediction.shape == (1, m))\n",
    "    \n",
    "    return Y_prediction\n",
    "\n",
    "def model(X_train, Y_train, X_test, Y_test, num_iterations, learning_rate, seed, print_cost=False):\n",
    "    w, b = initialize_with_zeros(seed, X_train.shape[0])\n",
    "    # parameters, grads, costs= optimize(w, b, X_train, Y_train, num_iterations, learning_rate, print_cost)\n",
    "    parameters, grads, accus= optimize(w, b, X_train, Y_train, num_iterations, learning_rate, print_cost)\n",
    "    w = parameters[\"w\"]\n",
    "    b = parameters[\"b\"]\n",
    "    \n",
    "    Y_prediction_test = predict(w, b, X_test)\n",
    "    Y_prediction_train = predict(w, b, X_train)\n",
    "    \n",
    "    print(\"train accuracy: {}%\".format(100-np.mean(np.abs(Y_prediction_train-Y_train))*100))\n",
    "    print(\"test accuracy: {}%\".format(100-np.mean(np.abs(Y_prediction_test-Y_test))*100))\n",
    "    \n",
    "    d = {\n",
    "        \"accus\": accus,\n",
    "        \"Y_prediction_test\": Y_prediction_test,\n",
    "        \"Y_prediction_train\": Y_prediction_train,\n",
    "        \"w\": w,\n",
    "        \"b\": b,\n",
    "        \"learning_rate\": learning_rate,\n",
    "        \"num_iterations\": num_iterations\n",
    "    }\n",
    "    \n",
    "    return d"
   ]
  },
  {
   "cell_type": "code",
   "execution_count": 77,
   "id": "49e221ce",
   "metadata": {
    "scrolled": false
   },
   "outputs": [
    {
     "name": "stdout",
     "output_type": "stream",
     "text": [
      "Number 6 Recognition:\n",
      "Cost after iterations 0: 2.598307 accu: 35.68333333333334%\n",
      "Cost after iterations 50: 0.087359 accu: 97.15833333333333%\n",
      "Cost after iterations 100: 0.074757 accu: 97.58333333333333%\n",
      "Cost after iterations 150: 0.073663 accu: 97.62666666666667%\n",
      "Cost after iterations 200: 0.073284 accu: 97.64%\n",
      "Cost after iterations 250: 0.073275 accu: 97.64%\n",
      "Cost after iterations 300: 0.073275 accu: 97.64%\n",
      "Cost after iterations 350: 0.073275 accu: 97.64%\n",
      "Cost after iterations 400: 0.073275 accu: 97.64%\n",
      "Cost after iterations 450: 0.073275 accu: 97.64%\n",
      "train accuracy: 97.64%\n",
      "test accuracy: 97.52%\n"
     ]
    }
   ],
   "source": [
    "# start = time.time()\n",
    "print(f\"Number {reg_num} Recognition:\")\n",
    "# for i in range(10):\n",
    "#     print(i)\n",
    "#     d = model(train_X, train_Y, test_X, test_Y, seed=i, num_iterations=1, learning_rate=0.01, print_cost=True)\n",
    "d = model(train_X, train_Y, test_X, test_Y, seed=6, num_iterations=500, learning_rate=1, print_cost=True)\n",
    "# stop = time.time()\n",
    "# print(f\"{stop-start}s\")\n",
    "# name = 'ryx'"
   ]
  },
  {
   "cell_type": "code",
   "execution_count": 78,
   "id": "b9f13f39",
   "metadata": {},
   "outputs": [
    {
     "data": {
      "image/png": "[encoded data removed]",
      "text/plain": [
       "<Figure size 432x288 with 1 Axes>"
      ]
     },
     "metadata": {
      "needs_background": "light"
     },
     "output_type": "display_data"
    },
    {
     "name": "stdout",
     "output_type": "stream",
     "text": [
      "[1.]\n",
      "[-1.]\n"
     ]
    }
   ],
   "source": [
    "w = d[\"w\"].copy()\n",
    "plt.imshow(w.reshape((28,28)))\n",
    "plt.pause(0.1)\n",
    "# np.save(f\"w{reg_num}_{name}.npy\", w.reshape((28,28)))\n",
    "print(max(w))\n",
    "print(min(w))"
   ]
  },
  {
   "cell_type": "code",
   "execution_count": 70,
   "id": "b0ebfd1e",
   "metadata": {},
   "outputs": [
    {
     "data": {
      "image/png": "[encoded data removed]",
      "text/plain": [
       "<Figure size 432x288 with 1 Axes>"
      ]
     },
     "metadata": {
      "needs_background": "light"
     },
     "output_type": "display_data"
    }
   ],
   "source": [
    "accus = d[\"accus\"].copy()\n",
    "plt.plot(accus)\n",
    "plt.ylim(0, 100)\n",
    "plt.show()\n",
    "# np.savetxt(f\"accu{reg_num}_{name}.txt\", accus)"
   ]
  },
  {
   "cell_type": "code",
   "execution_count": 71,
   "id": "9e13ceb4",
   "metadata": {},
   "outputs": [
    {
     "data": {
      "image/png": "[encoded data removed]",
      "text/plain": [
       "<Figure size 432x288 with 1 Axes>"
      ]
     },
     "metadata": {
      "needs_background": "light"
     },
     "output_type": "display_data"
    },
    {
     "name": "stdout",
     "output_type": "stream",
     "text": [
      "98.61\n",
      "98.85\n",
      "98.79166666666667\n"
     ]
    }
   ],
   "source": [
    "# accus_qxs = np.loadtxt('accu6_qxs.txt')\n",
    "# accus_wx = np.loadtxt('accu6_wx.txt')\n",
    "# accus_ryx = np.loadtxt('accu6_ryx.txt')\n",
    "\n",
    "# plt.plot(accus_qxs, label='qxs')\n",
    "# plt.plot(accus_wx, label='wx')\n",
    "# plt.plot(accus_ryx, label='ryx')\n",
    "# plt.ylim(95, 100)\n",
    "# plt.legend()\n",
    "# plt.show()\n",
    "# print(max(accus_qxs))\n",
    "# print(max(accus_wx))\n",
    "# print(max(accus_ryx))"
   ]
  },
  {
   "cell_type": "code",
   "execution_count": null,
   "id": "befc25ed",
   "metadata": {},
   "outputs": [],
   "source": []
  }
 ],
 "metadata": {
  "kernelspec": {
   "display_name": "Python 3.8.5 ('base')",
   "language": "python",
   "name": "python3"
  },
  "language_info": {
   "codemirror_mode": {
    "name": "ipython",
    "version": 3
   },
   "file_extension": ".py",
   "mimetype": "text/x-python",
   "name": "python",
   "nbconvert_exporter": "python",
   "pygments_lexer": "ipython3",
   "version": "3.8.5"
  },
  "vscode": {
   "interpreter": {
    "hash": "77f56f57217d58f2637a78f43068bb82a198c4b9b7dc36d7b5b03538627b73d0"
   }
  }
 },
 "nbformat": 4,
 "nbformat_minor": 5
}
