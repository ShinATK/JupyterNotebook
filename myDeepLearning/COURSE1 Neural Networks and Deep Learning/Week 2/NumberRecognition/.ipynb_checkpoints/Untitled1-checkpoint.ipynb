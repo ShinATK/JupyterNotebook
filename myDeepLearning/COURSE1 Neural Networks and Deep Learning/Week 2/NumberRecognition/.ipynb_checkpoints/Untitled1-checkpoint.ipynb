{
 "cells": [
  {
   "cell_type": "code",
   "execution_count": 1,
   "metadata": {},
   "outputs": [],
   "source": [
    "import numpy as np\n",
    "from pathlib import Path\n",
    "import struct\n",
    "import matplotlib.pyplot as plt\n",
    "import copy\n",
    "from tqdm import tqdm"
   ]
  },
  {
   "cell_type": "code",
   "execution_count": 6,
   "metadata": {},
   "outputs": [],
   "source": [
    "dataset_path = Path('./MNIST')\n",
    "train_img_path = dataset_path/'train-images-idx3-ubyte'\n",
    "train_lab_path = dataset_path/'train-labels-idx1-ubyte'\n",
    "test_img_path = dataset_path/'t10k-images-idx3-ubyte'\n",
    "test_lab_path = dataset_path/'t10k-labels-idx1-ubyte'\n",
    "\n",
    "train_num = 60000   # 训练集\n",
    "test_num = 10000    # 测试集\n",
    "\n",
    "# 打开训练集与测试集，并reshape为1*784的一维向量\n",
    "with open(train_img_path, 'rb') as f:\n",
    "    struct.unpack('>4i', f.read(16))\n",
    "    train_img = np.fromfile(f, dtype=np.uint8).reshape(-1, 28*28)/255\n",
    "with open(test_img_path, 'rb') as f:\n",
    "    struct.unpack('>4i', f.read(16))\n",
    "    test_img = np.fromfile(f, dtype=np.uint8).reshape(-1, 28*28)/255\n",
    "with open(train_lab_path, 'rb') as f:\n",
    "    struct.unpack('>2i', f.read(8))\n",
    "    train_lab = np.fromfile(f, dtype=np.uint8)\n",
    "with open(test_lab_path, 'rb') as f:\n",
    "    struct.unpack('>2i', f.read(8))\n",
    "    test_lab = np.fromfile(f, dtype=np.uint8)\n",
    "\n",
    "def show_img(img, index):\n",
    "    plt.imshow(img[index].reshape(28, 28), cmap=\"gray\")\n",
    "    # print(\"label: {}\".format(img[index]))\n",
    "# show_img(train_img, 0)"
   ]
  },
  {
   "cell_type": "code",
   "execution_count": null,
   "metadata": {},
   "outputs": [],
   "source": []
  }
 ],
 "metadata": {
  "kernelspec": {
   "display_name": "Python 3",
   "language": "python",
   "name": "python3"
  },
  "language_info": {
   "codemirror_mode": {
    "name": "ipython",
    "version": 3
   },
   "file_extension": ".py",
   "mimetype": "text/x-python",
   "name": "python",
   "nbconvert_exporter": "python",
   "pygments_lexer": "ipython3",
   "version": "3.8.5"
  }
 },
 "nbformat": 4,
 "nbformat_minor": 4
}
