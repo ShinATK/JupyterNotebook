{
 "cells": [
  {
   "cell_type": "code",
   "execution_count": 1,
   "metadata": {},
   "outputs": [],
   "source": [
    "import numpy as np\n",
    "import matplotlib.pyplot as plt\n",
    "from tqdm import tqdm"
   ]
  },
  {
   "cell_type": "code",
   "execution_count": 2,
   "metadata": {},
   "outputs": [],
   "source": [
    "def show_ori(dataP, dataD):\n",
    "    plt.plot(dataP, label='GP_ori')\n",
    "    plt.plot(dataD, label='GD_ori')\n",
    "    plt.legend()\n",
    "    plt.show()\n",
    "def show_nor(dataP, dataD):\n",
    "    plt.plot(dataP, label='GP_nor')\n",
    "    plt.plot(dataD, label='GD_nor')\n",
    "    plt.legend()\n",
    "    plt.show()"
   ]
  },
  {
   "cell_type": "code",
   "execution_count": 5,
   "metadata": {},
   "outputs": [],
   "source": [
    "name = \"wx\"\n",
    "\n",
    "GP_tmp = np.loadtxt(f\"{name}-GP.txt\")\n",
    "GD_tmp = np.loadtxt(f\"{name}-GD.txt\")\n",
    "# show_ori(GP_tmp, GD_tmp)\n",
    "\n",
    "GP = [(each-min(GP_tmp))/(max(GP_tmp)-min(GP_tmp)) for each in GP_tmp]\n",
    "GD = [(each-min(GD_tmp))/(max(GD_tmp)-min(GD_tmp)) for each in GD_tmp]\n",
    "# show_nor(GP, GD)"
   ]
  },
  {
   "cell_type": "code",
   "execution_count": 11,
   "metadata": {},
   "outputs": [
    {
     "name": "stdout",
     "output_type": "stream",
     "text": [
      "[1.0]\n",
      "[0.0]\n"
     ]
    }
   ],
   "source": [
    "parameters = {\n",
    "    'a+': 0.02, 'b+': 0.24,\n",
    "    'a-': 0.02, 'b-': 0.20,\n",
    "    'wmax': max(GP), 'wmin': min(GP)\n",
    "}\n",
    "weight_plus_list = [parameters['wmin']]\n",
    "weight_minus_list = [parameters['wmax']]\n",
    "\n",
    "def weight_plus(w):\n",
    "    delta_w = parameters['a+'] * np.exp(-parameters['b+']*(w-parameters['wmin'])\n",
    "                                             /(parameters['wmax']-parameters['wmin']))\n",
    "    return w + delta_w\n",
    "def weight_minus(w):\n",
    "    delta_w = parameters['a-'] * np.exp(-parameters['b-']*(parameters['wmax']-w)\n",
    "                                             /(parameters['wmax']-parameters['wmin']))\n",
    "    return w - delta_w\n",
    "\n",
    "print(weight_minus_list)\n",
    "print(weight_plus_list)"
   ]
  },
  {
   "cell_type": "code",
   "execution_count": 13,
   "metadata": {},
   "outputs": [
    {
     "name": "stdout",
     "output_type": "stream",
     "text": [
      "[0.0, 0.02, 0.03990423003180195, 0.05971360399886122, 0.07942902277484191, 0.09905137445028282, 0.11858153457345119, 0.13802036638554788, 0.15736872105042216, 0.17662743787894944, 0.19579734454821987, 0.21487925731568147, 0.23387398122837627, 0.2527823103274041, 0.27160502784774404, 0.2903429064135592, 0.3089967082291075, 0.3275671852653758, 0.34605507944255237, 0.3644611228084484, 0.3827860377129763, 0.4010305369787887, 0.41919532406817894, 0.4372810932463415, 0.45528852974108674, 0.4732183098991022, 0.49107110133884974, 0.5088475631001851, 0.5265483457907837, 0.5441740917294543, 0.5617254350864197, 0.5792030020206408, 0.596607410814259, 0.6139392720042292, 0.6311991885112125, 0.6483877557657991, 0.6655055618321248, 0.6825531875289474, 0.6995312065482445, 0.7164401855713938, 0.7332806843829942, 0.7500532559823861, 0.7667584466929249, 0.7833967962690632, 0.7999688380012939, 0.8164750988190047, 0.8329160993912944, 0.8492923542257989, 0.8656043717655741, 0.8818526544840815, 0.8980376989783198, 0.9141599960601479, 0.9302200308458395, 0.9462182828439105, 0.96215522604126, 0.9780313289876625, 0.99384705487865, 1.0096028616368193]\n",
      "[1.0, 0.98, 0.9600798402131202, 0.9402388850976915, 0.9204765066754678, 0.9007920844120273, 0.8811850050995301, 0.8616546627417754, 0.8422004584415044, 0.8228218002898982, 0.8035181032582172, 0.7842887890915337, 0.7651332862045094, 0.7460510295791701, 0.7270414606646323, 0.7081040272787369, 0.6892381835115473, 0.6704433896306683, 0.6517191119883459, 0.6330648229303074, 0.6144800007063035, 0.5959641293823127, 0.5775166987543737, 0.5591372042640068, 0.5408251469151915, 0.522580033192865, 0.5044013749829086, 0.4862886894935892, 0.4682414991784246, 0.4502593316604415, 0.4323417196577964, 0.4144882009107297, 0.3966983181098248, 0.378971618825544, 0.36130765543901394, 0.3437059850740349, 0.32616616953028665, 0.3086877752177072, 0.2912703730920185, 0.27391353859137607, 0.25661685157411873, 0.2393798962575952, 0.22220226115804623, 0.20508353903151955, 0.1880233268157969, 0.17102122557331229, 0.15407684043504133, 0.13718978054534162, 0.12035965900772518, 0.10358609283154402, 0.0868687028795704, 0.07020711381645373, 0.05360095405803683, 0.037049855721514216, 0.020553454576415643, 0.0041113899963987136, -0.012276695088165531, -0.028611154236829618]\n"
     ]
    }
   ],
   "source": [
    "def equation():\n",
    "    count_num = 0\n",
    "    while True:\n",
    "        weight_plus_list.append(weight_plus(weight_plus_list[-1]))\n",
    "        weight_minus_list.append(weight_minus(weight_minus_list[-1]))\n",
    "        count_num += 1\n",
    "        if weight_plus_list[-1] >= 1:\n",
    "            break\n",
    "        elif count_num == 50:\n",
    "            break\n",
    "        else:\n",
    "            continue\n",
    "    \n",
    "    return weight_plus_list, weight_minus_list\n",
    "GP, GD = equation()\n",
    "# show_nor(GP, GD)\n",
    "print(GP)\n",
    "print(GD)"
   ]
  },
  {
   "cell_type": "code",
   "execution_count": null,
   "metadata": {},
   "outputs": [],
   "source": []
  }
 ],
 "metadata": {
  "kernelspec": {
   "display_name": "Python 3",
   "language": "python",
   "name": "python3"
  },
  "language_info": {
   "codemirror_mode": {
    "name": "ipython",
    "version": 3
   },
   "file_extension": ".py",
   "mimetype": "text/x-python",
   "name": "python",
   "nbconvert_exporter": "python",
   "pygments_lexer": "ipython3",
   "version": "3.9.12"
  }
 },
 "nbformat": 4,
 "nbformat_minor": 4
}
